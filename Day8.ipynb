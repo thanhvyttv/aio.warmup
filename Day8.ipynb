{
 "cells": [
  {
   "cell_type": "code",
   "execution_count": 2,
   "metadata": {},
   "outputs": [],
   "source": [
    "my_tuple1 = (2, 3)\n",
    "my_tuple2 = (3, 6)"
   ]
  },
  {
   "cell_type": "code",
   "execution_count": 11,
   "metadata": {},
   "outputs": [
    {
     "name": "stdout",
     "output_type": "stream",
     "text": [
      "Result_vector1=(5, 6), Result_vector2=(9, 18)\n"
     ]
    }
   ],
   "source": [
    "def sum_product(tuple):\n",
    "    sum = 0\n",
    "    product = 1\n",
    "    for i in range(len(tuple)):\n",
    "        sum += tuple[i]\n",
    "        product *= tuple[i]\n",
    "    return sum, product\n",
    "\n",
    "sum1, product1 = sum_product(my_tuple1)\n",
    "sum2, product2 = sum_product(my_tuple2)\n",
    "print(f'Result_vector1={sum1, product1}, Result_vector2={sum2, product2}')"
   ]
  },
  {
   "cell_type": "code",
   "execution_count": 12,
   "metadata": {},
   "outputs": [
    {
     "name": "stdout",
     "output_type": "stream",
     "text": [
      "Distance is 3.1622776601683795\n"
     ]
    }
   ],
   "source": [
    "import math\n",
    "distance = math.sqrt((my_tuple1[0] - my_tuple2[0])**2 + (my_tuple1[1] - my_tuple2[1])**2)\n",
    "print(f'Distance is {distance}')"
   ]
  },
  {
   "cell_type": "code",
   "execution_count": 13,
   "metadata": {},
   "outputs": [
    {
     "name": "stdout",
     "output_type": "stream",
     "text": [
      "index = (1, 0)\n"
     ]
    }
   ],
   "source": [
    "index = (my_tuple1.index(3), my_tuple2.index(3))\n",
    "print(f'index = {index}')"
   ]
  },
  {
   "cell_type": "code",
   "execution_count": 14,
   "metadata": {},
   "outputs": [
    {
     "name": "stdout",
     "output_type": "stream",
     "text": [
      "Tôi thích môn Toán Tôi thích AI Tôi thích âm nhạc\n"
     ]
    }
   ],
   "source": [
    "corpus = [\"Tôi thích môn Toán\", \"Tôi thích AI\", \"Tôi thích âm nhạc\"]\n",
    "\n",
    "data = ' '.join(corpus)\n",
    "print(data)"
   ]
  },
  {
   "cell_type": "code",
   "execution_count": 18,
   "metadata": {},
   "outputs": [
    {
     "name": "stdout",
     "output_type": "stream",
     "text": [
      "0 AI\n",
      "1 Toán\n",
      "2 Tôi\n",
      "3 môn\n",
      "4 nhạc\n",
      "5 thích\n",
      "6 âm\n"
     ]
    }
   ],
   "source": [
    "# Bag of word\n",
    "distinct_words = list(set(data.split()))\n",
    "length = len(distinct_words)\n",
    "\n",
    "distinct_words.sort()\n",
    "\n",
    "for i, word in enumerate(distinct_words):\n",
    "    print(i, word)\n"
   ]
  },
  {
   "cell_type": "code",
   "execution_count": 23,
   "metadata": {},
   "outputs": [
    {
     "name": "stdout",
     "output_type": "stream",
     "text": [
      "[1, 1, 1, 0, 0, 2, 0]\n"
     ]
    }
   ],
   "source": [
    "# Vectorization\n",
    "text = 'Tôi thích AI thích Toán'\n",
    "text_vec = [0]*length\n",
    "text_words = text.split()\n",
    "\n",
    "for word in text_words:\n",
    "    text_vec[distinct_words.index(word)] += 1\n",
    "\n",
    "print(text_vec)"
   ]
  },
  {
   "cell_type": "code",
   "execution_count": 26,
   "metadata": {},
   "outputs": [
    {
     "name": "stdout",
     "output_type": "stream",
     "text": [
      "Vị trí None đầu tiên: 2\n",
      "Danh sách vị trí có giá trị None: [2, 4, 6]\n"
     ]
    }
   ],
   "source": [
    "lst_data = [1, 1.1, None, 1.4, None, 1.5, None, 2.0]\n",
    "\n",
    "# Find the first None's index:\n",
    "for index, data in enumerate(lst_data):\n",
    "    if data == None:\n",
    "        print(f'Vị trí None đầu tiên: {index}')\n",
    "        break\n",
    "\n",
    "# Find all indexes of None\n",
    "idx_lst = []\n",
    "for index, data in enumerate(lst_data):\n",
    "    if data == None:\n",
    "        idx_lst.append(index)\n",
    "\n",
    "print(f'Danh sách vị trí có giá trị None: {idx_lst}')"
   ]
  },
  {
   "cell_type": "code",
   "execution_count": 27,
   "metadata": {},
   "outputs": [
    {
     "name": "stdout",
     "output_type": "stream",
     "text": [
      "[1, 1.1, 1.1, 1.4, 1.4, 1.5, 1.5, 2.0]\n"
     ]
    }
   ],
   "source": [
    "for index, data in enumerate(lst_data):\n",
    "    if data == None:\n",
    "        if lst_data[index - 1] != None and lst_data[index + 1] != None:\n",
    "            if lst_data[index - 1] <= lst_data[index + 1]:\n",
    "                lst_data[index] = lst_data[index - 1]\n",
    "            else:\n",
    "                lst_data[index] = lst_data[index + 1]\n",
    "        elif lst_data[index - 1] == None and lst_data[index + 1] != None:\n",
    "            lst_data[index] = lst_data[index + 1]\n",
    "        else:\n",
    "            lst_data[index] = lst_data[index - 1]\n",
    "\n",
    "print(lst_data)"
   ]
  },
  {
   "cell_type": "code",
   "execution_count": null,
   "metadata": {},
   "outputs": [],
   "source": [
    "lst_data = [[1,2,3],\n",
    "            [4,5,6],\n",
    "            [7,8,9]]\n",
    "lst_sub_data = []\n",
    "for row in lst_data:\n",
    "    row_sub = [row[0], row[2]]\n",
    "    lst_sub_data.append(row_sub)\n",
    "print(lst_data)\n",
    "print(lst_sub_data)\n"
   ]
  },
  {
   "cell_type": "code",
   "execution_count": null,
   "metadata": {},
   "outputs": [],
   "source": [
    "lst_sub_data = [[lst_data[i][0],lst_data[i][2]]\n",
    "                 for i in range(len(lst_data))]\n",
    "print(lst_sub_data)"
   ]
  },
  {
   "cell_type": "code",
   "execution_count": null,
   "metadata": {},
   "outputs": [],
   "source": [
    "mat_a = [[1,2,3],[4,5,6],[7,8,9]]\n",
    "mat_b = [[2,4,6],[1,3,5],[1,0,1]]\n",
    "\n",
    "mat_sum, mat_sub = [], []\n",
    "for i in range(len(mat_a)):\n",
    "    cal_sum, cal_sub =[], []\n",
    "    for j in range(len(mat_a)):\n",
    "        cal_sum.append(mat_a[i][j]+mat_b[i][j])\n",
    "        cal_sub.append(mat_a[i][j]-mat_b[i][j])\n",
    "    mat_sum.append(cal_sum)\n",
    "    mat_sub.append(cal_sub)\n",
    "print(f\"Tổng 2 ma trận = {mat_sum}\")\n",
    "print(f\"Hiệu 2 ma trận = {mat_sub}\")"
   ]
  },
  {
   "cell_type": "code",
   "execution_count": null,
   "metadata": {},
   "outputs": [],
   "source": [
    "dot_product = []\n",
    "for i in range(len(mat_a)):\n",
    "    cal_dot = []\n",
    "    for j in range(len(mat_a)):\n",
    "        sum_dot = 0\n",
    "        for k in range(len(mat_a)):\n",
    "            sum_dot += mat_a[i][k] * mat_b[k][j]\n",
    "        cal_dot.append(sum_dot)\n",
    "    dot_product.append(cal_dot)\n",
    "print(f\"Dot Product = {dot_product}\")"
   ]
  },
  {
   "cell_type": "code",
   "execution_count": null,
   "metadata": {},
   "outputs": [],
   "source": [
    "stop_words = [\"I\", \"love\", \"and\", \"to\"]\n",
    "input = \"I love AI and listen to music\"\n",
    "\n",
    "lst_splitted_words = input.split()\n",
    "output = [word for word in lst_splitted_words if word not in stop_words]\n",
    "print(output)"
   ]
  },
  {
   "cell_type": "code",
   "execution_count": null,
   "metadata": {},
   "outputs": [],
   "source": [
    "def normalize(lst_data):\n",
    "    max_value = max(lst_data)\n",
    "    min_value = min(lst_data)\n",
    "    return [(x-min_value)/(max_value-min_value) for x in lst_data]\n",
    "\n",
    "test_cases = [\n",
    "    [11, 18, 24, 30, 36],\n",
    "    [50, 100, 150, 200, 250],\n",
    "    [3, 5, 7, 9, 11]\n",
    "]\n",
    "\n",
    "for i , test in enumerate (test_cases) :\n",
    "    result = normalize(test)\n",
    "    print(f\" Test {i +1}: { result}\")"
   ]
  },
  {
   "cell_type": "code",
   "execution_count": null,
   "metadata": {},
   "outputs": [],
   "source": [
    "def sum_window(lst_data):\n",
    "    result = 0\n",
    "    for item in lst_data:\n",
    "        result += item\n",
    "    return result\n",
    "\n",
    "def moving_average(lst_data, k):\n",
    "    moving_avg = []\n",
    "    for i in range(len(lst_data) - k + 1):\n",
    "        window = lst_data[i:i+k]\n",
    "        total = sum_window(window)\n",
    "        avg = total / k\n",
    "        moving_avg.append(avg)\n",
    "    return moving_avg\n"
   ]
  },
  {
   "cell_type": "code",
   "execution_count": null,
   "metadata": {},
   "outputs": [],
   "source": [
    "test_cases = [\n",
    "    ([1, 2, 3, 4, 5, 6, 7, 8, 9], 3),\n",
    "    ([10, 20, 30, 40, 50, 60, 70], 4),\n",
    "    ([5, 10, 15, 20, 25], 2)\n",
    "]\n",
    "\n",
    "for i, (test, k) in enumerate(test_cases):\n",
    "    result = moving_average(test, k)\n",
    "    print(f\"Test {i+1}: {result}\")"
   ]
  },
  {
   "cell_type": "code",
   "execution_count": null,
   "metadata": {},
   "outputs": [],
   "source": [
    "def dot_product(vec1, vec2):\n",
    "    result = 0\n",
    "    for i in range(len(vec1)):\n",
    "        result += vec1[i] * vec2[i]\n",
    "    return result\n",
    "\n",
    "test_cases = [\n",
    "    ([1, 2, 3], [4, 5, 6]),\n",
    "    ([2, 4, 6], [1, 3, 5]),\n",
    "    ([0, 1, 2], [3, 4, 5])\n",
    "]\n",
    "\n",
    "for i, (v1, v2) in enumerate(test_cases):\n",
    "    result = dot_product(v1, v2)\n",
    "    print(f\"Test {i+1}: {result}\")"
   ]
  },
  {
   "cell_type": "code",
   "execution_count": null,
   "metadata": {},
   "outputs": [],
   "source": [
    "def relu(x):\n",
    "    if x > 0:\n",
    "        return x\n",
    "    else:\n",
    "        return 0\n",
    "\n",
    "def simple_perceptron(lst_weight, inputs, bias):\n",
    "    # Calculate weighted sum\n",
    "    weighted_sum = 0\n",
    "    for i in range(len(lst_weight)):\n",
    "        weighted_sum += lst_weight[i] * inputs[i]\n",
    "    weighted_sum += bias\n",
    "    return relu(weighted_sum)"
   ]
  },
  {
   "cell_type": "code",
   "execution_count": null,
   "metadata": {},
   "outputs": [],
   "source": [
    "test_cases = [\n",
    "    ([0.5, -0.6, 0.8], [1.0, 0.0, 1.0], -0.3),\n",
    "    ([0.2, 0.5, -0.4], [1.0, 2.0, -1.0], 0.1),\n",
    "    ([1.0, -1.0, 0.5], [0.5, 1.0, -0.5], -0.2)\n",
    "]\n",
    "\n",
    "for i, (weights, inputs, bias) in enumerate(test_cases):\n",
    "    result = simple_perceptron(weights, inputs, bias)\n",
    "    print(f\"Test {i+1}: {result}\")"
   ]
  }
 ],
 "metadata": {
  "kernelspec": {
   "display_name": "Python 3",
   "language": "python",
   "name": "python3"
  },
  "language_info": {
   "codemirror_mode": {
    "name": "ipython",
    "version": 3
   },
   "file_extension": ".py",
   "mimetype": "text/x-python",
   "name": "python",
   "nbconvert_exporter": "python",
   "pygments_lexer": "ipython3",
   "version": "3.11.9"
  }
 },
 "nbformat": 4,
 "nbformat_minor": 2
}
