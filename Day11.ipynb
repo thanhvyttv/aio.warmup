{
 "cells": [
  {
   "cell_type": "code",
   "execution_count": 28,
   "metadata": {},
   "outputs": [
    {
     "data": {
      "text/plain": [
       "[[29, 39], [59, 69]]"
      ]
     },
     "execution_count": 28,
     "metadata": {},
     "output_type": "execute_result"
    }
   ],
   "source": [
    "# Convolutional calculation\n",
    "mat_a = [[1,2,3], [4,5,6], [7,8,9]]\n",
    "kernal_b = [[2,4], [1,3]]\n",
    "\n",
    "def cal_convolutional(mat, kernal):\n",
    "    if not mat or not kernal:\n",
    "        return []\n",
    "    \n",
    "    num_of_rows = len(mat) - len(kernal) + 1\n",
    "    num_of_cols = len(mat[0]) - len(kernal[0]) + 1\n",
    "    \n",
    "    if num_of_cols <= 0 or num_of_rows <= 0:\n",
    "        return []\n",
    "    \n",
    "    result = []\n",
    "    for i in range(num_of_rows):\n",
    "        row = []\n",
    "        for j in range(num_of_cols):\n",
    "            sum = 0\n",
    "            for k in range(len(kernal)):\n",
    "                for l in range(len(kernal[0])):\n",
    "                    sum += mat[i+k][j+l] * kernal[k][l]\n",
    "            row.append(sum)\n",
    "        result.append(row)\n",
    "\n",
    "    return result\n",
    "\n",
    "cal_convolutional(mat_a, kernal_b)"
   ]
  },
  {
   "cell_type": "code",
   "execution_count": 27,
   "metadata": {},
   "outputs": [
    {
     "data": {
      "text/plain": [
       "[[30]]"
      ]
     },
     "execution_count": 27,
     "metadata": {},
     "output_type": "execute_result"
    }
   ],
   "source": [
    "kernal_c = [[1,1,1], [0,0,0], [1,1,1]]\n",
    "cal_convolutional(mat_a, kernal_c)"
   ]
  },
  {
   "cell_type": "code",
   "execution_count": null,
   "metadata": {},
   "outputs": [
    {
     "name": "stdout",
     "output_type": "stream",
     "text": [
      "[[0, 0, 0, 0, 0], [0, 0, 0, 0, 0], [0, 0, 4, 0, 0], [0, 0, 1, 0, 0], [0, 0, 0, 0, 0]]\n",
      "[[0, 0, 0, 0], [0, 4, 4, 0], [0, 5, 5, 0], [0, 1, 1, 0]]\n",
      "[[0, 4, 0], [0, 5, 0], [0, 5, 0]]\n"
     ]
    }
   ],
   "source": [
    "#Zero padding\n",
    "\n",
    "def zero_padding(mat, pad_size):\n",
    "    if not mat:\n",
    "        return []\n",
    "    num_of_rows = len(mat)\n",
    "    num_of_cols = len(mat[0])\n",
    "\n",
    "    #Create new padded matrix with zero\n",
    "    padded_rows = num_of_rows + 2 * pad_size\n",
    "    padded_cols = num_of_cols + 2 * pad_size\n",
    "    padded = [[0]*padded_cols for _ in range(padded_rows)]\n",
    "\n",
    "    for i in range(num_of_rows):\n",
    "        for j in range(num_of_cols):\n",
    "            padded[i + pad_size][j + pad_size] = mat[i][j]\n",
    "    return padded\n",
    "\n",
    "\n",
    "mat_a2 = [[0,0,0],[0,4,0],[0,1,0]]\n",
    "kernal_b2 = [[1,1], [1,1]]\n",
    "kernal_c2 = [[0,1,0], [0,1,0], [0,1,0]]\n",
    "padded_mat_a2 = zero_padding(mat_a2, 1)\n",
    "print(padded_mat_a2)\n",
    "print(cal_convolutional(padded_mat_a2, kernal_b2))\n",
    "print(cal_convolutional(padded_mat_a2, kernal_c2))"
   ]
  },
  {
   "cell_type": "code",
   "execution_count": null,
   "metadata": {},
   "outputs": [
    {
     "name": "stdout",
     "output_type": "stream",
     "text": [
      "[0, 0, 0, 4]\n",
      "[0, 4, 0, 2]\n",
      "[0, 1, 0, 3]\n",
      "[0, 2, 0, 2]\n"
     ]
    },
    {
     "data": {
      "text/plain": [
       "[[4, 4], [3, 2]]"
      ]
     },
     "execution_count": 36,
     "metadata": {},
     "output_type": "execute_result"
    }
   ],
   "source": [
    "#Max pooling\n",
    "def max_pooling(mat, pool_size):\n",
    "    #input dimensions\n",
    "    in_rows = len(mat)\n",
    "    in_cols = len(mat[0])\n",
    "\n",
    "    #output dimensions\n",
    "    out_rows = in_rows // pool_size\n",
    "    out_cols = in_cols // pool_size\n",
    "\n",
    "    # init output matrix\n",
    "    result = [[0 for _ in range(out_cols)] for _ in range(out_rows)]\n",
    "\n",
    "    for i in range(0, in_rows, pool_size):\n",
    "        for j in range(0, in_cols, pool_size):\n",
    "            pool = []\n",
    "            for pi in range(pool_size):\n",
    "                for pj in range(pool_size):\n",
    "                    if i+pi < in_rows and j+pj < in_cols:\n",
    "                        pool.append(mat[i+pi][j+pj])\n",
    "            # Get max in pool:\n",
    "            if pool:\n",
    "                result[i//pool_size][j//pool_size] = max(pool)\n",
    "    \n",
    "    return result\n",
    "\n",
    "mat_a3 = [[0,0,0,4],\n",
    "          [0,4,0,2],\n",
    "          [0,1,0,2],\n",
    "          [0,3,0,2]]\n",
    "\n",
    "max_pooling(mat_a3,2)"
   ]
  },
  {
   "cell_type": "code",
   "execution_count": 37,
   "metadata": {},
   "outputs": [
    {
     "data": {
      "text/plain": [
       "[[1.0, 1.5], [1.0, 1.0]]"
      ]
     },
     "execution_count": 37,
     "metadata": {},
     "output_type": "execute_result"
    }
   ],
   "source": [
    "#Average pooling\n",
    "def avg_pooling(mat, pool_size):\n",
    "    #input dimensions\n",
    "    in_rows = len(mat)\n",
    "    in_cols = len(mat[0])\n",
    "\n",
    "    #output dimensions\n",
    "    out_rows = in_rows // pool_size\n",
    "    out_cols = in_cols // pool_size\n",
    "\n",
    "    # init output matrix\n",
    "    result = [[0 for _ in range(out_cols)] for _ in range(out_rows)]\n",
    "\n",
    "    for i in range(0, in_rows, pool_size):\n",
    "        for j in range(0, in_cols, pool_size):\n",
    "            pool = []\n",
    "            for pi in range(pool_size):\n",
    "                for pj in range(pool_size):\n",
    "                    if i+pi < in_rows and j+pj < in_cols:\n",
    "                        pool.append(mat[i+pi][j+pj])\n",
    "            # Get avg in pool:\n",
    "            if pool:\n",
    "                result[i//pool_size][j//pool_size] = sum(pool) / len(pool)\n",
    "    \n",
    "    return result\n",
    "\n",
    "avg_pooling(mat_a3,2)"
   ]
  }
 ],
 "metadata": {
  "kernelspec": {
   "display_name": "Python 3",
   "language": "python",
   "name": "python3"
  },
  "language_info": {
   "codemirror_mode": {
    "name": "ipython",
    "version": 3
   },
   "file_extension": ".py",
   "mimetype": "text/x-python",
   "name": "python",
   "nbconvert_exporter": "python",
   "pygments_lexer": "ipython3",
   "version": "3.11.9"
  }
 },
 "nbformat": 4,
 "nbformat_minor": 2
}
