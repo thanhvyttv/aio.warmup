{
 "cells": [
  {
   "cell_type": "code",
   "execution_count": 6,
   "id": "1eb6907c",
   "metadata": {},
   "outputs": [
    {
     "name": "stdout",
     "output_type": "stream",
     "text": [
      "\n",
      "Unlabeled images: [{'name': 'img2.png', 'label': None, 'blurriness': 0.6, 'similarity': 0.95}, {'name': 'img4.png', 'label': None, 'blurriness': 0.5, 'similarity': 0.88}]\n",
      "\n",
      "Sorted by blurriness: ['img3.png', 'img1.png', 'img4.png', 'img2.png']\n",
      "\n",
      "Has high similarity > 0.9: True\n"
     ]
    }
   ],
   "source": [
    "# Bước 1: Tìm ảnh chưa được gán nhãn bằng Linear Search.\n",
    "def find_unlabeled_images(data):\n",
    "    unlabeled_images = []\n",
    "    for image in data:\n",
    "        if image['label'] is None:\n",
    "            unlabeled_images.append(image)\n",
    "    return unlabeled_images\n",
    "\n",
    "# Bước 2: Sắp xếp ảnh theo độ mờ (blurriness) tăng dần bằng Bubble Sort\n",
    "def sort_by_blurriness(data):\n",
    "    n = len(data)\n",
    "    for i in range(n):\n",
    "        for j in range(0, n - i - 1):\n",
    "            if data[j][\"blurriness\"] > data[j+1][\"blurriness\"]:\n",
    "                data[j], data[j+1] = data[j+1], data[j]\n",
    "    return data\n",
    "\n",
    "# Bước 3: Phát hiện ảnh tương tự (similarity > threshold) bằng Binary Search.\n",
    "def has_high_similarity(data, threshold=0.9):\n",
    "    sims = sorted([item['similarity'] for item in data], reverse=True)\n",
    "    left, right = 0, len(data) -1\n",
    "    while left <= right:\n",
    "        mid =(left+right) //2\n",
    "        if sims[mid] > threshold:\n",
    "            return True\n",
    "        elif sims[mid] <= threshold:\n",
    "            right = mid - 1\n",
    "    return False\n",
    "\n",
    "# Run example\n",
    "dataset = [\n",
    "  {\"name\": \"img1.png\", \"label\": \"benign\", \"blurriness\": 0.4, \"similarity\": 0.92},\n",
    "  {\"name\": \"img2.png\", \"label\": None, \"blurriness\": 0.6, \"similarity\": 0.95},\n",
    "  {\"name\": \"img3.png\", \"label\": \"malignant\", \"blurriness\": 0.3, \"similarity\": 0.84},\n",
    "  {\"name\": \"img4.png\", \"label\": None, \"blurriness\": 0.5, \"similarity\": 0.88}\n",
    "]\n",
    "\n",
    "print(\"\\nUnlabeled images:\", find_unlabeled_images(dataset))\n",
    "print(\"\\nSorted by blurriness:\", [img['name'] for img in sort_by_blurriness(dataset)])\n",
    "print(\"\\nHas high similarity > 0.9:\", has_high_similarity(dataset))"
   ]
  },
  {
   "cell_type": "code",
   "execution_count": 9,
   "id": "200de997",
   "metadata": {},
   "outputs": [],
   "source": [
    "def write_log_file(data, file_name='log.txt'):\n",
    "    with open(file_name, \"w\") as f:\n",
    "        f.write(\"Unlabeled Image: \\n\")\n",
    "        for item in data:\n",
    "            if item['label'] is None:\n",
    "                f.write(f\"- {item['name']}\\n\")\n",
    "\n",
    "        f.write(\"\\n Blurry images (blurriness > 0.5): \\n\")\n",
    "        for item in data:\n",
    "            if item['blurriness'] > 0.5:\n",
    "                f.write(f\"- {item['name']} (blurriness: {item['blurriness']})\\n\")\n",
    "\n",
    "        f.write(\"\\nHighly similar images (similarity > 0.9):\\n\")\n",
    "        for item in data:\n",
    "            if item['blurriness'] > 0.9:\n",
    "                f.write(f\"- {item['name']} (blurriness: {item['blurriness']})\\n\")"
   ]
  },
  {
   "cell_type": "code",
   "execution_count": 10,
   "id": "1b69cf61",
   "metadata": {},
   "outputs": [],
   "source": [
    "import difflib\n",
    "\n",
    "def find_duplicate_images(data, similarity_threshold=0.9, name_similarity=0.8):\n",
    "    duplicates = []\n",
    "    n = len(data)\n",
    "    for i in range(n):\n",
    "        for j in range(i+1, n):\n",
    "            name_sim = difflib.SequenceMatcher(None, data[i]['name'], data[j]['name']).ratio()\n",
    "            if (data[i]['similarity'] > similarity_threshold and \n",
    "                data[j]['similarity'] > similarity_threshold and \n",
    "                name_sim > name_similarity):\n",
    "                duplicates.append((data[i]['name'], data[j]['name']))\n",
    "    return duplicates\n",
    "\n",
    "def generate_summary(data):\n",
    "    total = len(data)\n",
    "    unlabeled = sum(1 for item in data if item['label'] is None)\n",
    "    blurry = sum(1 for item in data if item['blurriness'] > 0.5)\n",
    "    high_sim = sum(1 for item in data if item['similarity'] > 0.9)\n",
    "    good = total - (unlabeled + blurry)\n",
    "\n",
    "    return {\n",
    "        \"Total images\": total,\n",
    "        \"Unlabeled images\": unlabeled,\n",
    "        \"Blurry images\": blurry,\n",
    "        \"Highly similar images\": high_sim,\n",
    "        \"Good images\": good\n",
    "    }\n"
   ]
  },
  {
   "cell_type": "code",
   "execution_count": 11,
   "id": "4f2ed077",
   "metadata": {},
   "outputs": [
    {
     "name": "stdout",
     "output_type": "stream",
     "text": [
      "🔁 Duplicate images: [('img1.png', 'img2.png')]\n",
      "📊 Summary report: {'Total images': 4, 'Unlabeled images': 2, 'Blurry images': 1, 'Highly similar images': 2, 'Good images': 1}\n"
     ]
    }
   ],
   "source": [
    "dataset = [\n",
    "    {\"name\": \"img1.png\", \"label\": \"benign\", \"blurriness\": 0.4, \"similarity\": 0.92},\n",
    "    {\"name\": \"img2.png\", \"label\": None, \"blurriness\": 0.6, \"similarity\": 0.95},\n",
    "    {\"name\": \"img3.png\", \"label\": \"malignant\", \"blurriness\": 0.3, \"similarity\": 0.84},\n",
    "    {\"name\": \"img4.png\", \"label\": None, \"blurriness\": 0.5, \"similarity\": 0.88}\n",
    "]\n",
    "write_log_file(dataset)\n",
    "print(\"🔁 Duplicate images:\", find_duplicate_images(dataset))\n",
    "print(\"📊 Summary report:\", generate_summary(dataset))\n"
   ]
  }
 ],
 "metadata": {
  "kernelspec": {
   "display_name": ".venv",
   "language": "python",
   "name": "python3"
  },
  "language_info": {
   "codemirror_mode": {
    "name": "ipython",
    "version": 3
   },
   "file_extension": ".py",
   "mimetype": "text/x-python",
   "name": "python",
   "nbconvert_exporter": "python",
   "pygments_lexer": "ipython3",
   "version": "3.11.9"
  }
 },
 "nbformat": 4,
 "nbformat_minor": 5
}
