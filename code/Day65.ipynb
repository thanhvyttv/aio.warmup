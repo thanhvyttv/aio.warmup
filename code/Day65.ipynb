{
 "cells": [
  {
   "cell_type": "code",
   "execution_count": null,
   "id": "e03e7d97",
   "metadata": {},
   "outputs": [],
   "source": [
    "!gdown 1Lyrc_wzoKBetbToc2-FUlEot43vV-Aw0"
   ]
  },
  {
   "cell_type": "code",
   "execution_count": null,
   "id": "6a4264cb",
   "metadata": {},
   "outputs": [],
   "source": [
    "!unzip dataset.zip"
   ]
  },
  {
   "cell_type": "code",
   "execution_count": null,
   "id": "dfbc04bd",
   "metadata": {},
   "outputs": [],
   "source": [
    "import cv2\n",
    "import numpy as np\n",
    "import matplotlib.pyplot as plt\n",
    "\n",
    "img_path = \"data/ComputerVidion/dataset_65/1.jpg\"\n",
    "\n",
    "img = cv2.imread(img_path)\n",
    "img = cv2.cvtColor(img, cv2.COLOR_BGR2RGB)\n",
    "\n",
    "plt.figure(figsize=(6, 6))\n",
    "plt.axis(\"off\")\n",
    "plt.imshow(img)"
   ]
  },
  {
   "cell_type": "code",
   "execution_count": null,
   "id": "804668a2",
   "metadata": {},
   "outputs": [],
   "source": [
    "# Chuyển ảnh màu thành xám và hiển thị\n",
    "gray_img = cv2.cvtColor(img, cv2.COLOR_RGB2GRAY)\n",
    "plt.figure(figsize=(6, 6))\n",
    "plt.axis(\"off\")\n",
    "plt.imshow(gray_img, cmap=\"gray\")"
   ]
  },
  {
   "cell_type": "code",
   "execution_count": null,
   "id": "2a6f0114",
   "metadata": {},
   "outputs": [],
   "source": [
    "# Tăng cường độ sáng\n",
    "new_bright_img = img.astype(np.float32) + 50\n",
    "new_bright_img = np.clip(new_bright_img, 0, 255)\n",
    "new_bright_img = new_bright_img.astype(np.uint8)\n",
    "\n",
    "# Giảm cường độ sáng\n",
    "new_dark_img = img.astype(np.float32) - 80\n",
    "new_dark_img = np.clip(new_dark_img, 0, 255)\n",
    "new_dark_img = new_dark_img.astype(np.uint8)\n",
    "\n",
    "# Hiển thị hình ảnh\n",
    "plt.subplot(221)\n",
    "plt.imshow(img)\n",
    "plt.axis(\"off\")\n",
    "plt.title(\"Origin Image\")\n",
    "\n",
    "plt.subplot(222)\n",
    "plt.imshow(new_bright_img)\n",
    "plt.axis(\"off\")\n",
    "plt.title(\"Brighten Image\")\n",
    "\n",
    "plt.subplot(223)\n",
    "plt.imshow(new_dark_img)\n",
    "plt.axis(\"off\")\n",
    "plt.title(\"Darken Image\")\n",
    "\n",
    "plt.show()"
   ]
  },
  {
   "cell_type": "markdown",
   "id": "b257a601",
   "metadata": {},
   "source": [
    "### Gaussian Filter"
   ]
  },
  {
   "cell_type": "code",
   "execution_count": null,
   "id": "64a04b2d",
   "metadata": {},
   "outputs": [],
   "source": [
    "import math\n",
    "import cv2\n",
    "import matplotlib.pyplot as plt\n",
    "import numpy as np\n",
    "\n",
    "\n",
    "def gaussian_kernel(size, sigma):\n",
    "    \"\"\"\n",
    "    Tạo ra một kernel Gaussian 2D với kích thước và độ lệch chuẩn cho trước.\n",
    "\n",
    "    Args:\n",
    "        size (int): Kích thước của kernel (phải là số lẻ). Nếu là số chẵn, sẽ tự động tăng lên 1.\n",
    "        sigma (float): Độ lệch chuẩn của phân phối Gaussian.\n",
    "\n",
    "    Returns:\n",
    "        numpy.ndarray: Một mảng NumPy 2D đại diện cho kernel Gaussian.\n",
    "    \"\"\"\n",
    "    if size % 2 == 0:\n",
    "        size = size + 1\n",
    "    max_point = size // 2\n",
    "    min_point = -max_point\n",
    "\n",
    "    K = np.zeros((size, size))\n",
    "\n",
    "    for x in range(min_point, max_point + 1):\n",
    "        for y in range(min_point, max_point + 1):\n",
    "            value = (\n",
    "                1\n",
    "                / (2 * math.pi * (sigma**2))\n",
    "                * math.exp((-(x**2 + y**2)) / (2 * (sigma**2)))\n",
    "            )\n",
    "            K[x - min_point, y - min_point] = value\n",
    "\n",
    "    return K\n",
    "\n",
    "\n",
    "img_path = \"data/ComputerVidion/dataset_65/10.jpg\"\n",
    "img = cv2.imread(img_path)\n",
    "gray_img = cv2.cvtColor(img, cv2.COLOR_BGR2GRAY)\n",
    "\n",
    "sigma = 0\n",
    "index = 0\n",
    "for _ in range(4):\n",
    "    if sigma == 0:\n",
    "        img_gaussian = gray_img\n",
    "    else:\n",
    "        kernel = gaussian_kernel(5, sigma)\n",
    "        img_gaussian = cv2.filter2D(gray_img, -1, kernel)\n",
    "\n",
    "    plt.subplot(220 + index + 1)\n",
    "    plt.imshow(img_gaussian, cmap=\"gray\")\n",
    "    plt.axis(\"off\")\n",
    "\n",
    "    if sigma == 0:\n",
    "        plt.title(\"Origin Image\")\n",
    "    else:\n",
    "        plt.title(f\"Sigma = {sigma}\")\n",
    "    index += 1\n",
    "    sigma += 4.5"
   ]
  },
  {
   "cell_type": "markdown",
   "id": "921eb219",
   "metadata": {},
   "source": [
    "### Practice kernel CNN"
   ]
  },
  {
   "cell_type": "code",
   "execution_count": null,
   "id": "07ee1a88",
   "metadata": {},
   "outputs": [],
   "source": [
    "import numpy as np\n",
    "\n",
    "data = [\n",
    "    [10, 2, -1, 4, 10],\n",
    "    [1, 2, 0, 1, 15],\n",
    "    [3, -4, 2.5, 1, -4],\n",
    "    [2, 2, 1, 2, 3],\n",
    "    [3, 3, 3, 0, 1],\n",
    "]\n",
    "\n",
    "# Convert the list to a numpy array\n",
    "input = np.array(data)\n",
    "\n",
    "kernal = [[1, 0, 0], [2, 1, 0], [3, 4, 1]]\n",
    "\n",
    "kernal = np.array(kernal)"
   ]
  },
  {
   "cell_type": "code",
   "execution_count": null,
   "id": "31e8877d",
   "metadata": {},
   "outputs": [],
   "source": [
    "def convolve(input, kernel, stride=1, padding=0):\n",
    "    input_height, input_width = input.shape\n",
    "    kernel_height, kernel_width = kernel.shape\n",
    "\n",
    "    output_height = (input_height - kernel_height + 2 * padding) // stride + 1\n",
    "    output_width = (input_width - kernel_width + 2 * padding) // stride + 1\n",
    "\n",
    "    output = np.zeros((output_height, output_width))\n",
    "\n",
    "    for y in range(output_height):\n",
    "        for x in range(output_width):\n",
    "            input_x_start = x * stride\n",
    "            input_x_end = input_x_start + kernel_width\n",
    "            input_y_start = y * stride\n",
    "            input_y_end = input_y_start + kernel_height\n",
    "\n",
    "            input_region = input[input_y_start:input_y_end, input_x_start:input_x_end]\n",
    "            output[y, x] = np.sum(input_region * kernel)\n",
    "\n",
    "    return output"
   ]
  },
  {
   "cell_type": "code",
   "execution_count": null,
   "id": "72a3310c",
   "metadata": {},
   "outputs": [],
   "source": [
    "output = convolve(input, kernal)\n",
    "print(f\"Output: \\n {output}\")"
   ]
  },
  {
   "cell_type": "code",
   "execution_count": null,
   "id": "ce487b35",
   "metadata": {},
   "outputs": [],
   "source": []
  }
 ],
 "metadata": {
  "kernelspec": {
   "display_name": ".venv",
   "language": "python",
   "name": "python3"
  },
  "language_info": {
   "codemirror_mode": {
    "name": "ipython",
    "version": 3
   },
   "file_extension": ".py",
   "mimetype": "text/x-python",
   "name": "python",
   "nbconvert_exporter": "python",
   "pygments_lexer": "ipython3",
   "version": "3.11.8"
  }
 },
 "nbformat": 4,
 "nbformat_minor": 5
}
