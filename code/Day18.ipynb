{
 "cells": [
  {
   "cell_type": "code",
   "execution_count": 124,
   "metadata": {},
   "outputs": [
    {
     "name": "stdout",
     "output_type": "stream",
     "text": [
      "Buddy\n",
      "Some genetic sound\n"
     ]
    }
   ],
   "source": [
    "class Animal:\n",
    "    def __init__(self, name):\n",
    "        self.name = name\n",
    "\n",
    "    def make_sound(self):\n",
    "        return \"Some genetic sound\"\n",
    "\n",
    "dog = Animal(\"Buddy\")\n",
    "print(dog.name)\n",
    "print(dog.make_sound())"
   ]
  },
  {
   "cell_type": "code",
   "execution_count": 125,
   "metadata": {},
   "outputs": [
    {
     "name": "stdout",
     "output_type": "stream",
     "text": [
      "Owner:Alice has Deposited: 3999, new balance: 13999\n"
     ]
    }
   ],
   "source": [
    "# Tính đóng gói (Encapsulationn)\n",
    "class BankAccount:\n",
    "    def __init__(self, owner, balance):\n",
    "        self.owner = owner\n",
    "        self.__balance = balance # thuộc tính private\n",
    "    \n",
    "    def deposit(self, amount):\n",
    "        self.__balance += amount\n",
    "        return f'Owner:{self.owner} has Deposited: {amount}, new balance: {self.__balance}'\n",
    "\n",
    "account = BankAccount(\"Alice\", 10000)\n",
    "print(account.deposit(3999))"
   ]
  },
  {
   "cell_type": "code",
   "execution_count": 126,
   "metadata": {},
   "outputs": [
    {
     "name": "stdout",
     "output_type": "stream",
     "text": [
      "Gâu gâu gâu\n"
     ]
    }
   ],
   "source": [
    "# Tính kế thừa (Inheritance)\n",
    "class Dog(Animal): #Kế thừa từ class Aninal\n",
    "    def make_sound(self):\n",
    "        return \"Gâu gâu gâu\"\n",
    "\n",
    "dog = Dog(\"Max\")\n",
    "print(dog.make_sound())"
   ]
  },
  {
   "cell_type": "code",
   "execution_count": 127,
   "metadata": {},
   "outputs": [
    {
     "name": "stdout",
     "output_type": "stream",
     "text": [
      "Buddy says Gâu gâu gâu\n",
      "Tom says mèo méo meo mèo meo\n"
     ]
    }
   ],
   "source": [
    "# Tính đa hình (Polymorphism)\n",
    "class Cat(Animal):\n",
    "    def make_sound(self):\n",
    "        return \"mèo méo meo mèo meo\"\n",
    "\n",
    "animals = [Dog(\"Buddy\"), Cat(\"Tom\")]\n",
    "for animal in animals:\n",
    "    print(f\"{animal.name} says {animal.make_sound()}\")"
   ]
  },
  {
   "cell_type": "code",
   "execution_count": 128,
   "metadata": {},
   "outputs": [
    {
     "name": "stdout",
     "output_type": "stream",
     "text": [
      "Car is moving on the road\n",
      "Boat is sailing on the water\n"
     ]
    }
   ],
   "source": [
    "# Tính trừu tượng (Abstraction)\n",
    "from abc import ABC, abstractmethod\n",
    "\n",
    "class Vehicle(ABC):\n",
    "    @abstractmethod\n",
    "    def move(self):\n",
    "        pass\n",
    "\n",
    "class Car(Vehicle):\n",
    "    def move(self):\n",
    "        return \"Car is moving on the road\"\n",
    "\n",
    "class Boat(Vehicle):\n",
    "    def move(self):\n",
    "        return \"Boat is sailing on the water\"\n",
    "\n",
    "car = Car()\n",
    "boat = Boat()\n",
    "print(car.move())\n",
    "print(boat.move())"
   ]
  },
  {
   "cell_type": "code",
   "execution_count": 129,
   "metadata": {},
   "outputs": [
    {
     "data": {
      "text/plain": [
       "'Name : monitor - Price : 12.5 Identity : 11 - Location : Germany'"
      ]
     },
     "execution_count": 129,
     "metadata": {},
     "output_type": "execute_result"
    }
   ],
   "source": [
    "# Exercise\n",
    "class Manufaturer:\n",
    "    def __init__(self, identity, location):\n",
    "        self.identity = identity\n",
    "        self.location = location\n",
    "    \n",
    "    def describe(self):\n",
    "        return f\"Identity : {self.identity} - Location : {self.location}\"\n",
    "\n",
    "class Device(Manufaturer):\n",
    "    def __init__(self, name, price, identity, location):\n",
    "        self.name = name\n",
    "        self.price = price\n",
    "        self.identity = identity\n",
    "        self.location = location\n",
    "\n",
    "    def describe(self):\n",
    "        return f\"Name : {self.name} - Price : {self.price} \" + super().describe()\n",
    "\n",
    "device1 = Device(name = \"mouse\", price = 2.5, identity = 9725, location = \"Vietnam\")\n",
    "device1.describe()\n",
    "device2 = Device(name = \"monitor\", price = 12.5, identity = 11, location = \"Germany\")\n",
    "device2.describe()\n"
   ]
  },
  {
   "cell_type": "markdown",
   "metadata": {},
   "source": [
    "Một Ward gồm có name (string) và danh sách của mọi người trong Ward. Một người\n",
    "person có thể là student, doctor, hoặc teacher. Một student gồm có name, yob (int)\n",
    "(năm sinh), và grade (string). Một teacher gồm có name, yob, và subject (string).\n",
    "Một doctor gồm có name, yob, và specialist (string). Lưu ý cần sử dụng a list để chứa\n",
    "danh sách của mọi người trong Ward.\n",
    "(a) Thực hiện các class student, doctor, và teacher theo mô tả trên. Thực hiện describe() method\n",
    "để print ra tất cả thông tin của các objects.\n",
    "(b) Viết addPerson(person) method trong Ward class để add thêm một người mới với nghề\n",
    "nghiệp bất kỳ (student, teacher, doctor) vào danh sách người của ward. Tạo ra một ward\n",
    "object, và thêm vào 1 student, 2 teacher, và 2 doctor. Thực hiện describe() method để in ra\n",
    "tên ward (name) và toàn bộ thông tin của từng người trong ward.\n",
    "(c) Viết countDoctor() method để đếm số lượng doctor trong ward.\n",
    "(d) Viết sortAge() method để sort mọi người trong ward theo tuổi của họ với thứ tự tăng dần.\n",
    "(hint: Có thể sử dụng sort của list hoặc viết thêm function đều được)\n",
    "(e) Viết aveTeacherYearOfBirth() method để tính trung bình năm sinh của các teachers trong\n",
    "ward."
   ]
  },
  {
   "cell_type": "code",
   "execution_count": 130,
   "metadata": {},
   "outputs": [],
   "source": [
    "class Person:\n",
    "    def __init__(self, name:str, yob:int):\n",
    "        self.name = name\n",
    "        self.yob = yob\n",
    "\n",
    "    def describe(self):\n",
    "        return f\"Name: {self.name} - YOB: {self.yob}\"\n",
    "\n",
    "class Student(Person):\n",
    "    def __init__(self, name:str, yob:int, grade:str):\n",
    "        self.name = name\n",
    "        self.yob = yob\n",
    "        self.grade = grade\n",
    "\n",
    "    def describe(self):\n",
    "        print(f\"Student - {super().describe()} - Grade: {self.grade}\")\n",
    "\n",
    "class Teacher(Person):\n",
    "    def __init__(self, name:str, yob:int, subject:str):\n",
    "        self.name = name\n",
    "        self.yob = yob\n",
    "        self.subject = subject\n",
    "\n",
    "    def describe(self):\n",
    "        print(f\"Teacher - {super().describe()} - Subject: {self.subject}\") \n",
    "\n",
    "class Doctor(Person):\n",
    "    def __init__(self, name:str, yob:int, specialist:str):\n",
    "        self.name =  name\n",
    "        self.yob = yob\n",
    "        self.specialist = specialist\n",
    "\n",
    "    def describe(self):\n",
    "        print(f'Doctor - {super().describe()} - Specialist: {self.specialist}')\n",
    "\n",
    "    "
   ]
  },
  {
   "cell_type": "code",
   "execution_count": 131,
   "metadata": {},
   "outputs": [
    {
     "name": "stdout",
     "output_type": "stream",
     "text": [
      "Student - Name: studentA - YOB: 2010 - Grade: 7\n"
     ]
    }
   ],
   "source": [
    "\n",
    "student1 = Student(name = \"studentA\", yob = 2010 , grade = \"7\")\n",
    "student1.describe()"
   ]
  },
  {
   "cell_type": "code",
   "execution_count": 132,
   "metadata": {},
   "outputs": [
    {
     "name": "stdout",
     "output_type": "stream",
     "text": [
      "Teacher - Name: teacherA - YOB: 1969 - Subject: Math\n"
     ]
    }
   ],
   "source": [
    "teacher1 = Teacher(name = \"teacherA\", yob = 1969 , subject = \"Math\")\n",
    "teacher1.describe()"
   ]
  },
  {
   "cell_type": "code",
   "execution_count": 133,
   "metadata": {},
   "outputs": [
    {
     "name": "stdout",
     "output_type": "stream",
     "text": [
      "Doctor - Name: doctorA - YOB: 1945 - Specialist: Endocrinologists\n"
     ]
    }
   ],
   "source": [
    "doctor1 = Doctor(name = \"doctorA\", yob = 1945, specialist = \"Endocrinologists\")\n",
    "doctor1.describe()"
   ]
  },
  {
   "cell_type": "code",
   "execution_count": 134,
   "metadata": {},
   "outputs": [],
   "source": [
    "class Ward(Person):\n",
    "    def __init__(self, name:str):\n",
    "        self.name = name\n",
    "        self.lst = []\n",
    "\n",
    "    def addPerson(self, person):\n",
    "        self.lst.append(person)\n",
    "\n",
    "    def describe(self):\n",
    "        print(f'Ward: {self.name}')\n",
    "        for person in self.lst:\n",
    "            person.describe()\n",
    "\n",
    "    def countDoctor(self):\n",
    "        count = 0\n",
    "        for person in self.lst:\n",
    "            if isinstance(person, Doctor):\n",
    "                count += 1\n",
    "        return count\n",
    "\n",
    "    def sortAge(self):\n",
    "        self.lst.sort(key=lambda person:person.yob, reverse=True)\n",
    "\n",
    "    def aveTeacherYearOfBirth(self):\n",
    "        sum = 0\n",
    "        count = 0\n",
    "        for person in self.lst:\n",
    "            if isinstance(person, Teacher):\n",
    "                count += 1\n",
    "                sum += person.yob\n",
    "        return sum/count\n"
   ]
  },
  {
   "cell_type": "code",
   "execution_count": 135,
   "metadata": {},
   "outputs": [
    {
     "name": "stdout",
     "output_type": "stream",
     "text": [
      "Ward: Ward1\n",
      "Student - Name: studentA - YOB: 2010 - Grade: 7\n",
      "Teacher - Name: teacherA - YOB: 1969 - Subject: Math\n",
      "Teacher - Name: teacherB - YOB: 1995 - Subject: History\n",
      "Doctor - Name: doctorA - YOB: 1945 - Specialist: Endocrinologists\n",
      "Doctor - Name: doctorB - YOB: 1975 - Specialist: Cardiologists\n"
     ]
    }
   ],
   "source": [
    "teacher2 = Teacher(name =\"teacherB\", yob = 1995, subject = \"History\")\n",
    "doctor2 = Doctor(name = \"doctorB\", yob = 1975, specialist = \"Cardiologists\")\n",
    "ward1 = Ward(name=\"Ward1\")\n",
    "ward1.addPerson(student1)\n",
    "ward1.addPerson(teacher1)\n",
    "ward1.addPerson(teacher2)\n",
    "ward1.addPerson(doctor1)\n",
    "ward1.addPerson(doctor2)\n",
    "ward1.describe()"
   ]
  },
  {
   "cell_type": "code",
   "execution_count": 136,
   "metadata": {},
   "outputs": [
    {
     "name": "stdout",
     "output_type": "stream",
     "text": [
      "Number of doctors : 2\n"
     ]
    }
   ],
   "source": [
    "ward1.countDoctor()\n",
    "print ( f\"Number of doctors : { ward1 . countDoctor ()}\")"
   ]
  },
  {
   "cell_type": "code",
   "execution_count": 137,
   "metadata": {},
   "outputs": [
    {
     "name": "stdout",
     "output_type": "stream",
     "text": [
      "After sorting Age of Ward1 people \n",
      "Ward: Ward1\n",
      "Student - Name: studentA - YOB: 2010 - Grade: 7\n",
      "Teacher - Name: teacherB - YOB: 1995 - Subject: History\n",
      "Doctor - Name: doctorB - YOB: 1975 - Specialist: Cardiologists\n",
      "Teacher - Name: teacherA - YOB: 1969 - Subject: Math\n",
      "Doctor - Name: doctorA - YOB: 1945 - Specialist: Endocrinologists\n"
     ]
    }
   ],
   "source": [
    "print (\"After sorting Age of Ward1 people \")\n",
    "ward1 . sortAge ()\n",
    "ward1 . describe ()"
   ]
  },
  {
   "cell_type": "code",
   "execution_count": 138,
   "metadata": {},
   "outputs": [
    {
     "name": "stdout",
     "output_type": "stream",
     "text": [
      "Average year of birth ( teachers ): 1982.0\n"
     ]
    }
   ],
   "source": [
    "print ( f\"Average year of birth ( teachers ): { ward1 . aveTeacherYearOfBirth ()}\")"
   ]
  },
  {
   "cell_type": "code",
   "execution_count": 146,
   "metadata": {},
   "outputs": [
    {
     "name": "stdout",
     "output_type": "stream",
     "text": [
      "False\n",
      "2\n",
      "2\n",
      "1\n",
      "1\n",
      "True\n"
     ]
    }
   ],
   "source": [
    "class MyStack:\n",
    "    def __init__(self, capacity):\n",
    "        self.capacity = capacity\n",
    "        self.lst = []\n",
    "\n",
    "    def isEmpty(self):\n",
    "        return len(self.lst) == 0\n",
    "\n",
    "    def isFull(self):\n",
    "        return len(self.lst) == self.capacity\n",
    "\n",
    "    def pop(self):\n",
    "        item = self.lst[-1]\n",
    "        self.lst.pop()\n",
    "        return item\n",
    "\n",
    "    def push(self, value):\n",
    "        if len(self.lst) < self.capacity:\n",
    "            self.lst.append(value)\n",
    "\n",
    "    def top(self):\n",
    "        return self.lst[-1]\n",
    "\n",
    "stack1 = MyStack(capacity=5)\n",
    "stack1.push(1)\n",
    "stack1.push(2)\n",
    "print(stack1.isFull())\n",
    "print(stack1.top())\n",
    "print(stack1.pop())\n",
    "print(stack1.top())\n",
    "print(stack1.pop())\n",
    "print(stack1.isEmpty())\n"
   ]
  },
  {
   "cell_type": "code",
   "execution_count": 149,
   "metadata": {},
   "outputs": [
    {
     "name": "stdout",
     "output_type": "stream",
     "text": [
      "False\n",
      "1\n",
      "1\n",
      "2\n",
      "2\n",
      "True\n"
     ]
    }
   ],
   "source": [
    "class MyQueue:\n",
    "    def __init__(self, capacity):\n",
    "        self.lst = []\n",
    "        self.capacity = capacity\n",
    "\n",
    "    def isEmpty(self):\n",
    "        return len(self.lst) == 0\n",
    "\n",
    "    def isFull(self):\n",
    "        return len(self.lst) == self.capacity\n",
    "\n",
    "    def dequeue(self):\n",
    "        item = self.lst[0]\n",
    "        self.lst.remove(item)\n",
    "        return item\n",
    "\n",
    "    def enqueue(self, value):\n",
    "        return self.lst.append(value)\n",
    "\n",
    "    def front(self):\n",
    "        return self.lst[0]\n",
    "\n",
    "queue1 = MyQueue(capacity=5)\n",
    "queue1.enqueue(1)\n",
    "queue1.enqueue(2)\n",
    "print(queue1.isFull())\n",
    "print(queue1.front())\n",
    "print(queue1.dequeue())\n",
    "print(queue1.front())\n",
    "print(queue1.dequeue())\n",
    "print(queue1.isEmpty())"
   ]
  }
 ],
 "metadata": {
  "kernelspec": {
   "display_name": ".venv",
   "language": "python",
   "name": "python3"
  },
  "language_info": {
   "codemirror_mode": {
    "name": "ipython",
    "version": 3
   },
   "file_extension": ".py",
   "mimetype": "text/x-python",
   "name": "python",
   "nbconvert_exporter": "python",
   "pygments_lexer": "ipython3",
   "version": "3.11.8"
  }
 },
 "nbformat": 4,
 "nbformat_minor": 2
}
