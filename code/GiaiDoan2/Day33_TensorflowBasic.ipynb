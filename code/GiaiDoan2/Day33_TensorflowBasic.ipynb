{
 "cells": [
  {
   "cell_type": "code",
   "execution_count": 2,
   "id": "2a7519a2",
   "metadata": {},
   "outputs": [
    {
     "name": "stderr",
     "output_type": "stream",
     "text": [
      "2025-05-24 19:17:05.233285: I tensorflow/core/platform/cpu_feature_guard.cc:210] This TensorFlow binary is optimized to use available CPU instructions in performance-critical operations.\n",
      "To enable the following instructions: AVX2 AVX512F AVX512_VNNI FMA, in other operations, rebuild TensorFlow with the appropriate compiler flags.\n"
     ]
    }
   ],
   "source": [
    "import tensorflow as tf"
   ]
  },
  {
   "cell_type": "code",
   "execution_count": null,
   "id": "39dc294c",
   "metadata": {},
   "outputs": [
    {
     "name": "stdout",
     "output_type": "stream",
     "text": [
      "Shape: (3, 2)\n",
      "Type: <dtype: 'int32'>\n",
      "Rank: 2\n"
     ]
    }
   ],
   "source": [
    "# Tạo tensor từ list\n",
    "tensor = tf.constant([[1, 2], [3, 4], [5, 6]])\n",
    "print(\"Shape:\", tensor.shape)  # Kích thước các chiều (row, col)\n",
    "print(\"Type:\", tensor.dtype)  # Kiểu dữ liệu\n",
    "print(\"Rank:\", tensor.ndim)  # Số chiều"
   ]
  },
  {
   "cell_type": "code",
   "execution_count": null,
   "id": "31e2250b",
   "metadata": {},
   "outputs": [
    {
     "name": "stdout",
     "output_type": "stream",
     "text": [
      "tf.Tensor(\n",
      "[[0. 0. 0.]\n",
      " [0. 0. 0.]], shape=(2, 3), dtype=float32)\n"
     ]
    }
   ],
   "source": [
    "# Khởi tạo tensor zeros\n",
    "zeros = tf.zeros([2, 3])\n",
    "print(zeros)"
   ]
  },
  {
   "cell_type": "code",
   "execution_count": null,
   "id": "27b060d8",
   "metadata": {},
   "outputs": [
    {
     "name": "stdout",
     "output_type": "stream",
     "text": [
      "tf.Tensor(\n",
      "[[1. 1.]\n",
      " [1. 1.]\n",
      " [1. 1.]], shape=(3, 2), dtype=float32)\n"
     ]
    }
   ],
   "source": [
    "# Khởi tạo tensor ones\n",
    "ones = tf.ones([3, 2])\n",
    "print(ones)"
   ]
  },
  {
   "cell_type": "code",
   "execution_count": null,
   "id": "9e7cd2a4",
   "metadata": {},
   "outputs": [
    {
     "name": "stdout",
     "output_type": "stream",
     "text": [
      "tf.Tensor(\n",
      "[[ 1.1322191  -1.1053851 ]\n",
      " [-0.12569472  2.1446824 ]], shape=(2, 2), dtype=float32)\n"
     ]
    }
   ],
   "source": [
    "# Khởi tạo tensor với giá trị ngẫu nhiên\n",
    "random = tf.random.normal([2, 2], mean=0.0, stddev=1.0)\n",
    "print(random)"
   ]
  },
  {
   "cell_type": "code",
   "execution_count": null,
   "id": "3fa485ff",
   "metadata": {},
   "outputs": [
    {
     "name": "stdout",
     "output_type": "stream",
     "text": [
      "tf.Tensor([1. 2.], shape=(2,), dtype=float32)\n",
      "tf.Tensor([1 2], shape=(2,), dtype=int32)\n"
     ]
    }
   ],
   "source": [
    "# Type Casting (Chuyển đổi kiễu dữ liệu)\n",
    "float_tensor = tf.constant([1.0, 2.0])\n",
    "int_tensor = tf.cast(float_tensor, tf.int32)\n",
    "print(float_tensor)\n",
    "print(int_tensor)"
   ]
  },
  {
   "cell_type": "code",
   "execution_count": null,
   "id": "27f6003b",
   "metadata": {},
   "outputs": [
    {
     "name": "stdout",
     "output_type": "stream",
     "text": [
      "tf.Tensor(6, shape=(), dtype=int32)\n",
      "tf.Tensor(\n",
      "[[2 3]\n",
      " [5 6]], shape=(2, 2), dtype=int32)\n"
     ]
    }
   ],
   "source": [
    "# Indexing & Slicing\n",
    "tensor = tf.constant([[1, 2, 3], [4, 5, 6]])\n",
    "# Lấy phần tử tại hàng 1, cột 2\n",
    "elem = tensor[1, 2]\n",
    "print(elem)\n",
    "\n",
    "# Lấy slice\n",
    "slice = tensor[:, 1:]  # Lấy tất cả các hàng, từ cột 1 trở đi\n",
    "print(slice)"
   ]
  },
  {
   "cell_type": "code",
   "execution_count": null,
   "id": "1d4fdd7a",
   "metadata": {},
   "outputs": [
    {
     "name": "stdout",
     "output_type": "stream",
     "text": [
      "tf.Tensor([5 7 9], shape=(3,), dtype=int32)\n",
      "tf.Tensor([ 4 10 18], shape=(3,), dtype=int32)\n"
     ]
    }
   ],
   "source": [
    "# Math Operation\n",
    "a = tf.constant([1, 2, 3])\n",
    "b = tf.constant([4, 5, 6])\n",
    "\n",
    "# Cộng element\n",
    "add = tf.add(a, b)\n",
    "print(add)\n",
    "\n",
    "# Nhân element-wise\n",
    "mul = tf.multiply(a, b)\n",
    "print(mul)"
   ]
  },
  {
   "cell_type": "code",
   "execution_count": null,
   "id": "7ab56191",
   "metadata": {},
   "outputs": [],
   "source": []
  }
 ],
 "metadata": {
  "kernelspec": {
   "display_name": ".venv",
   "language": "python",
   "name": "python3"
  },
  "language_info": {
   "codemirror_mode": {
    "name": "ipython",
    "version": 3
   },
   "file_extension": ".py",
   "mimetype": "text/x-python",
   "name": "python",
   "nbconvert_exporter": "python",
   "pygments_lexer": "ipython3",
   "version": "3.11.8"
  }
 },
 "nbformat": 4,
 "nbformat_minor": 5
}
