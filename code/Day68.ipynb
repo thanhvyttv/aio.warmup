{
 "cells": [
  {
   "cell_type": "code",
   "execution_count": 3,
   "id": "51e363a9",
   "metadata": {},
   "outputs": [
    {
     "name": "stdout",
     "output_type": "stream",
     "text": [
      "Result 1: i = 2\n",
      "Result 2: i = -1\n"
     ]
    }
   ],
   "source": [
    "# Tìm chỉ số đầu tiên\n",
    "def linear_search(arr, x):\n",
    "    for i in range(len(arr)):\n",
    "        if arr[i] == x:\n",
    "            return i\n",
    "\n",
    "    return -1\n",
    "\n",
    "\n",
    "arr1 = [2, 4, 6, 8, 10]\n",
    "x1 = 6\n",
    "print(f\"Result 1: i = {linear_search(arr1, x1)}\")\n",
    "arr2 = [1, 3, 5, 7]\n",
    "x2 = 2\n",
    "print(f\"Result 2: i = {linear_search(arr2, x2)}\")"
   ]
  },
  {
   "cell_type": "code",
   "execution_count": null,
   "id": "92a31afb",
   "metadata": {},
   "outputs": [
    {
     "name": "stdout",
     "output_type": "stream",
     "text": [
      "Result arr: [1, 3, 5]\n"
     ]
    }
   ],
   "source": [
    "# Tìm tất cả các chỉ số\n",
    "def linear_search_all(arr, x):\n",
    "    result = []\n",
    "    for i in range(len(arr)):\n",
    "        if arr[i] == x:\n",
    "            result.append(i)\n",
    "\n",
    "    return result\n",
    "\n",
    "\n",
    "arr = [1, 2, 3, 2, 4, 2]\n",
    "x = 2\n",
    "print(f\"Result arr: {linear_search_all(arr,x)}\")"
   ]
  },
  {
   "cell_type": "code",
   "execution_count": null,
   "id": "2f775658",
   "metadata": {},
   "outputs": [
    {
     "name": "stdout",
     "output_type": "stream",
     "text": [
      "Result arr: [3, 4]\n"
     ]
    }
   ],
   "source": [
    "# Tìm phần tử lớn hơn\n",
    "def find_greater(arr, x):\n",
    "    result = []\n",
    "    for num in arr:\n",
    "        if num > x:\n",
    "            result.append(num)\n",
    "\n",
    "    return result\n",
    "\n",
    "\n",
    "print(f\"Result arr: {find_greater(arr,x)}\")"
   ]
  },
  {
   "cell_type": "code",
   "execution_count": 10,
   "id": "eeb68a03",
   "metadata": {},
   "outputs": [
    {
     "name": "stdout",
     "output_type": "stream",
     "text": [
      "Result arr: 3\n"
     ]
    }
   ],
   "source": [
    "# Tìm phần tử đầu tiên chia hết cho 3\n",
    "def find_first_div_by_3(arr):\n",
    "    for num in arr:\n",
    "        if num % 3 == 0:\n",
    "            return num\n",
    "\n",
    "\n",
    "arr = [1, 2, 3, 9, 3, 6]\n",
    "\n",
    "print(f\"Result arr: {find_first_div_by_3(arr)}\")"
   ]
  },
  {
   "cell_type": "code",
   "execution_count": null,
   "id": "36c01b21",
   "metadata": {},
   "outputs": [],
   "source": []
  }
 ],
 "metadata": {
  "kernelspec": {
   "display_name": ".venv",
   "language": "python",
   "name": "python3"
  },
  "language_info": {
   "codemirror_mode": {
    "name": "ipython",
    "version": 3
   },
   "file_extension": ".py",
   "mimetype": "text/x-python",
   "name": "python",
   "nbconvert_exporter": "python",
   "pygments_lexer": "ipython3",
   "version": "3.11.8"
  }
 },
 "nbformat": 4,
 "nbformat_minor": 5
}
