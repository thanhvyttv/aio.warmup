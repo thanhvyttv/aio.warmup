{
 "cells": [
  {
   "cell_type": "code",
   "execution_count": 2,
   "id": "6b41f0dc",
   "metadata": {},
   "outputs": [
    {
     "name": "stdout",
     "output_type": "stream",
     "text": [
      "Population Standard:  1.4142135623730951\n",
      "Sample Standard:  1.5811388300841898\n"
     ]
    }
   ],
   "source": [
    "import numpy as np\n",
    "\n",
    "data = np.array([1, 2, 3, 4, 5])\n",
    "std_population = np.std(data)\n",
    "std_sample = np.std(data, ddof=1)\n",
    "\n",
    "print('Population Standard: ', std_population)\n",
    "print('Sample Standard: ', std_sample)"
   ]
  },
  {
   "cell_type": "code",
   "execution_count": 3,
   "id": "8ab89312",
   "metadata": {},
   "outputs": [
    {
     "name": "stdout",
     "output_type": "stream",
     "text": [
      "Expectation E[X] = 4.0\n",
      "Variance Var(X) = 2.4\n",
      "Standard Deviation = 1.5491933384829668\n"
     ]
    }
   ],
   "source": [
    "X =  np.array([2, 4, 6])\n",
    "p = np.array([0.3, 0.4, 0.3])\n",
    "\n",
    "expectation = np.sum(X*p)\n",
    "variance = np.sum((X - expectation)**2 *p)\n",
    "std_X = np.sqrt(variance)\n",
    "\n",
    "print(\"Expectation E[X] =\", expectation)\n",
    "print(\"Variance Var(X) =\", variance)\n",
    "print(\"Standard Deviation =\", std_X)"
   ]
  },
  {
   "cell_type": "code",
   "execution_count": null,
   "id": "8485cb84",
   "metadata": {},
   "outputs": [
    {
     "name": "stdout",
     "output_type": "stream",
     "text": [
      "Population Standard:  3.0032476534035535\n",
      "Sample Standard:  3.004750404387462\n"
     ]
    }
   ],
   "source": [
    "data = np.random.normal(loc=10, scale=3, size=1000)\n",
    "std_sample = np.std(data, ddof=1)\n",
    "std_population = np.std(data)\n",
    "print(\"Population Standard: \", std_population)\n",
    "print(\"Sample Standard: \", std_sample)"
   ]
  },
  {
   "cell_type": "code",
   "execution_count": 7,
   "id": "cef1cbd2",
   "metadata": {},
   "outputs": [
    {
     "name": "stdout",
     "output_type": "stream",
     "text": [
      "Model 1 Std Dev: 0.012909944487358068\n",
      "Model 2 Std Dev: 0.22126530078919587\n",
      "Model 1 is more stable.\n"
     ]
    }
   ],
   "source": [
    "model1 = np.array([0.85, 0.86, 0.84, 0.87])\n",
    "model2 = np.array([0.9, 0.6, 0.95, 0.5])\n",
    "\n",
    "std1 = np.std(model1, ddof=1)\n",
    "std2 = np.std(model2, ddof=1)\n",
    "\n",
    "print(\"Model 1 Std Dev:\", std1)\n",
    "print(\"Model 2 Std Dev:\", std2)\n",
    "\n",
    "if std1 > std2:\n",
    "    print(\"Model 2 is more stable.\")\n",
    "else:\n",
    "    print(\"Model 1 is more stable.\")"
   ]
  },
  {
   "cell_type": "code",
   "execution_count": 9,
   "id": "7417b682",
   "metadata": {},
   "outputs": [
    {
     "name": "stdout",
     "output_type": "stream",
     "text": [
      "Standard Deviation of pixel values: 1.4944341180973262\n"
     ]
    }
   ],
   "source": [
    "pixel_values = np.array([123, 124, 122, 121, 125, 123, 124, 122, 120, 123])\n",
    "\n",
    "std_pixel = np.std(pixel_values, ddof=1)\n",
    "print(\"Standard Deviation of pixel values:\", std_pixel)"
   ]
  },
  {
   "cell_type": "code",
   "execution_count": 10,
   "id": "8e056a49",
   "metadata": {},
   "outputs": [
    {
     "name": "stdout",
     "output_type": "stream",
     "text": [
      "Standard Deviation of rewards: 0.7863975156570492\n"
     ]
    }
   ],
   "source": [
    "rewards = np.array([8, 7, 8, 9, 7, 8, 9, 8, 7, 8, 6, 8, 7, 8, 8, 7, 8, 9, 7, 8])\n",
    "\n",
    "std_rewards = np.std(rewards, ddof=1)\n",
    "print(\"Standard Deviation of rewards:\", std_rewards)"
   ]
  }
 ],
 "metadata": {
  "kernelspec": {
   "display_name": ".venv",
   "language": "python",
   "name": "python3"
  },
  "language_info": {
   "codemirror_mode": {
    "name": "ipython",
    "version": 3
   },
   "file_extension": ".py",
   "mimetype": "text/x-python",
   "name": "python",
   "nbconvert_exporter": "python",
   "pygments_lexer": "ipython3",
   "version": "3.11.8"
  }
 },
 "nbformat": 4,
 "nbformat_minor": 5
}
