{
 "cells": [
  {
   "cell_type": "code",
   "execution_count": null,
   "metadata": {},
   "outputs": [],
   "source": [
    "import mysql.connector\n",
    "\n",
    "try:\n",
    "    db = mysql.connector.connect(\n",
    "        host=\"localhost\", user=\"root\", password=\"aio2025\", database=\"aio2025\"\n",
    "    )\n",
    "    print(\"Connection successful!\")\n",
    "\n",
    "except mysql.connector.Error as err:\n",
    "    print(err)"
   ]
  },
  {
   "cell_type": "markdown",
   "metadata": {},
   "source": [
    "-- 1. List all accounts with customer names\n",
    "SELECT c.Name, a.AccountID, a.Balance\n",
    "FROM Accounts a\n",
    "INNER JOIN Customers c ON a.CustomerID = c.CustomerID;\n",
    "\n",
    "-- 2. List all accounts including those without matching customer\n",
    "SELECT a.AccountID, a.Balance, c.Name\n",
    "FROM Accounts a\n",
    "LEFT JOIN Customers c ON a.CustomerID = c.CustomerID;\n",
    "\n",
    "-- 3. Show transaction details with customer name\n",
    "SELECT c.Name, t.TransactionID, t.Amount, t.TransactionDate\n",
    "FROM Transactions t\n",
    "JOIN Accounts a ON t.AccountID = a.AccountID\n",
    "JOIN Customers c ON a.CustomerID = c.CustomerID;\n",
    "\n",
    "-- 4. List all branches and employees (include branches without employees)\n",
    "SELECT b.BranchName, e.Name AS EmployeeName\n",
    "FROM Branches b\n",
    "LEFT JOIN Employees e ON b.BranchID = e.BranchID;\n",
    "\n",
    "-- 5. Customers living in same city as any branch\n",
    "SELECT DISTINCT c.Name, c.City\n",
    "FROM Customers c\n",
    "JOIN Branches b ON c.City = b.City;\n",
    "\n",
    "-- 6. All combinations of accounts and employees\n",
    "SELECT a.AccountID, e.Name AS EmployeeName\n",
    "FROM Accounts a\n",
    "CROSS JOIN Employees e;\n",
    "\n",
    "-- 7. Employees with invalid branch assignments\n",
    "SELECT e.Name, e.BranchID\n",
    "FROM Employees e\n",
    "LEFT JOIN Branches b ON e.BranchID = b.BranchID\n",
    "WHERE b.BranchID IS NULL;"
   ]
  }
 ],
 "metadata": {
  "kernelspec": {
   "display_name": ".venv",
   "language": "python",
   "name": "python3"
  },
  "language_info": {
   "name": "python",
   "version": "3.11.8"
  }
 },
 "nbformat": 4,
 "nbformat_minor": 2
}
