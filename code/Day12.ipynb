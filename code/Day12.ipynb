{
 "cells": [
  {
   "cell_type": "markdown",
   "metadata": {},
   "source": [
    "THE KNIGHT'S TOUR PROBLEM"
   ]
  },
  {
   "cell_type": "code",
   "execution_count": 30,
   "metadata": {},
   "outputs": [],
   "source": [
    "def is_valid_move(x, y, board_size):\n",
    "    return 0 <= x < board_size and 0 <= y < board_size\n",
    "\n",
    "def knights_tour(board_size, start_x, start_y):\n",
    "    #Create chessboard\n",
    "    board = [[-1 for x in range(board_size)] for y in range(board_size)]\n",
    "\n",
    "    #Check init position\n",
    "    if not is_valid_move(start_x, start_y, board_size):\n",
    "        return False\n",
    "    \n",
    "    #Set the init Start = 1\n",
    "    board[start_x][start_y] = 1\n",
    "    pos = 2  # next position\n",
    "\n",
    "    #the knight can move the specified position\n",
    "    move_x = [2, 1, -1, -2, -2, -1, 1, 2]\n",
    "    move_y = [1, 2, 2, 1, -1, -2, -2, -1]\n",
    "\n",
    "    if not solve_knights_tour(board, start_x, start_y, move_x, move_y, pos, board_size):\n",
    "        print(\"Không tìm thấy lời giải\")\n",
    "        return False\n",
    "    \n",
    "    print_solution(board)\n",
    "    return True\n",
    "    \n",
    "def solve_knights_tour(board, current_x, current_y, move_x, move_y, pos, board_size):\n",
    "    #incase out of moves\n",
    "    if pos == board_size * board_size + 1:\n",
    "        return True\n",
    "    \n",
    "    #exam all valid moves\n",
    "    for i in range(8):\n",
    "        new_x = current_x + move_x[i]\n",
    "        new_y = current_y + move_y[i]\n",
    "\n",
    "        if is_valid_move(new_x, new_y, board_size) and board[new_x][new_y] == -1:\n",
    "            board[new_x][new_y] = pos\n",
    "            if solve_knights_tour(board, new_x, new_y, move_x, move_y, pos + 1, board_size):\n",
    "                return True\n",
    "            board[new_x][new_y] = -1\n",
    "    return False\n",
    "\n",
    "def print_solution(board):\n",
    "    for i in range(len(board)):\n",
    "        for j in range(len(board)):\n",
    "            print(f\"{board[i][j]:2d}\", end=\" \")\n",
    "        print()"
   ]
  },
  {
   "cell_type": "code",
   "execution_count": 32,
   "metadata": {},
   "outputs": [
    {
     "name": "stdout",
     "output_type": "stream",
     "text": [
      "Lời giải cho bài toán mã đi tuần trên bàn cờ 5x5, bắt đầu từ vị trí (0,0):\n",
      " 1  6 15 10 21 \n",
      "14  9 20  5 16 \n",
      "19  2  7 22 11 \n",
      " 8 13 24 17  4 \n",
      "25 18  3 12 23 \n",
      "\n",
      "Lời giải cho bài toán mã đi tuần trên bàn cờ 5x5, bắt đầu từ vị trí (2,2):\n",
      "23 10 15  4 25 \n",
      "16  5 24  9 14 \n",
      "11 22  1 18  3 \n",
      " 6 17 20 13  8 \n",
      "21 12  7  2 19 \n"
     ]
    },
    {
     "data": {
      "text/plain": [
       "True"
      ]
     },
     "execution_count": 32,
     "metadata": {},
     "output_type": "execute_result"
    }
   ],
   "source": [
    "# Thử nghiệm với bàn cờ 5x5, bắt đầu từ vị trí (0,0)\n",
    "print(\"Lời giải cho bài toán mã đi tuần trên bàn cờ 5x5, bắt đầu từ vị trí (0,0):\")\n",
    "knights_tour(5, 0, 0)\n",
    "\n",
    "# Thử nghiệm với một vị trí bắt đầu khác, ví dụ (2,2)\n",
    "print(\"\\nLời giải cho bài toán mã đi tuần trên bàn cờ 5x5, bắt đầu từ vị trí (2,2):\")\n",
    "knights_tour(5, 2, 2)"
   ]
  }
 ],
 "metadata": {
  "kernelspec": {
   "display_name": "Python 3",
   "language": "python",
   "name": "python3"
  },
  "language_info": {
   "codemirror_mode": {
    "name": "ipython",
    "version": 3
   },
   "file_extension": ".py",
   "mimetype": "text/x-python",
   "name": "python",
   "nbconvert_exporter": "python",
   "pygments_lexer": "ipython3",
   "version": "3.11.9"
  }
 },
 "nbformat": 4,
 "nbformat_minor": 2
}
