{
 "cells": [
  {
   "cell_type": "code",
   "execution_count": null,
   "metadata": {},
   "outputs": [],
   "source": [
    "import mysql.connector\n",
    "\n",
    "try:\n",
    "    db = mysql.connector.connect(\n",
    "        host=\"localhost\",\n",
    "        user=\"root\",\n",
    "        password=\"aio2025\",\n",
    "        database=\"aio2025\"\n",
    "    )\n",
    "    print(\"Connection successful!\")\n",
    "\n",
    "except mysql.connector.Error as err:\n",
    "    print(f\"Error: {err}\")\n",
    "    exit()"
   ]
  },
  {
   "cell_type": "code",
   "execution_count": null,
   "metadata": {},
   "outputs": [],
   "source": [
    "cursor = db.cursor()\n",
    "sql_task = \"\"\"\n",
    "\"\"\"\n",
    "\n",
    "try:\n",
    "    cursor.execute(\"DROP TABLE IF EXISTS tasks;\")\n",
    "    db.commit()\n",
    "\n",
    "    cursor.execute(sql_task)\n",
    "    db.commit()\n",
    "except mysql.connector.Error as err:\n",
    "    print(err)\n",
    "\n",
    "    "
   ]
  }
 ],
 "metadata": {
  "kernelspec": {
   "display_name": ".venv",
   "language": "python",
   "name": "python3"
  },
  "language_info": {
   "name": "python",
   "version": "3.11.8"
  }
 },
 "nbformat": 4,
 "nbformat_minor": 2
}
