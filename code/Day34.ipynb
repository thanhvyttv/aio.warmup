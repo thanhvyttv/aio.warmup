{
 "cells": [
  {
   "cell_type": "code",
   "execution_count": 1,
   "metadata": {},
   "outputs": [],
   "source": [
    "import sqlite3\n",
    "\n",
    "connection = sqlite3.connect(\"database.sqlite\")\n",
    "cursor = connection.cursor()"
   ]
  },
  {
   "cell_type": "code",
   "execution_count": 2,
   "metadata": {},
   "outputs": [],
   "source": [
    "cursor.execute(\"\"\"\n",
    "CREATE TABLE STOCK (\n",
    "               ID INTEGER PRIMARY KEY,\n",
    "               NAME TEXT NOT NULL,\n",
    "               BUY INTEGER NOT NULL,\n",
    "               INVESTOR TEXT NOT NULL\n",
    "               );\n",
    "\"\"\")\n",
    "\n",
    "cursor.execute(\"\"\"\n",
    "INSERT INTO STOCK (ID, NAME, BUY, INVESTOR)\n",
    "               VALUES\n",
    "               (1, 'ACB', 29.45, 'Nguyen'),\n",
    "               (2, 'VIC', 44.55, 'Nguyen'),\n",
    "               (3, 'GMD', 74.30, 'Nguyen'),\n",
    "               (4, 'ACB', 28.45, 'Vinh'),\n",
    "               (5, 'VIC', 40.55, 'Vinh'),\n",
    "               (6, 'GMD', 60.30, 'Vinh');\n",
    "\"\"\")\n",
    "\n",
    "connection.commit()"
   ]
  },
  {
   "cell_type": "code",
   "execution_count": null,
   "metadata": {},
   "outputs": [
    {
     "name": "stdout",
     "output_type": "stream",
     "text": [
      "   ID NAME    BUY INVESTOR\n",
      "0   1  ACB  29.45   Nguyen\n",
      "1   2  VIC  44.55   Nguyen\n",
      "2   3  GMD  74.30   Nguyen\n",
      "3   4  ACB  28.45     Vinh\n",
      "4   5  VIC  40.55     Vinh\n",
      "5   6  GMD  60.30     Vinh\n"
     ]
    }
   ],
   "source": [
    "import pandas as pd\n",
    "\n",
    "data = pd.read_sql_query(\"SELECT * FROM STOCK;\", connection)\n",
    "print(data)"
   ]
  },
  {
   "cell_type": "code",
   "execution_count": null,
   "metadata": {},
   "outputs": [
    {
     "name": "stdout",
     "output_type": "stream",
     "text": [
      "   TOTAL_BUY\n",
      "0      277.6\n"
     ]
    }
   ],
   "source": [
    "# Query lấy ra tổng giá bán của stock\n",
    "query = \"\"\"SELECT SUM(BUY) AS TOTAL_BUY FROM STOCK;\"\"\"\n",
    "data_sum = pd.read_sql_query(query, connection)\n",
    "print(data_sum)"
   ]
  },
  {
   "cell_type": "code",
   "execution_count": 6,
   "metadata": {},
   "outputs": [
    {
     "name": "stdout",
     "output_type": "stream",
     "text": [
      "  INVESTOR NAME  MAX_PRICE\n",
      "0   Nguyen  GMD       74.3\n",
      "1     Vinh  GMD       60.3\n"
     ]
    }
   ],
   "source": [
    "# Query lấy ra mã cổ phiếu có giá mua lớn nhất theo nhà đầu tư\n",
    "query = \"\"\"\n",
    "SELECT INVESTOR, NAME, MAX(BUY) AS MAX_PRICE FROM STOCK GROUP BY INVESTOR;\n",
    "\"\"\"\n",
    "\n",
    "data_max_price = pd.read_sql_query(query, connection)\n",
    "print(data_max_price)"
   ]
  },
  {
   "cell_type": "code",
   "execution_count": null,
   "metadata": {},
   "outputs": [],
   "source": []
  }
 ],
 "metadata": {
  "kernelspec": {
   "display_name": ".venv",
   "language": "python",
   "name": "python3"
  },
  "language_info": {
   "codemirror_mode": {
    "name": "ipython",
    "version": 3
   },
   "file_extension": ".py",
   "mimetype": "text/x-python",
   "name": "python",
   "nbconvert_exporter": "python",
   "pygments_lexer": "ipython3",
   "version": "3.11.8"
  }
 },
 "nbformat": 4,
 "nbformat_minor": 2
}
