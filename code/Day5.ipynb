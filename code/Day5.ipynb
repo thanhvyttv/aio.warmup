{
 "cells": [
  {
   "cell_type": "code",
   "execution_count": 29,
   "metadata": {},
   "outputs": [
    {
     "data": {
      "text/plain": [
       "1.7320508100147276"
      ]
     },
     "execution_count": 29,
     "metadata": {},
     "output_type": "execute_result"
    }
   ],
   "source": [
    "def find_squared_root(a):\n",
    "    EPSILON = 0.001\n",
    "    x = a\n",
    "    while True:\n",
    "        x_n = x - (x**2 - a)/(2*x)\n",
    "        if abs(x_n - x) < EPSILON:\n",
    "            break\n",
    "        x = x_n\n",
    "        \n",
    "    return x_n\n",
    "\n",
    "find_squared_root(3)\n",
    "        "
   ]
  }
 ],
 "metadata": {
  "kernelspec": {
   "display_name": "Python 3",
   "language": "python",
   "name": "python3"
  },
  "language_info": {
   "codemirror_mode": {
    "name": "ipython",
    "version": 3
   },
   "file_extension": ".py",
   "mimetype": "text/x-python",
   "name": "python",
   "nbconvert_exporter": "python",
   "pygments_lexer": "ipython3",
   "version": "3.11.9"
  }
 },
 "nbformat": 4,
 "nbformat_minor": 2
}
