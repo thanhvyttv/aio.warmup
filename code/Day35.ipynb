{
 "cells": [
  {
   "cell_type": "markdown",
   "metadata": {},
   "source": [
    "CREATE TABLE aio2025_demodb.salespersons (\n",
    "\tsales_person_id INT auto_increment NOT NULL,\n",
    "\tfullname varchar(100) NOT NULL,\n",
    "\temail varchar(100) NOT NULL,\n",
    "\tphone_number varchar(100) NULL,\n",
    "\tCONSTRAINT salespersons_pk PRIMARY KEY (sales_person_id),\n",
    "\tCONSTRAINT salespersons_unique UNIQUE KEY (email)\n",
    ")\n",
    "ENGINE=InnoDB\n",
    "DEFAULT CHARSET=utf8mb4\n",
    "COLLATE=utf8mb4_0900_ai_ci;"
   ]
  },
  {
   "cell_type": "markdown",
   "metadata": {},
   "source": [
    "CREATE TABLE aio2025_demodb.customers (\n",
    "\tcustomer_id INT auto_increment NOT NULL,\n",
    "\tfullname varchar(100) NOT NULL,\n",
    "\temail varchar(100) NOT NULL,\n",
    "\tphone_number varchar(100) NULL,\n",
    "\tCONSTRAINT customers_pk PRIMARY KEY (customer_id),\n",
    "\tCONSTRAINT customers_unique UNIQUE KEY (email)\n",
    ")"
   ]
  },
  {
   "cell_type": "markdown",
   "metadata": {},
   "source": [
    "CREATE TABLE aio2025_demodb.orders (\n",
    "\torder_id INT auto_increment NOT NULL,\n",
    "\tcustomer_id INT NULL,\n",
    "\tsales_person_id INT NULL,\n",
    "\torder_date DATE NULL,\n",
    "\ttotal_amount DECIMAL NULL,\n",
    "\tCONSTRAINT orders_pk PRIMARY KEY (order_id),\n",
    "\tCONSTRAINT orders_customers_FK FOREIGN KEY (customer_id) REFERENCES aio2025_demodb.customers(customer_id),\n",
    "\tCONSTRAINT orders_salespersons_FK FOREIGN KEY (sales_person_id) REFERENCES aio2025_demodb.salespersons(sales_person_id)\n",
    ")"
   ]
  },
  {
   "cell_type": "markdown",
   "metadata": {},
   "source": [
    "INSERT INTO aio2025_demodb.salespersons\n",
    "(sales_person_id, fullname, email, phone_number)\n",
    "VALUES\n",
    "(1,'TestData1','TestData1@data.com','1234567890'),\n",
    "(2,'TestData2','TestData2@data.com','1234567890'),\n",
    "(3,'TestData3','TestData3@data.com','1234567890'),\n",
    "(4,'TestData4','TestData4@data.com','1234567890'),\n",
    "(5,'TestData5','TestData5@data.com','1234567890'),\n",
    "(6,'TestData6','TestData6@data.com','1234567890'),\n",
    "(7,'TestData7','TestData7@data.com','1234567890');"
   ]
  },
  {
   "cell_type": "markdown",
   "metadata": {},
   "source": [
    "INSERT INTO aio2025_demodb.customers\n",
    "(customer_id, fullname, email, phone_number)\n",
    "VALUES\n",
    "(1,'customer1','customer_mail1@data.com','1234567890'),\n",
    "(2,'customer2','customer_mail2@data.com','1234567890'),\n",
    "(3,'customer3','customer_mail3@data.com','1234567890'),\n",
    "(4,'customer4','customer_mail4@data.com','1234567890'),\n",
    "(5,'customer5','customer_mail5@data.com','1234567890'),\n",
    "(6,'customer6','customer_mail6@data.com','1234567890'),\n",
    "(7,'customer7','customer_mail7@data.com','1234567890');"
   ]
  },
  {
   "cell_type": "markdown",
   "metadata": {},
   "source": [
    "INSERT INTO aio2025_demodb.orders\n",
    "(order_id, customer_id, sales_person_id, order_date, total_amount)\n",
    "VALUES\n",
    "(1,5,2,'2024/04/23',2452922),\n",
    "(2,1,4,'2024/07/05',7972336),\n",
    "(3,7,4,'2024/08/21',6264611),\n",
    "(4,3,6,'2024/06/03',8931947),\n",
    "(5,2,7,'2024/04/11',8255736),\n",
    "(6,3,2,'2024/03/07',3181224),\n",
    "(7,4,4,'2024/12/15',9131878),\n",
    "(8,7,3,'2024/08/10',1169398),\n",
    "(9,3,6,'2024/01/20',2233125),\n",
    "(10,2,2,'2024/02/09',415754),\n",
    "(11,7,5,'2024/04/27',2448332),\n",
    "(12,4,1,'2024/01/17',7021722),\n",
    "(13,1,1,'2024/12/15',4462475),\n",
    "(14,5,3,'2024/09/27',2037313),\n",
    "(15,7,1,'2024/06/11',49131),\n",
    "(16,3,1,'2024/08/05',7128277),\n",
    "(17,4,6,'2024/03/28',8359985),\n",
    "(18,5,4,'2024/05/04',2873092),\n",
    "(19,3,5,'2024/02/03',330519),\n",
    "(20,1,2,'2024/03/06',6339367),\n",
    "(21,6,2,'2024/10/21',9492974),\n",
    "(22,2,4,'2024/08/05',8637733);"
   ]
  },
  {
   "cell_type": "markdown",
   "metadata": {},
   "source": [
    "SELECT * FROM aio2025_demodb.orders WHERE sales_person_id = 1;"
   ]
  },
  {
   "cell_type": "markdown",
   "metadata": {},
   "source": [
    "Tìm khách hàng có số lượng đơn hàng nhiều nhất\n",
    "SELECT customer_id, count(order_id) as order_count FROM aio2025_demodb.orders\n",
    "GROUP BY customer_id\n",
    "ORDER BY order_count DESC\n",
    "LIMIT 1;"
   ]
  },
  {
   "cell_type": "markdown",
   "metadata": {},
   "source": [
    "Tính tổng doanh số của từng nhân viên\n",
    "SELECT sales_person_id, sum(total_amount) as total_sale\n",
    "FROM aio2025_demodb.orders\n",
    "GROUP BY sales_person_id;"
   ]
  },
  {
   "cell_type": "markdown",
   "metadata": {},
   "source": [
    "Tìm  nhân viên có số doanh số cao nhất\n",
    "SELECT sales_person_id, sum(total_amount) as total_sale\n",
    "FROM aio2025_demodb.orders\n",
    "GROUP BY sales_person_id\n",
    "ORDER BY total_sale DESC\n",
    "LIMIT 1;"
   ]
  },
  {
   "cell_type": "markdown",
   "metadata": {},
   "source": [
    "Cập  nhật tổng giá trị đơn hàng có ID = 2\n",
    "UPDATE aio2025_demodb.orders\n",
    "SET total_amount = 4500000\n",
    "WHERE order_id = 2;"
   ]
  },
  {
   "cell_type": "markdown",
   "metadata": {},
   "source": [
    "Cập nhật số điện thoại của khách hàng có customerID = 3\n",
    "UPDATE aio2025_demodb.customers\n",
    "SET phone_number = '121212121212'\n",
    "WHERE customer_id = 3;"
   ]
  },
  {
   "cell_type": "markdown",
   "metadata": {},
   "source": [
    "Xóa tất cả các đơn hàng của khách hàng có CustomerID = 2\n",
    "DELETE FROM aio2025_demodb.orders\n",
    "WHERE customer_id = 2;"
   ]
  }
 ],
 "metadata": {
  "kernelspec": {
   "display_name": ".venv",
   "language": "python",
   "name": "python3"
  },
  "language_info": {
   "name": "python",
   "version": "3.11.8"
  }
 },
 "nbformat": 4,
 "nbformat_minor": 2
}
