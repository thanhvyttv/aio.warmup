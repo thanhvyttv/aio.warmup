{
 "cells": [
  {
   "cell_type": "code",
   "execution_count": 10,
   "metadata": {},
   "outputs": [
    {
     "name": "stdout",
     "output_type": "stream",
     "text": [
      "Corpus : [[(0, 1), (1, 1), (2, 1)], [(1, 1), (2, 1), (3, 1), (4, 1)]]\n"
     ]
    }
   ],
   "source": [
    "from nltk.tokenize import word_tokenize\n",
    "from gensim import corpora\n",
    "\n",
    "\n",
    "# Tạo danh sách các câu\n",
    "sentences = [\n",
    "    \"Tôi thích AI\",\n",
    "    \"Tôi thích âm nhạc\"\n",
    "]\n",
    "\n",
    "# Chia nhỏ câu thành các từ\n",
    "words = [word_tokenize(sentence) for sentence in sentences]\n",
    "\n",
    "# Tạo từ điển\n",
    "dictionary = corpora.Dictionary(words)\n",
    "\n",
    "# Chuyển đổi dấu câu thành các vector bag-of-words\n",
    "bow_corpus = [dictionary.doc2bow(word) for word in words]\n",
    "\n",
    "print(f'Corpus : {bow_corpus}')"
   ]
  },
  {
   "cell_type": "code",
   "execution_count": 11,
   "metadata": {},
   "outputs": [
    {
     "name": "stdout",
     "output_type": "stream",
     "text": [
      "Từ tương tự với \"AI\": [('thích', 0.06797593086957932), ('nhạc', -0.013514931313693523), ('âm', -0.044617097824811935), ('Tôi', -0.1116705983877182)]\n"
     ]
    }
   ],
   "source": [
    "from gensim.models import Word2Vec\n",
    "\n",
    "# Tạo mô hình Word2Vec\n",
    "model = Word2Vec(words, min_count=1)\n",
    "\n",
    "# In ra các từ tương tự với AI\n",
    "similar_words = model.wv.most_similar(\"AI\")\n",
    "print(f'Từ tương tự với \"AI\": {similar_words}')"
   ]
  },
  {
   "cell_type": "code",
   "execution_count": 12,
   "metadata": {},
   "outputs": [
    {
     "name": "stdout",
     "output_type": "stream",
     "text": [
      "Corpus: [[(0, 1), (1, 1), (2, 1), (3, 1), (4, 1), (5, 1), (6, 1), (7, 1)], [(0, 1), (1, 1), (8, 1), (9, 1), (10, 1), (11, 1), (12, 1), (13, 1), (14, 1), (15, 1), (16, 1), (17, 1), (18, 1), (19, 1), (20, 1), (21, 1), (22, 1), (23, 1), (24, 1), (25, 1), (26, 1)]]\n"
     ]
    }
   ],
   "source": [
    "sentences_bt = [\n",
    "    \"Robot của kỳ lân công nghệ Figure AI\", \n",
    "    \"Figure AI là startup mới thành lập năm 2022 tại Mỹ nhưng đã tạo ấn tượng mạnh với giới đầu tư\"\n",
    "    ]\n",
    "\n",
    "words_bt = [word_tokenize(sentence) for sentence in sentences_bt]\n",
    "dictionary_bt = corpora.Dictionary(words_bt)\n",
    "bow_corpus_bt = [dictionary_bt.doc2bow(word) for word in words_bt]\n",
    "print(f'Corpus: {bow_corpus_bt}')"
   ]
  },
  {
   "cell_type": "code",
   "execution_count": 13,
   "metadata": {},
   "outputs": [
    {
     "name": "stdout",
     "output_type": "stream",
     "text": [
      "Từ tương tự với \"Robot\": [('mạnh', 0.2008291482925415), ('ấn', 0.177541121840477), ('của', 0.11886844784021378), ('là', 0.11027877777814865), ('lân', 0.10132686793804169), ('tạo', 0.09659133851528168), ('đầu', 0.08376448601484299), ('nghệ', 0.0825916975736618), ('năm', 0.0762021541595459), ('Mỹ', 0.07317215949296951)]\n"
     ]
    }
   ],
   "source": [
    "model_bt = Word2Vec(words_bt, min_count=1)\n",
    "\n",
    "similar_words_bt = model_bt.wv.most_similar(\"Robot\")\n",
    "print(f'Từ tương tự với \"Robot\": {similar_words_bt}')"
   ]
  },
  {
   "cell_type": "code",
   "execution_count": null,
   "metadata": {},
   "outputs": [],
   "source": []
  }
 ],
 "metadata": {
  "kernelspec": {
   "display_name": ".venv",
   "language": "python",
   "name": "python3"
  },
  "language_info": {
   "codemirror_mode": {
    "name": "ipython",
    "version": 3
   },
   "file_extension": ".py",
   "mimetype": "text/x-python",
   "name": "python",
   "nbconvert_exporter": "python",
   "pygments_lexer": "ipython3",
   "version": "3.11.8"
  }
 },
 "nbformat": 4,
 "nbformat_minor": 2
}
