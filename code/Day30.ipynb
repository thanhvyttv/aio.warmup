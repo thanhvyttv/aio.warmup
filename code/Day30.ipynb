{
 "cells": [
  {
   "cell_type": "code",
   "execution_count": 12,
   "metadata": {},
   "outputs": [
    {
     "name": "stdout",
     "output_type": "stream",
     "text": [
      "Sigmoid: [0.11920292 0.26894142 0.5        0.73105858 0.88079708]\n",
      "Sigmoid derivative: [0.10499359 0.19661193 0.25       0.19661193 0.10499359]\n"
     ]
    }
   ],
   "source": [
    "import numpy as np\n",
    "import matplotlib.pyplot as plt\n",
    "\n",
    "def sigmoid(x):\n",
    "    return 1/(1+np.exp(-x))\n",
    "\n",
    "def sigmoid_derivative(x):\n",
    "    return sigmoid(x)*(1-sigmoid(x))\n",
    "\n",
    "x = np.array([-2, -1, 0, 1, 2])\n",
    "y = sigmoid(x)\n",
    "dy_dx = sigmoid_derivative(x)\n",
    "print(f'Sigmoid: {y}')\n",
    "print(f'Sigmoid derivative: {dy_dx}')"
   ]
  },
  {
   "cell_type": "code",
   "execution_count": 3,
   "metadata": {},
   "outputs": [
    {
     "name": "stdout",
     "output_type": "stream",
     "text": [
      "MSE Gradient: [-0.25 -0.1   0.05 -0.25]\n"
     ]
    }
   ],
   "source": [
    "def mse_derivative(y_true, y_pred):\n",
    "    n = len(y_true)\n",
    "    return -2*(y_true - y_pred) / n\n",
    "\n",
    "y_true = np.array([3, 5, 2, 8])\n",
    "y_pred = np.array([2.5, 4.8, 2.1, 7.5])\n",
    "print(f'MSE Gradient: {mse_derivative(y_true, y_pred)}')"
   ]
  },
  {
   "cell_type": "code",
   "execution_count": null,
   "metadata": {},
   "outputs": [
    {
     "name": "stdout",
     "output_type": "stream",
     "text": [
      "Relu: [0 0 0 1 2]\n",
      "Relu derivative: [0 0 0 1 1]\n"
     ]
    }
   ],
   "source": [
    "def relu(x):\n",
    "    # return np.array([val if val > 0 else 0 for val in x])\n",
    "    return np.maximum(0, x)\n",
    "\n",
    "def relu_derivative(x):\n",
    "    # return np.array([1 if val > 0 else 0 for val in x])\n",
    "    return np.where(x > 0, 1, 0)\n",
    "\n",
    "x = np.array([-2, -1, 0, 1, 2])\n",
    "print(f'Relu: {relu(x)}')\n",
    "print(f'Relu derivative: {relu_derivative(x)}')"
   ]
  },
  {
   "cell_type": "code",
   "execution_count": 7,
   "metadata": {},
   "outputs": [
    {
     "name": "stdout",
     "output_type": "stream",
     "text": [
      "Softmax: [0.65900114 0.24243297 0.09856589]\n",
      "Softmax Derivative: [0.22471864 0.18365923 0.08885066]\n"
     ]
    }
   ],
   "source": [
    "def softmax(z):\n",
    "    return np.exp(z)/np.sum(np.exp(z))\n",
    "\n",
    "def softmax_derivative(z):\n",
    "    return softmax(z) * (1 - softmax(z))\n",
    "\n",
    "z = np.array([2.0, 1.0, 0.1])\n",
    "print(f'Softmax: {softmax(z)}')\n",
    "print(f'Softmax Derivative: {softmax_derivative(z)}')"
   ]
  },
  {
   "cell_type": "code",
   "execution_count": 8,
   "metadata": {},
   "outputs": [
    {
     "name": "stdout",
     "output_type": "stream",
     "text": [
      "Tanh: [-0.96402758 -0.76159416  0.          0.76159416  0.96402758]\n",
      "Tanh Derivative: [0.07065082 0.41997434 1.         0.41997434 0.07065082]\n"
     ]
    }
   ],
   "source": [
    "def tanh(x):\n",
    "    return np.tanh(x)\n",
    "\n",
    "def tanh_derivative(x):\n",
    "    return 1 - np.tanh(x) ** 2\n",
    "\n",
    "x = np.array([-2, -1, 0, 1, 2])\n",
    "print(f'Tanh: {tanh(x)}')\n",
    "print(f'Tanh Derivative: {tanh_derivative(x)}')"
   ]
  },
  {
   "cell_type": "code",
   "execution_count": null,
   "metadata": {},
   "outputs": [],
   "source": []
  }
 ],
 "metadata": {
  "kernelspec": {
   "display_name": ".venv",
   "language": "python",
   "name": "python3"
  },
  "language_info": {
   "codemirror_mode": {
    "name": "ipython",
    "version": 3
   },
   "file_extension": ".py",
   "mimetype": "text/x-python",
   "name": "python",
   "nbconvert_exporter": "python",
   "pygments_lexer": "ipython3",
   "version": "3.11.8"
  }
 },
 "nbformat": 4,
 "nbformat_minor": 2
}
