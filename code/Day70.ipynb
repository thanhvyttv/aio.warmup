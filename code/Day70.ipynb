{
 "cells": [
  {
   "cell_type": "code",
   "execution_count": null,
   "id": "ee937a21",
   "metadata": {},
   "outputs": [
    {
     "name": "stdout",
     "output_type": "stream",
     "text": [
      "-1\n"
     ]
    }
   ],
   "source": [
    "# Thuật Toán Binary Search (Tìm kiếm nhị phân)\n",
    "# Tìm vị trí phần tử\n",
    "def binary_search(arr, x):\n",
    "    left = 0\n",
    "    right = len(arr) - 1\n",
    "    while left <= right:\n",
    "        mid = (left + right) // 2\n",
    "        if arr[mid] == x:\n",
    "            return mid\n",
    "        elif arr[mid] < x:\n",
    "            left = mid + 1\n",
    "        else:\n",
    "            right = mid - 1\n",
    "    return -1\n",
    "\n",
    "\n",
    "arr = [1, 3, 5, 7, 9]\n",
    "x = 2\n",
    "print(binary_search(arr, x))"
   ]
  },
  {
   "cell_type": "code",
   "execution_count": 1,
   "id": "1a5cb990",
   "metadata": {},
   "outputs": [
    {
     "name": "stdout",
     "output_type": "stream",
     "text": [
      "2\n"
     ]
    }
   ],
   "source": [
    "# Tìm phần tử đầu tiên xuất hiện\n",
    "arr1 = [1, 2, 4, 4, 4, 5]\n",
    "x1 = 4\n",
    "\n",
    "\n",
    "def binary_search_first_number(arr, x):\n",
    "    left = 0\n",
    "    right = len(arr) - 1\n",
    "    first_occurence = -1\n",
    "    while left <= right:\n",
    "        mid = (left + right) // 2\n",
    "        if arr[mid] == x:\n",
    "            first_occurence = mid\n",
    "            right = mid - 1\n",
    "        elif arr[mid] < x:\n",
    "            left = mid + 1\n",
    "        else:\n",
    "            pass\n",
    "    return first_occurence\n",
    "\n",
    "\n",
    "print(binary_search_first_number(arr1, x1))"
   ]
  },
  {
   "cell_type": "code",
   "execution_count": null,
   "id": "0be361ba",
   "metadata": {},
   "outputs": [
    {
     "name": "stdout",
     "output_type": "stream",
     "text": [
      "3\n"
     ]
    }
   ],
   "source": [
    "# Tìm phần tử nhỏ nhất ≥ x\n",
    "# Trả về chỉ số của phần tử đầu tiên trong mảng lớn hơn hoặc bằng x\n",
    "def binary_search_smallest_number(arr, x):\n",
    "    left = 0\n",
    "    right = len(arr) - 1\n",
    "    while left <= right:\n",
    "        mid = (left + right) // 2\n",
    "        if arr[mid] >= x:\n",
    "            return mid\n",
    "        else:\n",
    "            left = mid + 1\n",
    "    return -1\n",
    "\n",
    "\n",
    "arr = [1, 3, 5, 7, 9]\n",
    "x = 6\n",
    "print(binary_search_smallest_number(arr, x))"
   ]
  },
  {
   "cell_type": "code",
   "execution_count": 40,
   "id": "649bef50",
   "metadata": {},
   "outputs": [
    {
     "name": "stdout",
     "output_type": "stream",
     "text": [
      "3\n"
     ]
    }
   ],
   "source": [
    "# Đếm số lần gọi đệ quy\n",
    "# Viết lại Binary Search dưới dạng đệ quy, và trả về số lần gọi hàm tìm kiếm.\n",
    "sorted_array = [2, 5, 7, 8, 11, 12]\n",
    "element_to_find = 5\n",
    "\n",
    "\n",
    "def binary_search_recursive(arr, x, left, right, count=0):\n",
    "    count += 1\n",
    "    if left > right:\n",
    "        return -1, count\n",
    "\n",
    "    mid = (left + right) // 2\n",
    "    if arr[mid] == x:\n",
    "        return count\n",
    "    elif arr[mid] < x:\n",
    "        return binary_search_recursive(arr, x, mid + 1, right, count)\n",
    "    else:\n",
    "        return binary_search_recursive(arr, x, left, mid - 1, count)\n",
    "\n",
    "\n",
    "def binary_search(arr, x):\n",
    "    return binary_search_recursive(arr, x, 0, len(arr) - 1)\n",
    "\n",
    "\n",
    "print(binary_search(sorted_array, element_to_find))"
   ]
  },
  {
   "cell_type": "code",
   "execution_count": null,
   "id": "97f4650d",
   "metadata": {},
   "outputs": [],
   "source": []
  }
 ],
 "metadata": {
  "kernelspec": {
   "display_name": ".venv",
   "language": "python",
   "name": "python3"
  },
  "language_info": {
   "codemirror_mode": {
    "name": "ipython",
    "version": 3
   },
   "file_extension": ".py",
   "mimetype": "text/x-python",
   "name": "python",
   "nbconvert_exporter": "python",
   "pygments_lexer": "ipython3",
   "version": "3.11.8"
  }
 },
 "nbformat": 4,
 "nbformat_minor": 5
}
