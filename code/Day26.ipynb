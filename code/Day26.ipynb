{
 "cells": [
  {
   "cell_type": "code",
   "execution_count": 4,
   "metadata": {},
   "outputs": [
    {
     "name": "stdout",
     "output_type": "stream",
     "text": [
      "     Sốt     Ho Đau họng Mệt mỏi    Flu\n",
      "0   Cao      Có       Có      Có     Có\n",
      "1    Cao  Không       Có   Không     Có\n",
      "2   Cao      Có    Không      Có     Có\n",
      "3   Thấp     Có       Có      Có  Không\n",
      "4   Cao      Có       Có   Không     Có\n",
      "5   Thấp  Không       Có   Không  Không\n",
      "6   Thấp     Có    Không      Có  Không\n",
      "7   Cao   Không       Có      Có     Có\n",
      "8   Thấp  Không    Không   Không  Không\n",
      "9   Cao      Có       Có      Có     Có\n"
     ]
    }
   ],
   "source": [
    "import numpy as np\n",
    "import pandas as pd\n",
    "\n",
    "data = pd.DataFrame({\"Sốt\": [\"Cao \", \"Cao\", \"Cao \", \"Thấp\", \" Cao \", \"Thấp\", \"Thấp\", \" Cao \", \"Thấp\", \" Cao \"] ,\n",
    "                    \"Ho\": [\"Có\", \"Không\", \"Có\", \"Có\", \"Có\", \"Không\", \"Có\", \"Không\", \"Không\", \"Có\"] ,\n",
    "                    \"Đau họng\": [\"Có\", \"Có\", \"Không\", \"Có\", \"Có\", \"Có\", \"Không\", \"Có\", \"Không\", \"Có\"] ,\n",
    "                    \"Mệt mỏi\": [\"Có\", \"Không\", \"Có\", \"Có\", \"Không\", \"Không\", \"Có\", \"Có\", \"Không\", \"Có\"] ,\n",
    "                    \"Flu\": [\"Có\", \"Có\", \"Có\", \"Không\", \"Có\", \"Không\", \"Không\", \"Có\", \"Không\", \"Có\"]\n",
    "                   })\n",
    "\n",
    "\n",
    "print(data)\n"
   ]
  },
  {
   "cell_type": "code",
   "execution_count": 9,
   "metadata": {},
   "outputs": [
    {
     "name": "stdout",
     "output_type": "stream",
     "text": [
      "     Sốt     Ho Đau họng Mệt mỏi Flu\n",
      "0   Cao      Có       Có      Có  Có\n",
      "1    Cao  Không       Có   Không  Có\n",
      "2   Cao      Có    Không      Có  Có\n",
      "4   Cao      Có       Có   Không  Có\n",
      "7   Cao   Không       Có      Có  Có\n",
      "9   Cao      Có       Có      Có  Có\n"
     ]
    }
   ],
   "source": [
    "print(data[data[\"Flu\"] == \"Có\"])"
   ]
  },
  {
   "cell_type": "code",
   "execution_count": null,
   "metadata": {},
   "outputs": [],
   "source": [
    "# Dữ liệu cần dự đoán\n",
    "new_patient = {\"Sốt\" : \"Cao\",\n",
    "                \"Ho\" : \"Có\",\n",
    "                \"Đau họng\" : \"Có\",\n",
    "                \"Mệt mỏi\" : \"Không\"\n",
    "                } \n",
    "\n",
    "# Tính xác suất tiên nghiệm P(C)\n",
    "P_flu = data[\"Flu\"].value_counts(normalize=True)[\"Có\"] #P(C=1)\n",
    "P_not_flu = 1 - P_flu #P(C=0)\n",
    "print(f\"P_flu: {P_flu}\")\n",
    "print(f\"P_not_flu: {P_not_flu}\")"
   ]
  },
  {
   "cell_type": "code",
   "execution_count": null,
   "metadata": {},
   "outputs": [],
   "source": [
    "# Hàm tính xác suất có điều kiện P(x_i|C) với Laplace smoothing\n",
    "def condition_prob(feature, value, flu_status):\n",
    "    subset = data[data[\"Flu\"] == flu_status]\n",
    "    count_features = len(subset(subset[feature] == value)) + 1\n",
    "    total_count = len(subset) + 2\n",
    "    return count_features / total_count\n",
    "\n",
    "# P(X|C=1)\n",
    "P_X_given_flu = 1\n",
    "# P(X|C=0)\n",
    "P_X_given_not_flu = 1\n",
    "\n",
    "for feature, value in new_patient.items():\n",
    "    "
   ]
  }
 ],
 "metadata": {
  "kernelspec": {
   "display_name": ".venv",
   "language": "python",
   "name": "python3"
  },
  "language_info": {
   "codemirror_mode": {
    "name": "ipython",
    "version": 3
   },
   "file_extension": ".py",
   "mimetype": "text/x-python",
   "name": "python",
   "nbconvert_exporter": "python",
   "pygments_lexer": "ipython3",
   "version": "3.11.8"
  }
 },
 "nbformat": 4,
 "nbformat_minor": 2
}
