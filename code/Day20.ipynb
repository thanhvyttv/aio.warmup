{
 "cells": [
  {
   "cell_type": "code",
   "execution_count": 1,
   "metadata": {},
   "outputs": [
    {
     "name": "stdout",
     "output_type": "stream",
     "text": [
      "6\n"
     ]
    }
   ],
   "source": [
    "print(len(\"Python\"))"
   ]
  },
  {
   "cell_type": "code",
   "execution_count": 3,
   "metadata": {},
   "outputs": [
    {
     "name": "stdout",
     "output_type": "stream",
     "text": [
      "<class 'float'>\n"
     ]
    }
   ],
   "source": [
    "a = 10\n",
    "b = 2.5\n",
    "c = a + b\n",
    "print(type(c))"
   ]
  },
  {
   "cell_type": "code",
   "execution_count": 4,
   "metadata": {},
   "outputs": [
    {
     "name": "stdout",
     "output_type": "stream",
     "text": [
      "2\n"
     ]
    }
   ],
   "source": [
    "numbers = [4,2,2,5,1,3,4,9]\n",
    "print(numbers.count(4))"
   ]
  },
  {
   "cell_type": "code",
   "execution_count": 6,
   "metadata": {},
   "outputs": [
    {
     "name": "stdout",
     "output_type": "stream",
     "text": [
      "Alice is 25 years old\n"
     ]
    }
   ],
   "source": [
    "name = \"Alice\"\n",
    "age = 25\n",
    "info = f\"{name} is {age} years old\"\n",
    "print(info)"
   ]
  },
  {
   "cell_type": "code",
   "execution_count": 7,
   "metadata": {},
   "outputs": [
    {
     "name": "stdout",
     "output_type": "stream",
     "text": [
      "B\n"
     ]
    }
   ],
   "source": [
    "score = 85\n",
    "if score >= 90:\n",
    "    grade = \"A\"\n",
    "elif score >= 80:\n",
    "    grade = \"B\"\n",
    "else:\n",
    "    grade = \"C\"\n",
    "\n",
    "print(grade)"
   ]
  },
  {
   "cell_type": "code",
   "execution_count": 8,
   "metadata": {},
   "outputs": [
    {
     "name": "stdout",
     "output_type": "stream",
     "text": [
      "24\n"
     ]
    }
   ],
   "source": [
    "def a_function(n):\n",
    "    if n == 0:\n",
    "        return 1\n",
    "    else:\n",
    "        return n * a_function(n-1)\n",
    "\n",
    "result = a_function(4)\n",
    "print(result)"
   ]
  },
  {
   "cell_type": "code",
   "execution_count": 9,
   "metadata": {},
   "outputs": [
    {
     "name": "stdout",
     "output_type": "stream",
     "text": [
      "2\n"
     ]
    }
   ],
   "source": [
    "animals = ['cat', 'dog', 'rabit', 'horse']\n",
    "print(animals.index('rabit'))"
   ]
  },
  {
   "cell_type": "code",
   "execution_count": 10,
   "metadata": {},
   "outputs": [
    {
     "name": "stdout",
     "output_type": "stream",
     "text": [
      "{'name': 'Bob', 'age': 35}\n"
     ]
    }
   ],
   "source": [
    "data = {\"name\" : \"Bob\", \"age\" : 30}\n",
    "data[\"age\"] += 5\n",
    "print(data)"
   ]
  },
  {
   "cell_type": "code",
   "execution_count": 11,
   "metadata": {},
   "outputs": [
    {
     "name": "stdout",
     "output_type": "stream",
     "text": [
      "8\n"
     ]
    }
   ],
   "source": [
    "def a_function(n):\n",
    "    if n <= 0:\n",
    "        return 0\n",
    "    elif n == 1:\n",
    "        return 1\n",
    "    else:\n",
    "        return a_function(n-1) + a_function(n-2)\n",
    "\n",
    "result = a_function(6)\n",
    "print(result)\n"
   ]
  },
  {
   "cell_type": "code",
   "execution_count": 12,
   "metadata": {},
   "outputs": [
    {
     "name": "stdout",
     "output_type": "stream",
     "text": [
      "1\n"
     ]
    }
   ],
   "source": [
    "for i in range(1,6):\n",
    "    print(i)\n",
    "    break"
   ]
  },
  {
   "cell_type": "code",
   "execution_count": 13,
   "metadata": {},
   "outputs": [
    {
     "name": "stdout",
     "output_type": "stream",
     "text": [
      "0\n",
      "1\n",
      "2\n"
     ]
    }
   ],
   "source": [
    "i = 0\n",
    "while i < 3:\n",
    "    print(i)\n",
    "    i += 1"
   ]
  },
  {
   "cell_type": "code",
   "execution_count": 17,
   "metadata": {},
   "outputs": [],
   "source": [
    "file = open(\"example.txt\", \"w\")\n",
    "file.write(\"Hello\")\n",
    "file.close()"
   ]
  },
  {
   "cell_type": "code",
   "execution_count": 15,
   "metadata": {},
   "outputs": [
    {
     "name": "stdout",
     "output_type": "stream",
     "text": [
      "0\n",
      "1\n",
      "2\n"
     ]
    }
   ],
   "source": [
    "for i in range(5):\n",
    "    if i == 3:\n",
    "        break\n",
    "    print(i)"
   ]
  },
  {
   "cell_type": "code",
   "execution_count": 16,
   "metadata": {},
   "outputs": [
    {
     "name": "stdout",
     "output_type": "stream",
     "text": [
      "1\n",
      "3\n"
     ]
    }
   ],
   "source": [
    "for i in range(5):\n",
    "    if i % 2 == 0:\n",
    "        continue\n",
    "    print(i)\n"
   ]
  },
  {
   "cell_type": "code",
   "execution_count": 19,
   "metadata": {},
   "outputs": [
    {
     "name": "stdout",
     "output_type": "stream",
     "text": [
      "Hello\n"
     ]
    }
   ],
   "source": [
    "with open(\"example.txt\", \"r\") as file:\n",
    "    content = file.read()\n",
    "print(content)"
   ]
  },
  {
   "cell_type": "code",
   "execution_count": 20,
   "metadata": {},
   "outputs": [
    {
     "name": "stdout",
     "output_type": "stream",
     "text": [
      "7 4\n"
     ]
    }
   ],
   "source": [
    "x = 10\n",
    "while x > 0:\n",
    "    x -= 3\n",
    "    if x % 2 == 0:\n",
    "        print(x)\n",
    "        break\n",
    "    print(x, end = \" \")"
   ]
  },
  {
   "cell_type": "code",
   "execution_count": 21,
   "metadata": {},
   "outputs": [
    {
     "name": "stdout",
     "output_type": "stream",
     "text": [
      "[5, 3, 1, -1, -3, -5]\n"
     ]
    }
   ],
   "source": [
    "result = []\n",
    "for i in range(5, -6, -2):\n",
    "    result.append(i)\n",
    "print(result)"
   ]
  },
  {
   "cell_type": "code",
   "execution_count": 22,
   "metadata": {},
   "outputs": [
    {
     "name": "stdout",
     "output_type": "stream",
     "text": [
      "1\n"
     ]
    }
   ],
   "source": [
    "result = 0\n",
    "for i in range(1, 10, 2):\n",
    "    if i % 3 == 0:\n",
    "        break\n",
    "    result += 1\n",
    "print(result)"
   ]
  },
  {
   "cell_type": "code",
   "execution_count": 26,
   "metadata": {},
   "outputs": [
    {
     "name": "stdout",
     "output_type": "stream",
     "text": [
      "2\n"
     ]
    }
   ],
   "source": [
    "with open(\"example.txt\", \"r\") as file:\n",
    "    lines = file.readlines()\n",
    "\n",
    "count = 0\n",
    "for line in lines:\n",
    "    if line.strip() == \"Hello\":\n",
    "        count += 1\n",
    "print(count)"
   ]
  },
  {
   "cell_type": "code",
   "execution_count": 27,
   "metadata": {},
   "outputs": [
    {
     "name": "stdout",
     "output_type": "stream",
     "text": [
      "1 2 4 5 "
     ]
    }
   ],
   "source": [
    "i = 0\n",
    "while i < 5:\n",
    "    i += 1\n",
    "    if i == 3:\n",
    "        continue\n",
    "    print(i, end=\" \")"
   ]
  },
  {
   "cell_type": "code",
   "execution_count": 28,
   "metadata": {},
   "outputs": [
    {
     "name": "stdout",
     "output_type": "stream",
     "text": [
      "0\n",
      "1\n",
      "2\n"
     ]
    },
    {
     "ename": "KeyboardInterrupt",
     "evalue": "",
     "output_type": "error",
     "traceback": [
      "\u001b[0;31m---------------------------------------------------------------------------\u001b[0m",
      "\u001b[0;31mKeyboardInterrupt\u001b[0m                         Traceback (most recent call last)",
      "Cell \u001b[0;32mIn[28], line 4\u001b[0m\n\u001b[1;32m      2\u001b[0m \u001b[38;5;28;01mwhile\u001b[39;00m x \u001b[38;5;241m<\u001b[39m\u001b[38;5;241m=\u001b[39m \u001b[38;5;241m4\u001b[39m:\n\u001b[1;32m      3\u001b[0m     \u001b[38;5;28;01mif\u001b[39;00m x \u001b[38;5;241m==\u001b[39m \u001b[38;5;241m3\u001b[39m:\n\u001b[0;32m----> 4\u001b[0m         \u001b[38;5;28;01mcontinue\u001b[39;00m\n\u001b[1;32m      5\u001b[0m     \u001b[38;5;28mprint\u001b[39m(x)\n\u001b[1;32m      6\u001b[0m     x \u001b[38;5;241m+\u001b[39m\u001b[38;5;241m=\u001b[39m \u001b[38;5;241m1\u001b[39m\n",
      "\u001b[0;31mKeyboardInterrupt\u001b[0m: "
     ]
    }
   ],
   "source": [
    "x = 0\n",
    "while x <= 4:\n",
    "    if x == 3:\n",
    "        continue\n",
    "    print(x)\n",
    "    x += 1"
   ]
  },
  {
   "cell_type": "code",
   "execution_count": 29,
   "metadata": {},
   "outputs": [
    {
     "name": "stdout",
     "output_type": "stream",
     "text": [
      "n is awesome\n"
     ]
    }
   ],
   "source": [
    "text = \"Python is fun\"\n",
    "result = text.replace(\"fun\", \"awesome\")\n",
    "print(result[5:])"
   ]
  },
  {
   "cell_type": "code",
   "execution_count": 30,
   "metadata": {},
   "outputs": [
    {
     "name": "stdout",
     "output_type": "stream",
     "text": [
      "[2, 5, 8]\n"
     ]
    }
   ],
   "source": [
    "matrix = [[1,2,3],\n",
    "        [4,5,6],\n",
    "        [7,8,9]]\n",
    "result = [row[1] for row in matrix]\n",
    "print(result)"
   ]
  },
  {
   "cell_type": "code",
   "execution_count": 31,
   "metadata": {},
   "outputs": [
    {
     "name": "stdout",
     "output_type": "stream",
     "text": [
      "[[1, 2, 3]]\n"
     ]
    }
   ],
   "source": [
    "print(matrix[0:2][0:1])"
   ]
  },
  {
   "cell_type": "code",
   "execution_count": 32,
   "metadata": {},
   "outputs": [
    {
     "name": "stdout",
     "output_type": "stream",
     "text": [
      "['e', 'd', 'c', 'b', 'a']\n"
     ]
    }
   ],
   "source": [
    "text = \"a,b,c,d,e\"\n",
    "result = text.split(\",\")[::-1]\n",
    "print(result)"
   ]
  },
  {
   "cell_type": "code",
   "execution_count": 33,
   "metadata": {},
   "outputs": [
    {
     "name": "stdout",
     "output_type": "stream",
     "text": [
      "SCIENCEdata\n"
     ]
    }
   ],
   "source": [
    "text = \"Data Science\"\n",
    "result = text[5:].upper() + text[:4].lower()\n",
    "print(result)"
   ]
  },
  {
   "cell_type": "code",
   "execution_count": 34,
   "metadata": {},
   "outputs": [
    {
     "name": "stdout",
     "output_type": "stream",
     "text": [
      "['Data Science', 'Machine Learning', 'AI']\n"
     ]
    }
   ],
   "source": [
    "data = ['Python', 'Data Science', 'Machine Learning', 'AI']\n",
    "filtered_data = [word for word in data if 'a' in word.lower()]\n",
    "print(filtered_data)"
   ]
  },
  {
   "cell_type": "code",
   "execution_count": 35,
   "metadata": {},
   "outputs": [
    {
     "name": "stdout",
     "output_type": "stream",
     "text": [
      "1357924680\n"
     ]
    }
   ],
   "source": [
    "text = \"1234567890\"\n",
    "result = text[::2].replace('2', 'X') + text[1::2].replace('5','Y')\n",
    "print(result)"
   ]
  },
  {
   "cell_type": "code",
   "execution_count": 36,
   "metadata": {},
   "outputs": [
    {
     "name": "stdout",
     "output_type": "stream",
     "text": [
      "[['python', '3.8'], ['data science', 'ml'], ['ai', 'deep learning']]\n"
     ]
    }
   ],
   "source": [
    "data = [[\"Python\", \"3.8\"],\n",
    "        [\"Data Science\", \"ML\"],\n",
    "        [\"AI\", \"Deep Learning\"]\n",
    "        ]\n",
    "cleaned_data = [[item.lower() for item in row] for row in data]\n",
    "print(cleaned_data)"
   ]
  },
  {
   "cell_type": "code",
   "execution_count": 37,
   "metadata": {},
   "outputs": [
    {
     "ename": "TypeError",
     "evalue": "'set' object is not subscriptable",
     "output_type": "error",
     "traceback": [
      "\u001b[0;31m---------------------------------------------------------------------------\u001b[0m",
      "\u001b[0;31mTypeError\u001b[0m                                 Traceback (most recent call last)",
      "Cell \u001b[0;32mIn[37], line 3\u001b[0m\n\u001b[1;32m      1\u001b[0m my_set \u001b[38;5;241m=\u001b[39m {\u001b[38;5;241m1\u001b[39m,\u001b[38;5;241m2\u001b[39m,\u001b[38;5;241m3\u001b[39m,\u001b[38;5;241m4\u001b[39m,\u001b[38;5;241m5\u001b[39m}\n\u001b[1;32m      2\u001b[0m my_set\u001b[38;5;241m.\u001b[39madd(\u001b[38;5;241m6\u001b[39m)\n\u001b[0;32m----> 3\u001b[0m \u001b[38;5;28mprint\u001b[39m(\u001b[43mmy_set\u001b[49m\u001b[43m[\u001b[49m\u001b[38;5;241;43m5\u001b[39;49m\u001b[43m]\u001b[49m)\n",
      "\u001b[0;31mTypeError\u001b[0m: 'set' object is not subscriptable"
     ]
    }
   ],
   "source": [
    "my_set = {1,2,3,4,5}\n",
    "my_set.add(6)\n",
    "print(my_set[5])"
   ]
  },
  {
   "cell_type": "code",
   "execution_count": 38,
   "metadata": {},
   "outputs": [
    {
     "name": "stdout",
     "output_type": "stream",
     "text": [
      "{1, 2, 3, 4, 5}\n"
     ]
    }
   ],
   "source": [
    "my_set = {1,2,3}\n",
    "your_set = {3,4,5}\n",
    "union_set = my_set.union(your_set)\n",
    "print(union_set)"
   ]
  },
  {
   "cell_type": "code",
   "execution_count": 39,
   "metadata": {},
   "outputs": [
    {
     "name": "stdout",
     "output_type": "stream",
     "text": [
      "{1, 2, 4, 5}\n"
     ]
    }
   ],
   "source": [
    "sdset = my_set^your_set\n",
    "print(sdset)"
   ]
  },
  {
   "cell_type": "code",
   "execution_count": 41,
   "metadata": {},
   "outputs": [
    {
     "name": "stdout",
     "output_type": "stream",
     "text": [
      "3\n",
      "{1: 1, 2: 4, 3: 9}\n"
     ]
    }
   ],
   "source": [
    "my_tuple = (1,2,3)\n",
    "my_set = set(my_tuple)\n",
    "my_dict = {x : x**2 for x in my_set}\n",
    "print(len(my_dict))\n",
    "print(my_dict)"
   ]
  },
  {
   "cell_type": "code",
   "execution_count": 42,
   "metadata": {},
   "outputs": [
    {
     "name": "stdout",
     "output_type": "stream",
     "text": [
      "{3}\n"
     ]
    }
   ],
   "source": [
    "inset = my_set & your_set\n",
    "print(inset)"
   ]
  },
  {
   "cell_type": "code",
   "execution_count": 43,
   "metadata": {},
   "outputs": [
    {
     "name": "stdout",
     "output_type": "stream",
     "text": [
      "{1, 2}\n"
     ]
    }
   ],
   "source": [
    "my_set = {1,2,3,4}\n",
    "your_set = {3,4,5,6}\n",
    "dset = my_set - your_set\n",
    "print(dset)"
   ]
  },
  {
   "cell_type": "code",
   "execution_count": 44,
   "metadata": {},
   "outputs": [
    {
     "name": "stdout",
     "output_type": "stream",
     "text": [
      "(5, 4, 3, 2, 1)\n"
     ]
    }
   ],
   "source": [
    "my_tuple = (1,2,3,4,5)\n",
    "new_tuple = my_tuple[::-1]\n",
    "print(new_tuple)"
   ]
  },
  {
   "cell_type": "code",
   "execution_count": 45,
   "metadata": {},
   "outputs": [
    {
     "name": "stdout",
     "output_type": "stream",
     "text": [
      "(2, 4, 6, 8)\n"
     ]
    }
   ],
   "source": [
    "def process_tuple(t):\n",
    "    return t[1::2]\n",
    "\n",
    "my_tuple = (1,2,3,4,5,6,7,8)\n",
    "result = process_tuple(my_tuple)\n",
    "print(result)"
   ]
  },
  {
   "cell_type": "code",
   "execution_count": 46,
   "metadata": {},
   "outputs": [
    {
     "name": "stdout",
     "output_type": "stream",
     "text": [
      "True\n"
     ]
    }
   ],
   "source": [
    "my_set = {1,2,3,4,5}\n",
    "another_set = {1,2,3,4,5,6,7}\n",
    "result = my_set.issubset(another_set) and not my_set.issuperset(another_set)\n",
    "print(result)"
   ]
  },
  {
   "cell_type": "code",
   "execution_count": 47,
   "metadata": {},
   "outputs": [
    {
     "name": "stdout",
     "output_type": "stream",
     "text": [
      "('b', 'c')\n"
     ]
    }
   ],
   "source": [
    "my_dict = {'a': 1, 'b': 2, 'c': 3}\n",
    "new_dict = {k: v for k, v in my_dict.items() if v > 1}\n",
    "result = tuple(new_dict.keys())\n",
    "print(result)"
   ]
  },
  {
   "cell_type": "code",
   "execution_count": 48,
   "metadata": {},
   "outputs": [
    {
     "name": "stdout",
     "output_type": "stream",
     "text": [
      "('y',)\n"
     ]
    }
   ],
   "source": [
    "my_dict = {'x': 10, 'y': 20}\n",
    "my_set = {key for key in my_dict if my_dict[key] > 15}\n",
    "my_tuple = tuple(my_set)\n",
    "print(my_tuple)"
   ]
  },
  {
   "cell_type": "code",
   "execution_count": 51,
   "metadata": {},
   "outputs": [
    {
     "name": "stdout",
     "output_type": "stream",
     "text": [
      "{8, 2, 6}\n",
      "{1, 2, 3, 4, 5, 6, 7, 8}\n",
      "{4, 5}\n"
     ]
    }
   ],
   "source": [
    "def setoperation(set1, set2):\n",
    "    result = (set1 | set2) - (set1 & set2)\n",
    "    final = {x for x in result if x % 2 == 0}\n",
    "    return final\n",
    "\n",
    "set_a = {1,2,3,4,5}\n",
    "set_b = {4,5,6,7,8}\n",
    "\n",
    "result = setoperation(set_a, set_b)\n",
    "print(result)\n",
    "\n",
    "print(set_a | set_b)\n",
    "print(set_a & set_b)"
   ]
  },
  {
   "cell_type": "code",
   "execution_count": 53,
   "metadata": {},
   "outputs": [
    {
     "name": "stdout",
     "output_type": "stream",
     "text": [
      "((1, 1), (3, 27))\n",
      "((1, 1), (2, 8), (3, 27))\n"
     ]
    }
   ],
   "source": [
    "my_set = {1,2,3}\n",
    "my_dict = {x: x**3 for x in my_set}\n",
    "my_tuple = tuple(my_dict.items())\n",
    "filtered_tuple = tuple((k,v) for k, v in my_tuple if v % 2 != 0)\n",
    "print(filtered_tuple)\n",
    "print(my_tuple)"
   ]
  },
  {
   "cell_type": "code",
   "execution_count": 55,
   "metadata": {},
   "outputs": [
    {
     "name": "stdout",
     "output_type": "stream",
     "text": [
      "[('c', 11), ('b', 7), ('a', 3)]\n",
      "{'a': 3, 'b': 7, 'c': 11}\n"
     ]
    }
   ],
   "source": [
    "my_dict = {'a': (1,2), 'b': (3,4), 'c': (5,6)}\n",
    "result = {k: sum(v) for k, v in my_dict.items()}\n",
    "sorted_result = sorted(result.items(), key=lambda item: item[1], reverse=True)\n",
    "print(sorted_result)\n",
    "print(result)"
   ]
  },
  {
   "cell_type": "code",
   "execution_count": 56,
   "metadata": {},
   "outputs": [
    {
     "ename": "NameError",
     "evalue": "name 'self' is not defined",
     "output_type": "error",
     "traceback": [
      "\u001b[0;31m---------------------------------------------------------------------------\u001b[0m",
      "\u001b[0;31mNameError\u001b[0m                                 Traceback (most recent call last)",
      "Cell \u001b[0;32mIn[56], line 5\u001b[0m\n\u001b[1;32m      2\u001b[0m     \u001b[38;5;28;01mdef\u001b[39;00m\u001b[38;5;250m \u001b[39m\u001b[38;5;21m__init__\u001b[39m(\u001b[38;5;28mself\u001b[39m, value):\n\u001b[1;32m      3\u001b[0m         \u001b[38;5;28mself\u001b[39m\u001b[38;5;241m.\u001b[39mvalue \u001b[38;5;241m=\u001b[39m value\n\u001b[0;32m----> 5\u001b[0m obj \u001b[38;5;241m=\u001b[39m MyClass(\u001b[38;5;28;43mself\u001b[39;49m, \u001b[38;5;241m10\u001b[39m)\n\u001b[1;32m      6\u001b[0m \u001b[38;5;28mprint\u001b[39m(obj\u001b[38;5;241m.\u001b[39mvalue)\n",
      "\u001b[0;31mNameError\u001b[0m: name 'self' is not defined"
     ]
    }
   ],
   "source": [
    "class MyClass:\n",
    "    def __init__(self, value):\n",
    "        self.value = value\n",
    "    \n",
    "obj = MyClass(self, 10)\n",
    "print(obj.value)"
   ]
  },
  {
   "cell_type": "code",
   "execution_count": 57,
   "metadata": {},
   "outputs": [
    {
     "name": "stdout",
     "output_type": "stream",
     "text": [
      "30\n"
     ]
    }
   ],
   "source": [
    "obj = MyClass(20)\n",
    "obj.value = 30\n",
    "print(obj.value)"
   ]
  },
  {
   "cell_type": "code",
   "execution_count": 58,
   "metadata": {},
   "outputs": [
    {
     "name": "stdout",
     "output_type": "stream",
     "text": [
      "31\n"
     ]
    }
   ],
   "source": [
    "class Person:\n",
    "    def __init__(self, name, age):\n",
    "        self.name = name\n",
    "        self.age = age\n",
    "    \n",
    "    def birthday(self):\n",
    "        self.age += 1\n",
    "\n",
    "person = Person(\"Alice\", 30)\n",
    "person.birthday()\n",
    "print(person.age)"
   ]
  },
  {
   "cell_type": "code",
   "execution_count": 63,
   "metadata": {},
   "outputs": [
    {
     "name": "stdout",
     "output_type": "stream",
     "text": [
      "3\n"
     ]
    }
   ],
   "source": [
    "class Counter:\n",
    "    count = 0\n",
    "\n",
    "    def __init__(self):\n",
    "        Counter.count += 1\n",
    "\n",
    "c1 = Counter()\n",
    "c2 = Counter()\n",
    "c3 = Counter()\n",
    "print(Counter.count)"
   ]
  },
  {
   "cell_type": "code",
   "execution_count": 64,
   "metadata": {},
   "outputs": [
    {
     "name": "stdout",
     "output_type": "stream",
     "text": [
      "Buddy barks\n"
     ]
    }
   ],
   "source": [
    "class Animal:\n",
    "    def __init__(self, name):\n",
    "        self.name = name\n",
    "\n",
    "    def speak(self):\n",
    "        return f\"{self.name} makes noise\"\n",
    "\n",
    "class Dog(Animal):\n",
    "    def speak(self):\n",
    "        return f\"{self.name} barks\"\n",
    "\n",
    "dog = Dog(\"Buddy\")\n",
    "print(dog.speak())"
   ]
  },
  {
   "cell_type": "code",
   "execution_count": 65,
   "metadata": {},
   "outputs": [
    {
     "name": "stdout",
     "output_type": "stream",
     "text": [
      "2\n"
     ]
    }
   ],
   "source": [
    "class A:\n",
    "    def __init__(self):\n",
    "        self.__x = 1\n",
    "\n",
    "    def get_x(self):\n",
    "        return self.__x\n",
    "\n",
    "class B(A):\n",
    "    def __init__(self):\n",
    "        super().__init__()\n",
    "        self.__x = 2\n",
    "\n",
    "    def get_x(self):\n",
    "        return self.__x\n",
    "\n",
    "b = B()\n",
    "print(b.get_x())"
   ]
  },
  {
   "cell_type": "code",
   "execution_count": 66,
   "metadata": {},
   "outputs": [
    {
     "name": "stdout",
     "output_type": "stream",
     "text": [
      "12\n",
      "17\n"
     ]
    },
    {
     "ename": "AttributeError",
     "evalue": "'MyClass' object has no attribute '__hidden_variable'",
     "output_type": "error",
     "traceback": [
      "\u001b[0;31m---------------------------------------------------------------------------\u001b[0m",
      "\u001b[0;31mAttributeError\u001b[0m                            Traceback (most recent call last)",
      "Cell \u001b[0;32mIn[66], line 11\u001b[0m\n\u001b[1;32m      9\u001b[0m obj\u001b[38;5;241m.\u001b[39madd(\u001b[38;5;241m2\u001b[39m)\n\u001b[1;32m     10\u001b[0m obj\u001b[38;5;241m.\u001b[39madd(\u001b[38;5;241m5\u001b[39m)\n\u001b[0;32m---> 11\u001b[0m \u001b[38;5;28mprint\u001b[39m(\u001b[43mobj\u001b[49m\u001b[38;5;241;43m.\u001b[39;49m\u001b[43m__hidden_variable\u001b[49m)\n",
      "\u001b[0;31mAttributeError\u001b[0m: 'MyClass' object has no attribute '__hidden_variable'"
     ]
    }
   ],
   "source": [
    "class MyClass:\n",
    "    __hidden_variable = 10\n",
    "\n",
    "    def add(self, increment):\n",
    "        self.__hidden_variable += increment\n",
    "        print(self.__hidden_variable)\n",
    "\n",
    "obj = MyClass()\n",
    "obj.add(2)\n",
    "obj.add(5)\n",
    "print(obj.__hidden_variable)"
   ]
  },
  {
   "cell_type": "code",
   "execution_count": 72,
   "metadata": {},
   "outputs": [
    {
     "name": "stdout",
     "output_type": "stream",
     "text": [
      "15\n"
     ]
    }
   ],
   "source": [
    "class A:\n",
    "    def __init__(self):\n",
    "        self.value = 0\n",
    "    \n",
    "    def increment(self):\n",
    "        self.value += 1\n",
    "\n",
    "class B(A):\n",
    "    def __init__(self):\n",
    "        super().__init__()\n",
    "        self.value = 5\n",
    "\n",
    "    def increment(self):\n",
    "        self.value += 2\n",
    "\n",
    "class C(B):\n",
    "    def __init__(self):\n",
    "        super().__init__()\n",
    "        self.value = 10\n",
    "\n",
    "    def increment(self):\n",
    "        super().increment()\n",
    "        self.value += 3\n",
    "\n",
    "c = C()\n",
    "c.increment()\n",
    "print(c.value)"
   ]
  },
  {
   "cell_type": "code",
   "execution_count": 76,
   "metadata": {},
   "outputs": [
    {
     "name": "stdout",
     "output_type": "stream",
     "text": [
      "Derived Derived\n"
     ]
    }
   ],
   "source": [
    "class Base:\n",
    "    def __init__(self):\n",
    "        self.a = \"Base\"\n",
    "\n",
    "    def display(self):\n",
    "        return self.a \n",
    "\n",
    "class Derived(Base):\n",
    "    def __init__(self):\n",
    "        super().__init__()\n",
    "        self.a = \"Derived\"\n",
    "\n",
    "    def display(self):\n",
    "        return self.a + \" \" + super().display()\n",
    "\n",
    "d = Derived()\n",
    "print(d.display())"
   ]
  },
  {
   "cell_type": "code",
   "execution_count": 78,
   "metadata": {},
   "outputs": [
    {
     "name": "stdout",
     "output_type": "stream",
     "text": [
      "15\n"
     ]
    }
   ],
   "source": [
    "class Parent:\n",
    "    def __init__(self, value):\n",
    "        self.value = value\n",
    "\n",
    "    def show(self):\n",
    "        return self.value\n",
    "\n",
    "class Child(Parent):\n",
    "    def __init__(self, value, extra):\n",
    "        super().__init__(value)\n",
    "        self.extra = extra\n",
    "\n",
    "    def show(self):\n",
    "        return super().show() +  self.extra\n",
    "\n",
    "c = Child(10, 5)\n",
    "print(c.show())"
   ]
  },
  {
   "cell_type": "code",
   "execution_count": 79,
   "metadata": {},
   "outputs": [
    {
     "name": "stdout",
     "output_type": "stream",
     "text": [
      "Toyota Corolla\n"
     ]
    }
   ],
   "source": [
    "class Vehcle:\n",
    "    def __init__(self, brand):\n",
    "        self.brand = brand\n",
    "\n",
    "class Car(Vehcle):\n",
    "    def __init__(self, brand, model):\n",
    "        super().__init__(brand)\n",
    "        self.model = model\n",
    "\n",
    "car = Car(\"Toyota\", \"Corolla\")\n",
    "print(car.brand, car.model)"
   ]
  },
  {
   "cell_type": "code",
   "execution_count": 80,
   "metadata": {},
   "outputs": [
    {
     "name": "stdout",
     "output_type": "stream",
     "text": [
      "None\n"
     ]
    }
   ],
   "source": [
    "class Parent:\n",
    "    def greet(self):\n",
    "        print(\"Hello from Parent\")\n",
    "\n",
    "class Child(Parent):\n",
    "    def greet(self):\n",
    "        pass\n",
    "\n",
    "child = Child()\n",
    "print(child.greet())"
   ]
  },
  {
   "cell_type": "code",
   "execution_count": 81,
   "metadata": {},
   "outputs": [
    {
     "name": "stdout",
     "output_type": "stream",
     "text": [
      "John\n",
      "Male\n"
     ]
    }
   ],
   "source": [
    "class Base:\n",
    "    def __init__(self):\n",
    "        self.__name = \"John\"\n",
    "        self._gender = \"Male\"\n",
    "\n",
    "    def get_name(self):\n",
    "        return self.__name\n",
    "\n",
    "class Derived(Base):\n",
    "    def __init__(self):\n",
    "        super().__init__()\n",
    "\n",
    "    def get_gender(self):\n",
    "        return self._gender\n",
    "\n",
    "obj = Derived()\n",
    "print(obj.get_name())\n",
    "print(obj.get_gender())"
   ]
  },
  {
   "cell_type": "code",
   "execution_count": 82,
   "metadata": {},
   "outputs": [
    {
     "name": "stdout",
     "output_type": "stream",
     "text": [
      "ZYX\n"
     ]
    }
   ],
   "source": [
    "class X:\n",
    "    def method(self):\n",
    "        return \"X\"\n",
    "\n",
    "class Y(X):\n",
    "    def method(self):\n",
    "        return \"Y\" + super().method()\n",
    "\n",
    "class Z(Y):\n",
    "    def method(self):\n",
    "        return \"Z\" + super().method()\n",
    "\n",
    "z = Z()\n",
    "print(z.method())"
   ]
  },
  {
   "cell_type": "code",
   "execution_count": 84,
   "metadata": {},
   "outputs": [
    {
     "name": "stdout",
     "output_type": "stream",
     "text": [
      "AB\n"
     ]
    }
   ],
   "source": [
    "class A:\n",
    "    def __init__(self):\n",
    "        self.value = \"A\"\n",
    "\n",
    "    def get_value(self):\n",
    "        return self.value\n",
    "\n",
    "class B(A):\n",
    "    def __init__(self):\n",
    "        super().__init__()\n",
    "        self.value += \"B\"\n",
    "\n",
    "    def get_value(self):\n",
    "        return self.value\n",
    "\n",
    "class C(B):\n",
    "    def __init__(self):\n",
    "        self.value = \"C\"\n",
    "        super().__init__()\n",
    "\n",
    "c = C()\n",
    "print(c.get_value())"
   ]
  },
  {
   "cell_type": "code",
   "execution_count": null,
   "metadata": {},
   "outputs": [
    {
     "name": "stdout",
     "output_type": "stream",
     "text": [
      "CBA\n",
      "{'x': 4, 'y': 5, 'z': 6}\n"
     ]
    }
   ],
   "source": [
    "class A:\n",
    "    def __init__(self, x = 1):\n",
    "        self.x = x\n",
    "    \n",
    "    def method(self):\n",
    "        return \"A\"\n",
    "\n",
    "class B(A):\n",
    "    def __init__(self, x=2, y=3):\n",
    "        super().__init__(x)\n",
    "        self.y = y\n",
    "\n",
    "    def method(self):\n",
    "        return \"B\" + super().method()\n",
    "\n",
    "class C(B):\n",
    "    def __init__(self, x=4, y=5, z=6):\n",
    "        super().__init__(x, y)\n",
    "        self.z = z\n",
    "\n",
    "    def method(self):\n",
    "        return \"C\" + super().method()\n",
    "\n",
    "c = C()\n",
    "print(c.method())\n",
    "print(c.__dict__)\n"
   ]
  },
  {
   "cell_type": "code",
   "execution_count": null,
   "metadata": {},
   "outputs": [],
   "source": []
  }
 ],
 "metadata": {
  "kernelspec": {
   "display_name": ".venv",
   "language": "python",
   "name": "python3"
  },
  "language_info": {
   "codemirror_mode": {
    "name": "ipython",
    "version": 3
   },
   "file_extension": ".py",
   "mimetype": "text/x-python",
   "name": "python",
   "nbconvert_exporter": "python",
   "pygments_lexer": "ipython3",
   "version": "3.11.8"
  }
 },
 "nbformat": 4,
 "nbformat_minor": 2
}
