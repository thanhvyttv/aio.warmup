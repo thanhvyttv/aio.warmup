{
 "cells": [
  {
   "cell_type": "markdown",
   "metadata": {},
   "source": [
    "GramMatrix with Numpy"
   ]
  },
  {
   "cell_type": "code",
   "execution_count": null,
   "metadata": {},
   "outputs": [
    {
     "name": "stdout",
     "output_type": "stream",
     "text": [
      "[[0.33432857 0.2207897  0.27598961]\n",
      " [0.2207897  0.19580158 0.19452994]\n",
      " [0.27598961 0.19452994 0.32603015]]\n"
     ]
    }
   ],
   "source": [
    "import numpy as np\n",
    "\n",
    "def compute_gram_matrix(feature_map : np.ndarray) -> np.ndarray:\n",
    "    #Lấy kích thước đầu vào\n",
    "    C, H, W = feature_map.shape\n",
    "    # Chuyển đổi ma trận về dạng C, H*W\n",
    "    F = feature_map.reshape(C, H*W)\n",
    "    # Tính Gram matrix G = F @ F.T\n",
    "    G = np.dot(F, F.T)\n",
    "    # Chuẩn hóa bằng số điểm ảnh\n",
    "    G /= (H * W)\n",
    "    return G\n",
    "\n",
    "np.random.seed(42)\n",
    "feature_map = np.random.rand(3, 4, 4)\n",
    "gram_matrix = compute_gram_matrix(feature_map)\n",
    "\n",
    "print(gram_matrix)"
   ]
  },
  {
   "cell_type": "markdown",
   "metadata": {},
   "source": [
    "GramMatrix with Torch"
   ]
  },
  {
   "cell_type": "code",
   "execution_count": null,
   "metadata": {},
   "outputs": [],
   "source": [
    "import torch"
   ]
  },
  {
   "cell_type": "code",
   "execution_count": 6,
   "metadata": {},
   "outputs": [
    {
     "name": "stdout",
     "output_type": "stream",
     "text": [
      "\n",
      "Gram Matrix PyTorch:\n",
      " [[0.33432856 0.2207897  0.2759896 ]\n",
      " [0.2207897  0.19580159 0.19452995]\n",
      " [0.2759896  0.19452995 0.32603014]]\n"
     ]
    }
   ],
   "source": [
    "feature_map_torch = torch.tensor(feature_map, dtype=torch.float32)\n",
    "F_torch = feature_map_torch.view(3, -1)\n",
    "gram_matrix_torch = torch.mm(F_torch, F_torch.t()) / (4 * 4)\n",
    "\n",
    "print(\"\\nGram Matrix PyTorch:\\n\", gram_matrix_torch.numpy())"
   ]
  },
  {
   "cell_type": "code",
   "execution_count": 16,
   "metadata": {},
   "outputs": [
    {
     "name": "stdout",
     "output_type": "stream",
     "text": [
      "[[  7.5  17.5  27.5]\n",
      " [ 17.5  43.5  69.5]\n",
      " [ 27.5  69.5 111.5]]\n"
     ]
    }
   ],
   "source": [
    "def compute_gram_matrix(feature_map : np.ndarray) -> np.ndarray:\n",
    "    C, H, W = feature_map.shape\n",
    "    F = feature_map.reshape(C, H * W).astype(np.float64)\n",
    "    G = np.dot(F, F.T)\n",
    "    G /= (H * W)\n",
    "    return G\n",
    "\n",
    "feature_map = np.array([\n",
    "    [[1,2],[3,4]],\n",
    "    [[5,6],[7,8]],\n",
    "    [[9,10],[11,12]]\n",
    "])\n",
    "\n",
    "#Tính Gram matrix\n",
    "gram_matrix = compute_gram_matrix(feature_map)\n",
    "print(gram_matrix)"
   ]
  },
  {
   "cell_type": "markdown",
   "metadata": {},
   "source": [
    "Similarity with Numpy \n",
    "So sánh độ tương đồng giữa hai ảnh bằng Gram Matrix"
   ]
  },
  {
   "cell_type": "code",
   "execution_count": 22,
   "metadata": {},
   "outputs": [
    {
     "name": "stdout",
     "output_type": "stream",
     "text": [
      "0.6741245785155123\n"
     ]
    }
   ],
   "source": [
    "def compute_similarity(gram1: np.ndarray, gram2: np.ndarray) -> float:\n",
    "    numerator = np.sum(gram1 * gram2)\n",
    "    denominator = np.sqrt(np.sum(gram1**2)) * np.sqrt(np.sum(gram2**2))\n",
    "    return numerator/denominator\n",
    "\n",
    "#Feature map của 2 ảnh\n",
    "feature_map1 = np.array([\n",
    "        [[1,2],[3,4]],\n",
    "        [[5,6],[7,8]],\n",
    "        [[9,10],[11,12]]\n",
    "        ])  \n",
    "feature_map2 = np.array([\n",
    "        [[2,4],[6,8]],\n",
    "        [[1,3],[5,7]],\n",
    "        [[0,2],[4,6]]\n",
    "        ])  \n",
    "\n",
    "gram1 = compute_gram_matrix(feature_map1)\n",
    "gram2 = compute_gram_matrix(feature_map2)\n",
    "result = compute_similarity(gram1, gram2)\n",
    "print(result)"
   ]
  },
  {
   "cell_type": "code",
   "execution_count": null,
   "metadata": {},
   "outputs": [],
   "source": [
    "    "
   ]
  }
 ],
 "metadata": {
  "kernelspec": {
   "display_name": "env_pytorch",
   "language": "python",
   "name": "python3"
  },
  "language_info": {
   "codemirror_mode": {
    "name": "ipython",
    "version": 3
   },
   "file_extension": ".py",
   "mimetype": "text/x-python",
   "name": "python",
   "nbconvert_exporter": "python",
   "pygments_lexer": "ipython3",
   "version": "3.11.8"
  }
 },
 "nbformat": 4,
 "nbformat_minor": 2
}
