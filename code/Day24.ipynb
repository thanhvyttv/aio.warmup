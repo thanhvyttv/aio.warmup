{
 "cells": [
  {
   "cell_type": "code",
   "execution_count": 1,
   "metadata": {},
   "outputs": [
    {
     "name": "stdout",
     "output_type": "stream",
     "text": [
      "Xác suất của sự kiện là 0.25\n"
     ]
    }
   ],
   "source": [
    "def calculate_probability(event_occurences, total_trials):\n",
    "    return event_occurences/total_trials\n",
    "\n",
    "event_occurences = 5\n",
    "total_trials = 20\n",
    "probability = calculate_probability(event_occurences, total_trials)\n",
    "print(f\"Xác suất của sự kiện là {probability}\")"
   ]
  },
  {
   "cell_type": "code",
   "execution_count": 1,
   "metadata": {},
   "outputs": [
    {
     "name": "stdout",
     "output_type": "stream",
     "text": [
      "0.4\n"
     ]
    }
   ],
   "source": [
    "def calculate_conditional_probability(P_A_and_B, P_A):\n",
    "    return P_A_and_B / P_A\n",
    "\n",
    "P_A_and_B = 0.2\n",
    "P_A = 0.5\n",
    "P_B_givent_A = calculate_conditional_probability(P_A_and_B, P_A)\n",
    "print(P_B_givent_A)"
   ]
  },
  {
   "cell_type": "code",
   "execution_count": 3,
   "metadata": {},
   "outputs": [
    {
     "name": "stdout",
     "output_type": "stream",
     "text": [
      "Covariance giữa X và Y là: 10.0\n",
      "Correlation giữa X và Y là: 1.0\n"
     ]
    }
   ],
   "source": [
    "import numpy as np\n",
    "\n",
    "def calculate_covariance(X, Y):\n",
    "    if len(X) != len(Y):\n",
    "        raise ValueError(\"X and Y must have the same length.\")\n",
    "\n",
    "    X = np.array(X)\n",
    "    Y = np.array(Y)\n",
    "    n = len(X)\n",
    "\n",
    "    # Công thức tính covariance:\n",
    "    # cov(x, y) = (1/(n-1)) * sum((x_i - mean_x)*(y_i - mean_y))\n",
    "    mean_X = np.mean(X)\n",
    "    mean_Y = np.mean(Y)\n",
    "    sum_xy = 0\n",
    "    for x, y in zip(X, Y):\n",
    "        sum_xy += (x - mean_X)*(y - mean_Y)\n",
    "    covariance = sum_xy/(n-1)    \n",
    "    return covariance\n",
    "\n",
    "def calculate_correlation(X, Y):\n",
    "    if len(X) != len(Y):\n",
    "        raise ValueError(\"X and Y must have the same length.\")\n",
    "\n",
    "    X = np.array(X)\n",
    "    Y = np.array(Y)\n",
    "    n = len(X)\n",
    "\n",
    "    # Công thức tính correlation\n",
    "    # p = Cov(X, Y) /  (σ_x * σ_y)\n",
    "\n",
    "    mean_X = np.mean(X)\n",
    "    mean_Y = np.mean(Y)\n",
    "\n",
    "    sum_xy = sum((x - mean_X) * (y - mean_Y) for x, y in zip(X, Y))\n",
    "    sum_xx = sum((x - mean_X)**2 for x in X)\n",
    "    sum_yy = sum((y - mean_Y)**2 for y in Y)\n",
    "\n",
    "    correlation = sum_xy/np.sqrt(sum_xx * sum_yy)\n",
    "\n",
    "    return correlation\n",
    "\n",
    "X = [2, 4, 6, 8, 10]\n",
    "Y = [1, 3, 5, 7, 9]\n",
    "covariance = calculate_covariance(X, Y)\n",
    "correlation = calculate_correlation(X, Y)\n",
    "print(f\"Covariance giữa X và Y là: {covariance}\")\n",
    "print(f\"Correlation giữa X và Y là: {correlation}\")"
   ]
  },
  {
   "cell_type": "code",
   "execution_count": null,
   "metadata": {},
   "outputs": [],
   "source": [
    "import matplotlib.pyplot as plt\n",
    "\n",
    "# Vẽ đồ thị tương quan giữa X và Y\n",
    "plt.figure(figsize=(8, 6))\n",
    "plt.scatter(X, Y, color='blue', alpha=0.5)\n",
    "plt.plot(X, np.poly1d(np.polyfit(X, Y, 1))(X), color='red', linestyle='--')  # Đường hồi quy tuyến tính\n",
    "\n",
    "plt.xlabel('X')\n",
    "plt.ylabel('Y')\n",
    "plt.title(f'Tương quan giữa X và Y (r = {correlation:.2f})')\n",
    "\n",
    "plt.grid(True, linestyle='--', alpha=0.7)\n",
    "plt.show()"
   ]
  }
 ],
 "metadata": {
  "kernelspec": {
   "display_name": ".venv",
   "language": "python",
   "name": "python3"
  },
  "language_info": {
   "codemirror_mode": {
    "name": "ipython",
    "version": 3
   },
   "file_extension": ".py",
   "mimetype": "text/x-python",
   "name": "python",
   "nbconvert_exporter": "python",
   "pygments_lexer": "ipython3",
   "version": "3.11.8"
  }
 },
 "nbformat": 4,
 "nbformat_minor": 2
}
