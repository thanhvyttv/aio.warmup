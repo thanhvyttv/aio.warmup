{
 "cells": [
  {
   "cell_type": "code",
   "execution_count": 1,
   "metadata": {},
   "outputs": [],
   "source": [
    "import sqlite3"
   ]
  },
  {
   "cell_type": "code",
   "execution_count": 2,
   "metadata": {},
   "outputs": [],
   "source": [
    "connection = sqlite3.connect('database.sqlite')\n",
    "cursor = connection.cursor()"
   ]
  },
  {
   "cell_type": "code",
   "execution_count": 3,
   "metadata": {},
   "outputs": [
    {
     "data": {
      "text/plain": [
       "<sqlite3.Cursor at 0x112ef14c0>"
      ]
     },
     "execution_count": 3,
     "metadata": {},
     "output_type": "execute_result"
    }
   ],
   "source": [
    "cursor.execute (\"\"\"\n",
    "                  CREATE TABLE CUSTOMERS (\n",
    "                  EMAIL TEXT PRIMARY KEY ,\n",
    "                  NAME TEXT NOT NULL ,\n",
    "                  PHONE TEXT NOT NULL);\n",
    "                  \"\"\" )"
   ]
  },
  {
   "cell_type": "code",
   "execution_count": null,
   "metadata": {},
   "outputs": [],
   "source": [
    "cursor.execute(\"\"\"\n",
    "                INSERT INTO CUSTOMERS(EMAIL, NAME, PHONE)\n",
    "               VALUES \n",
    "               ('nguyen@aivietnam.edu.vn', 'Nguyen', '123456789'),\n",
    "               ('admin@aivietnam.edu.vn', 'Vinh', '1122334455');                \n",
    "                \"\"\")\n",
    "\n",
    "connection.commit()"
   ]
  },
  {
   "cell_type": "code",
   "execution_count": 5,
   "metadata": {},
   "outputs": [
    {
     "name": "stdout",
     "output_type": "stream",
     "text": [
      "                     EMAIL    NAME       PHONE\n",
      "0  nguyen@aivietnam.edu.vn  Nguyen   123456789\n",
      "1   admin@aivietnam.edu.vn    Vinh  1122334455\n"
     ]
    }
   ],
   "source": [
    "import pandas as pd\n",
    "\n",
    "data = pd.read_sql_query(\"SELECT * FROM CUSTOMERS\", connection)\n",
    "print(data)"
   ]
  },
  {
   "cell_type": "code",
   "execution_count": 8,
   "metadata": {},
   "outputs": [
    {
     "name": "stdout",
     "output_type": "stream",
     "text": [
      "                     EMAIL          NAME       PHONE\n",
      "0  nguyen@aivietnam.edu.vn  Hoang Nguyen   123456789\n",
      "1   admin@aivietnam.edu.vn          Vinh  1122334455\n"
     ]
    }
   ],
   "source": [
    "cursor.execute(\"\"\"\n",
    "               UPDATE CUSTOMERS\n",
    "               SET NAME = 'Hoang Nguyen'\n",
    "               WHERE 1 = 1\n",
    "               AND EMAIL = 'nguyen@aivietnam.edu.vn';\n",
    "\"\"\")\n",
    "connection.commit()\n",
    "\n",
    "data = pd.read_sql_query(\"SELECT * FROM CUSTOMERS\", connection)\n",
    "print(data)"
   ]
  },
  {
   "cell_type": "code",
   "execution_count": 9,
   "metadata": {},
   "outputs": [
    {
     "name": "stdout",
     "output_type": "stream",
     "text": [
      "                    EMAIL  NAME       PHONE\n",
      "0  admin@aivietnam.edu.vn  Vinh  1122334455\n"
     ]
    }
   ],
   "source": [
    "cursor.execute(\"\"\"\n",
    "               DELETE FROM CUSTOMERS\n",
    "               WHERE 1 = 1\n",
    "               AND EMAIL = 'nguyen@aivietnam.edu.vn';\n",
    "\"\"\")\n",
    "connection.commit()\n",
    "data = pd.read_sql_query(\"SELECT * FROM CUSTOMERS\", connection)\n",
    "print(data)"
   ]
  },
  {
   "cell_type": "code",
   "execution_count": 10,
   "metadata": {},
   "outputs": [
    {
     "data": {
      "text/plain": [
       "<sqlite3.Cursor at 0x112ef14c0>"
      ]
     },
     "execution_count": 10,
     "metadata": {},
     "output_type": "execute_result"
    }
   ],
   "source": [
    "cursor.execute(\"\"\"\n",
    "CREATE TABLE PRODUCT(\n",
    "               ID INTEGER PRIMARY KEY,\n",
    "               NAME TEXT NOT NULL,\n",
    "               PRICE INTEGER NOT NULL\n",
    "               );\n",
    "\"\"\")"
   ]
  },
  {
   "cell_type": "code",
   "execution_count": 11,
   "metadata": {},
   "outputs": [
    {
     "name": "stdout",
     "output_type": "stream",
     "text": [
      "   ID             NAME     PRICE\n",
      "0   1        iPhone 15  18000000\n",
      "1   2  Galaxy Z-Fold 5  30000000\n"
     ]
    }
   ],
   "source": [
    "cursor.execute(\"\"\"\n",
    "INSERT INTO PRODUCT (ID, NAME, PRICE)\n",
    "               VALUES\n",
    "               (1, 'iPhone 15', 18000000),\n",
    "               (2, 'Galaxy Z-Fold 5', 30000000);\n",
    "\"\"\")\n",
    "\n",
    "connection.commit()\n",
    "\n",
    "\n",
    "data = pd.read_sql_query(\"SELECT * FROM PRODUCT\", connection)\n",
    "print(data)"
   ]
  },
  {
   "cell_type": "code",
   "execution_count": 12,
   "metadata": {},
   "outputs": [
    {
     "name": "stdout",
     "output_type": "stream",
     "text": [
      "   ID             NAME     PRICE\n",
      "0   1        iPhone 15  18000000\n",
      "1   2  Galaxy Z-Fold 5  50000000\n"
     ]
    }
   ],
   "source": [
    "cursor.execute(\"\"\"\n",
    "UPDATE PRODUCT\n",
    "               SET PRICE = 50000000\n",
    "               WHERE NAME = 'Galaxy Z-Fold 5';\n",
    "\"\"\")\n",
    "\n",
    "connection.commit()\n",
    "\n",
    "data = pd.read_sql_query(\"SELECT * FROM PRODUCT\", connection)\n",
    "print(data)"
   ]
  },
  {
   "cell_type": "code",
   "execution_count": 14,
   "metadata": {},
   "outputs": [
    {
     "name": "stdout",
     "output_type": "stream",
     "text": [
      "   ID             NAME     PRICE\n",
      "0   2  Galaxy Z-Fold 5  50000000\n"
     ]
    }
   ],
   "source": [
    "cursor.execute(\"\"\"\n",
    "DELETE FROM PRODUCT WHERE NAME = 'iPhone 15'\n",
    "\"\"\")\n",
    "\n",
    "connection.commit()\n",
    "\n",
    "data = pd.read_sql_query(\"SELECT * FROM PRODUCT\", connection)\n",
    "print(data)"
   ]
  },
  {
   "cell_type": "code",
   "execution_count": null,
   "metadata": {},
   "outputs": [],
   "source": []
  }
 ],
 "metadata": {
  "kernelspec": {
   "display_name": ".venv",
   "language": "python",
   "name": "python3"
  },
  "language_info": {
   "codemirror_mode": {
    "name": "ipython",
    "version": 3
   },
   "file_extension": ".py",
   "mimetype": "text/x-python",
   "name": "python",
   "nbconvert_exporter": "python",
   "pygments_lexer": "ipython3",
   "version": "3.11.8"
  }
 },
 "nbformat": 4,
 "nbformat_minor": 2
}
