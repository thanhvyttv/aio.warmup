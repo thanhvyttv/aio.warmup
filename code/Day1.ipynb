{
 "cells": [
  {
   "cell_type": "code",
   "execution_count": 8,
   "metadata": {},
   "outputs": [
    {
     "data": {
      "text/plain": [
       "'Giáp Thìn'"
      ]
     },
     "execution_count": 8,
     "metadata": {},
     "output_type": "execute_result"
    }
   ],
   "source": [
    "def calculate_can_chi_calendar(year):\n",
    "    result = ''\n",
    "    can_list = ['Canh', \"Tân\", \"Nhâm\", \"Quý\", \"Giáp\", \"Ất\", \"Bính\", \"Đinh\", \"Mậu\", \"Kỷ\"]\n",
    "    chi_list = [\"Thân\", \"Dậu\", \"Tuất\", \"Hợi\", \"Tý\", \"Sửu\", \"Dần\", \"Mẹo\", \"Thìn\", \"Tỵ\", \"Ngọ\", \"Mùi\"]\n",
    "    can_mod = year%10\n",
    "    chi_mod = year%12\n",
    "    result = can_list[can_mod] + \" \" + chi_list[chi_mod]\n",
    "\n",
    "    return result\n",
    "\n",
    "calculate_can_chi_calendar(2025)\n",
    "calculate_can_chi_calendar(2024)"
   ]
  },
  {
   "cell_type": "code",
   "execution_count": 10,
   "metadata": {},
   "outputs": [
    {
     "data": {
      "text/plain": [
       "0"
      ]
     },
     "execution_count": 10,
     "metadata": {},
     "output_type": "execute_result"
    }
   ],
   "source": [
    "def relu(x):\n",
    "    result = 0\n",
    "    if x > 0:\n",
    "        result = x\n",
    "\n",
    "    return result\n",
    "\n",
    "relu(-1)"
   ]
  },
  {
   "cell_type": "code",
   "execution_count": 11,
   "metadata": {},
   "outputs": [
    {
     "data": {
      "text/plain": [
       "-0.02"
      ]
     },
     "execution_count": 11,
     "metadata": {},
     "output_type": "execute_result"
    }
   ],
   "source": [
    "def leaky_relu(x, alpha = 0.01):\n",
    "    result = x\n",
    "    if x <= 0:\n",
    "        result = alpha * x\n",
    "    return result\n",
    "\n",
    "leaky_relu(-2)"
   ]
  },
  {
   "cell_type": "code",
   "execution_count": 14,
   "metadata": {},
   "outputs": [
    {
     "data": {
      "text/plain": [
       "0.8807970779778823"
      ]
     },
     "execution_count": 14,
     "metadata": {},
     "output_type": "execute_result"
    }
   ],
   "source": [
    "import math\n",
    "def sigmoid(x):\n",
    "    return 1/(1 + math.e**(-x))\n",
    "\n",
    "sigmoid(2)"
   ]
  },
  {
   "cell_type": "code",
   "execution_count": 16,
   "metadata": {},
   "outputs": [
    {
     "data": {
      "text/plain": [
       "1.0"
      ]
     },
     "execution_count": 16,
     "metadata": {},
     "output_type": "execute_result"
    }
   ],
   "source": [
    "import math\n",
    "def tanh(x):\n",
    "    return (math.e**x - math.e**(-x))/(math.e**x + math.e**(-x))\n",
    "\n",
    "tanh(150)"
   ]
  },
  {
   "cell_type": "code",
   "execution_count": 21,
   "metadata": {},
   "outputs": [
    {
     "data": {
      "text/plain": [
       "-0.6321205588285577"
      ]
     },
     "execution_count": 21,
     "metadata": {},
     "output_type": "execute_result"
    }
   ],
   "source": [
    "import math\n",
    "\n",
    "def elu(x, alpha = 1.0):\n",
    "    result = x\n",
    "    if x <= 0:\n",
    "        result = alpha*(math.e**x - 1)\n",
    "\n",
    "    return result\n",
    "\n",
    "elu(-1)"
   ]
  }
 ],
 "metadata": {
  "kernelspec": {
   "display_name": "Python 3",
   "language": "python",
   "name": "python3"
  },
  "language_info": {
   "codemirror_mode": {
    "name": "ipython",
    "version": 3
   },
   "file_extension": ".py",
   "mimetype": "text/x-python",
   "name": "python",
   "nbconvert_exporter": "python",
   "pygments_lexer": "ipython3",
   "version": "3.11.9"
  }
 },
 "nbformat": 4,
 "nbformat_minor": 2
}
