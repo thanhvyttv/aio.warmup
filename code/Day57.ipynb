{
 "cells": [
  {
   "cell_type": "code",
   "execution_count": 6,
   "id": "eaec3ca7",
   "metadata": {},
   "outputs": [
    {
     "name": "stdout",
     "output_type": "stream",
     "text": [
      "Correlation Coefficient:  0.9999999999999998\n",
      "Correlation Coefficient - 1:  0.9999999999999999\n"
     ]
    }
   ],
   "source": [
    "import numpy as np\n",
    "\n",
    "x = np.array([1, 2, 3, 4, 5])\n",
    "y = np.array([2, 4, 6, 8, 10])\n",
    "\n",
    "# Tính theo công thức\n",
    "x_mean = np.mean(x)\n",
    "y_mean = np.mean(y)\n",
    "\n",
    "cov_x_y = np.sum((x - x_mean) * (y - y_mean)) / (\n",
    "    np.sqrt(np.sum((x - x_mean) ** 2)) * np.sqrt(np.sum((y - y_mean) ** 2))\n",
    ")\n",
    "\n",
    "print(\"Correlation Coefficient: \", cov_x_y)\n",
    "\n",
    "# Tính theo numpy\n",
    "r = np.corrcoef(x, y)  # Trả về ma trận tương quan 2x2\n",
    "print(\"Correlation Coefficient - 1: \", r[0][1])"
   ]
  },
  {
   "cell_type": "code",
   "execution_count": 8,
   "id": "67b8e67d",
   "metadata": {},
   "outputs": [
    {
     "name": "stdout",
     "output_type": "stream",
     "text": [
      "Correlation Coefficient - 2:  -0.9999999999999999\n"
     ]
    }
   ],
   "source": [
    "y2 = [10, 8, 6, 4, 2]\n",
    "\n",
    "r2 = np.corrcoef(x, y2)\n",
    "print(\"Correlation Coefficient - 2: \", r2[0][1])"
   ]
  },
  {
   "cell_type": "code",
   "execution_count": 10,
   "id": "ee37d47d",
   "metadata": {},
   "outputs": [
    {
     "name": "stdout",
     "output_type": "stream",
     "text": [
      "Correlation Coefficient - 3:  -0.07589466694797196\n"
     ]
    }
   ],
   "source": [
    "x3 = np.linspace(0, 10, 100)\n",
    "y3 = np.sin(x3)\n",
    "\n",
    "r3 = np.corrcoef(x3, y3)\n",
    "print(\"Correlation Coefficient - 3: \", r3[0][1])"
   ]
  },
  {
   "cell_type": "code",
   "execution_count": 11,
   "id": "e3167ca6",
   "metadata": {},
   "outputs": [
    {
     "name": "stdout",
     "output_type": "stream",
     "text": [
      "Correlation Coefficient - 4:  0.9900317180760644\n"
     ]
    }
   ],
   "source": [
    "feature = [1.1, 1.9, 3.2, 4.5, 5.1]\n",
    "label = [1.0, 2.0, 3.0, 4.1, 5.3]\n",
    "\n",
    "r4 = np.corrcoef(feature, label)[0][1]\n",
    "print(\"Correlation Coefficient - 4: \", r4)"
   ]
  },
  {
   "cell_type": "code",
   "execution_count": 12,
   "id": "e85021a1",
   "metadata": {},
   "outputs": [
    {
     "name": "stdout",
     "output_type": "stream",
     "text": [
      "Correlation Coefficient - 5:  1.0\n"
     ]
    }
   ],
   "source": [
    "height = [150, 160, 170, 180, 190]\n",
    "weight = [50, 60, 70, 80, 90]\n",
    "\n",
    "r5 = np.corrcoef(height, weight)[0][1]\n",
    "print(\"Correlation Coefficient - 5: \", r5)"
   ]
  },
  {
   "cell_type": "code",
   "execution_count": 14,
   "id": "e18a28d8",
   "metadata": {},
   "outputs": [
    {
     "name": "stdout",
     "output_type": "stream",
     "text": [
      "Correlation Coefficient - 6:  0.9974174463431612\n"
     ]
    }
   ],
   "source": [
    "embed_A = [0.3, 0.5, 0.7, 0.8]\n",
    "embed_B = [0.9, 1.4, 2.1, 2.4]\n",
    "\n",
    "r6 = np.corrcoef(embed_A, embed_B)[0][1]\n",
    "print(\"Correlation Coefficient - 6: \", r6)"
   ]
  },
  {
   "cell_type": "code",
   "execution_count": 16,
   "id": "fcfc093a",
   "metadata": {},
   "outputs": [
    {
     "name": "stdout",
     "output_type": "stream",
     "text": [
      "Correlation Coefficient - 7:  0.034315278228610115\n"
     ]
    }
   ],
   "source": [
    "X = np.random.normal(loc=0, scale=1, size=100)\n",
    "y = np.random.normal(loc=0, scale=1, size=100)\n",
    "\n",
    "r7 = np.corrcoef(X, y)[0][1]\n",
    "print(\"Correlation Coefficient - 7: \", r7)"
   ]
  },
  {
   "cell_type": "code",
   "execution_count": 18,
   "id": "18f2cd34",
   "metadata": {},
   "outputs": [
    {
     "name": "stdout",
     "output_type": "stream",
     "text": [
      "Correlation Coefficient - X & y_clean:  0.9999999999999999\n",
      "Correlation Coefficient - X & y_noisy:  0.9566415582776722\n"
     ]
    }
   ],
   "source": [
    "x = np.arange(100)\n",
    "y_clean = x\n",
    "y_noisy = x + np.random.normal(0, 10, 100)\n",
    "\n",
    "r_x_y_clean = np.corrcoef(x, y_clean)[0][1]\n",
    "r_x_y_noisy = np.corrcoef(x, y_noisy)[0][1]\n",
    "\n",
    "print(\"Correlation Coefficient - X & y_clean: \", r_x_y_clean)\n",
    "print(\"Correlation Coefficient - X & y_noisy: \", r_x_y_noisy)"
   ]
  },
  {
   "cell_type": "code",
   "execution_count": 19,
   "id": "409ab377",
   "metadata": {},
   "outputs": [
    {
     "name": "stdout",
     "output_type": "stream",
     "text": [
      "Correlation Coefficient - 9:  1.0\n"
     ]
    }
   ],
   "source": [
    "temperature = [22, 24, 23, 25, 26]\n",
    "sales = [100, 110, 105, 115, 120]\n",
    "\n",
    "r9 = np.corrcoef(temperature, sales)[0][1]\n",
    "print(\"Correlation Coefficient - 9: \", r9)"
   ]
  },
  {
   "cell_type": "code",
   "execution_count": 21,
   "id": "218940ba",
   "metadata": {},
   "outputs": [],
   "source": [
    "doc1 = \"deep learning for natural language processing\"\n",
    "doc2 = \"transformer models improve language understanding\"\n",
    "doc3 = \"convolutional neural networks for image classification\"\n",
    "query = \"language models for text understanding\""
   ]
  },
  {
   "cell_type": "code",
   "execution_count": 20,
   "id": "e65d7c2c",
   "metadata": {},
   "outputs": [],
   "source": [
    "import numpy as np\n",
    "import math\n",
    "from collections import Counter"
   ]
  },
  {
   "cell_type": "code",
   "execution_count": 29,
   "id": "a05f1db9",
   "metadata": {},
   "outputs": [
    {
     "name": "stdout",
     "output_type": "stream",
     "text": [
      "Counter({'classification': 1, 'convolutional': 1, 'deep': 1, 'for': 1, 'image': 1, 'improve': 1, 'language': 1, 'learning': 1, 'models': 1, 'natural': 1, 'networks': 1, 'neural': 1, 'processing': 1, 'text': 1, 'transformer': 1, 'understanding': 1})\n",
      "1. Score: 0.2506 -> 'transformer models improve language understanding'\n",
      "2. Score: -0.2041 -> 'deep learning for natural language processing'\n",
      "3. Score: -0.3628 -> 'convolutional neural networks for image classification'\n"
     ]
    }
   ],
   "source": [
    "# Tiền xử lý văn bản\n",
    "def tokenize(text):\n",
    "    return text.lower().split()\n",
    "\n",
    "\n",
    "docs = [doc1, doc2, doc3]\n",
    "all_docs = docs + [query]\n",
    "tokenized_docs = [tokenize(doc) for doc in all_docs]\n",
    "\n",
    "# Xây dựng tập từ vựng\n",
    "vocab = sorted(set(word for doc in tokenized_docs for word in doc))\n",
    "count = Counter(vocab)\n",
    "print(count)\n",
    "\n",
    "\n",
    "# Tính TF\n",
    "def compute_tf(doc_tokens):\n",
    "    count = Counter(doc_tokens)\n",
    "    tf = [count[word] / len(doc_tokens) for word in vocab]\n",
    "    return tf\n",
    "\n",
    "\n",
    "# Tính IDF\n",
    "def compute_idf(docs_tokens):\n",
    "    N = len(docs_tokens)\n",
    "    idf = []\n",
    "    for word in vocab:\n",
    "        df = sum(word in doc for doc in docs_tokens)\n",
    "        idf.append(math.log((N) / (1 + df)) + 1)\n",
    "    return idf\n",
    "\n",
    "\n",
    "# Tính TF-IDF\n",
    "def compute_tfidf(tf, idf):\n",
    "    return [t * i for t, i in zip(tf, idf)]\n",
    "\n",
    "\n",
    "tf_vectors = [compute_tf(doc) for doc in tokenized_docs]\n",
    "idf_vector = compute_idf(tokenized_docs)\n",
    "tfidf_vectors = [compute_tfidf(tf, idf_vector) for tf in tf_vectors]\n",
    "\n",
    "# Lấy vector query và doc\n",
    "query_vector = np.array(tfidf_vectors[-1])\n",
    "doc_vectors = [np.array(vec) for vec in tfidf_vectors[:-1]]\n",
    "\n",
    "\n",
    "# Tính hệ số tương quan Pearson (np.corrcoef)\n",
    "def compute_pearson_corr(x, y):\n",
    "    if np.std(x) == 0 or np.std(y) == 0:\n",
    "        return 0\n",
    "    return np.corrcoef(x, y)[0, 1]\n",
    "\n",
    "\n",
    "# Tính tương quan và xếp hạng\n",
    "correlations = [\n",
    "    compute_pearson_corr(query_vector, doc_vector) for doc_vector in doc_vectors\n",
    "]\n",
    "results = sorted(zip(docs, correlations), key=lambda x: x[1], reverse=True)\n",
    "\n",
    "# Kết quả\n",
    "for i, (doc, score) in enumerate(results, 1):\n",
    "    print(f\"{i}. Score: {score:.4f} -> '{doc}'\")"
   ]
  },
  {
   "cell_type": "code",
   "execution_count": null,
   "id": "a4759bd5",
   "metadata": {},
   "outputs": [],
   "source": []
  }
 ],
 "metadata": {
  "kernelspec": {
   "display_name": ".venv",
   "language": "python",
   "name": "python3"
  },
  "language_info": {
   "codemirror_mode": {
    "name": "ipython",
    "version": 3
   },
   "file_extension": ".py",
   "mimetype": "text/x-python",
   "name": "python",
   "nbconvert_exporter": "python",
   "pygments_lexer": "ipython3",
   "version": "3.11.8"
  }
 },
 "nbformat": 4,
 "nbformat_minor": 5
}
