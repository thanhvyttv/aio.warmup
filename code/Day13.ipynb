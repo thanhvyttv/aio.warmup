{
 "cells": [
  {
   "cell_type": "code",
   "execution_count": 5,
   "metadata": {},
   "outputs": [
    {
     "name": "stdout",
     "output_type": "stream",
     "text": [
      "[[ 6  8]\n",
      " [10 12]]\n",
      "[[-4 -4]\n",
      " [-4 -4]]\n"
     ]
    }
   ],
   "source": [
    "import numpy as np\n",
    "\n",
    "a = np.array([[1,2],[3,4]]) \n",
    "b = np.array([[5,6],[7,8]])\n",
    "cong = a + b\n",
    "tru = a - b\n",
    "print(cong)\n",
    "print(tru)"
   ]
  },
  {
   "cell_type": "code",
   "execution_count": 6,
   "metadata": {},
   "outputs": [
    {
     "name": "stdout",
     "output_type": "stream",
     "text": [
      "[[3 1]\n",
      " [2 1]]\n",
      "[[  1  -7]\n",
      " [  6 -11]]\n"
     ]
    }
   ],
   "source": [
    "c = np.array([[2,-3],[4,-5]]) \n",
    "d = np.array([[1,4],[-2,6]])\n",
    "tong = np.add(c,d)\n",
    "hieu = np.subtract(c,d)\n",
    "print(tong)\n",
    "print(hieu)"
   ]
  },
  {
   "cell_type": "code",
   "execution_count": 8,
   "metadata": {},
   "outputs": [
    {
     "name": "stdout",
     "output_type": "stream",
     "text": [
      "[[ 5 12]\n",
      " [21 32]]\n"
     ]
    }
   ],
   "source": [
    "hadamard = a * b\n",
    "print(hadamard)"
   ]
  },
  {
   "cell_type": "code",
   "execution_count": 9,
   "metadata": {},
   "outputs": [
    {
     "name": "stdout",
     "output_type": "stream",
     "text": [
      "[[0 4 6]\n",
      " [6 4 0]]\n"
     ]
    }
   ],
   "source": [
    "e = np.array([[0,1,2],[3,4,5]])\n",
    "f = np.array([[5,4,3],[2,1,0]])\n",
    "hadamard_ef = e * f\n",
    "print(hadamard_ef)"
   ]
  },
  {
   "cell_type": "code",
   "execution_count": 13,
   "metadata": {},
   "outputs": [
    {
     "name": "stdout",
     "output_type": "stream",
     "text": [
      "32\n"
     ]
    }
   ],
   "source": [
    "v1 = np.array([1,2,3])\n",
    "v2 = np.array([4,5,6])\n",
    "dot_product = np.dot(v1, v2.T)\n",
    "print(dot_product)"
   ]
  },
  {
   "cell_type": "code",
   "execution_count": 19,
   "metadata": {},
   "outputs": [
    {
     "name": "stdout",
     "output_type": "stream",
     "text": [
      "[[-4. -4.]\n",
      " [-4. -4.]]\n"
     ]
    }
   ],
   "source": [
    "#convolution\n",
    "a1 = np.array([[1,2,3], [4,5,6], [7,8,9]])\n",
    "k = np.array([[1,0],[0,-1]])\n",
    "\n",
    "def convolution(mat, kernel):\n",
    "    rows = mat.shape[0] - kernel.shape[0] + 1\n",
    "    cols = mat.shape[1] - kernel.shape[1] + 1\n",
    "    result = np.zeros((rows, cols))\n",
    "\n",
    "    for i in range(rows):\n",
    "        for j in range(cols):\n",
    "            result[i,j] = np.sum(mat[i:i+2, j:j+2] * kernel)\n",
    "    \n",
    "    return result\n",
    "\n",
    "result = convolution(a1, k)\n",
    "print(result)"
   ]
  },
  {
   "cell_type": "code",
   "execution_count": 20,
   "metadata": {},
   "outputs": [
    {
     "name": "stdout",
     "output_type": "stream",
     "text": [
      "[ 0.52532199 -0.85090352]\n"
     ]
    }
   ],
   "source": [
    "vec_a = np.array([1, 0])\n",
    "\n",
    "def rotate(v, degree):\n",
    "    rotated = np.array([[np.cos(degree), -np.sin(degree)],\n",
    "                        [np.sin(degree), np.cos(degree)]])\n",
    "    return v.dot(rotated)\n",
    "\n",
    "print(rotate(vec_a, 45))\n"
   ]
  }
 ],
 "metadata": {
  "kernelspec": {
   "display_name": "Python 3",
   "language": "python",
   "name": "python3"
  },
  "language_info": {
   "codemirror_mode": {
    "name": "ipython",
    "version": 3
   },
   "file_extension": ".py",
   "mimetype": "text/x-python",
   "name": "python",
   "nbconvert_exporter": "python",
   "pygments_lexer": "ipython3",
   "version": "3.11.9"
  }
 },
 "nbformat": 4,
 "nbformat_minor": 2
}
