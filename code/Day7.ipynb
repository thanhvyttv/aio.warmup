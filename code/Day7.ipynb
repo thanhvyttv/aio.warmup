{
 "cells": [
  {
   "cell_type": "code",
   "execution_count": 14,
   "metadata": {},
   "outputs": [
    {
     "name": "stdout",
     "output_type": "stream",
     "text": [
      "[2, 4, 6, 8, 10, 12]\n"
     ]
    }
   ],
   "source": [
    "lst_data = []\n",
    "for number in range(1,13):\n",
    "    if number % 2 == 0:\n",
    "        lst_data.append(number)\n",
    "\n",
    "print(lst_data)\n",
    "\n"
   ]
  },
  {
   "cell_type": "code",
   "execution_count": 15,
   "metadata": {},
   "outputs": [
    {
     "name": "stdout",
     "output_type": "stream",
     "text": [
      "[2, 4, 8, 10]\n"
     ]
    }
   ],
   "source": [
    "for number in lst_data:\n",
    "    if number % 3 == 0:\n",
    "        lst_data.remove(number)\n",
    "\n",
    "print(lst_data)"
   ]
  },
  {
   "cell_type": "code",
   "execution_count": 16,
   "metadata": {},
   "outputs": [
    {
     "name": "stdout",
     "output_type": "stream",
     "text": [
      "[2, 4, 8, 6, 7, 8, 10, 1, 2, 3]\n"
     ]
    }
   ],
   "source": [
    "for number in range(1,4):\n",
    "    lst_data.append(number)\n",
    "\n",
    "possition = 3\n",
    "for number in range(6,9):\n",
    "    lst_data.insert(possition, number)\n",
    "    possition +=1\n",
    "\n",
    "print(lst_data)"
   ]
  },
  {
   "cell_type": "code",
   "execution_count": 18,
   "metadata": {},
   "outputs": [
    {
     "name": "stdout",
     "output_type": "stream",
     "text": [
      "[0, 0, 0, 0, 7, 0, 0, 1, 0, 3]\n"
     ]
    }
   ],
   "source": [
    "for index, number in enumerate(lst_data):\n",
    "    if (number % 2 == 0) or (number % 5 == 0):\n",
    "        lst_data[index] = 0\n",
    "\n",
    "print(lst_data)"
   ]
  }
 ],
 "metadata": {
  "kernelspec": {
   "display_name": "Python 3",
   "language": "python",
   "name": "python3"
  },
  "language_info": {
   "codemirror_mode": {
    "name": "ipython",
    "version": 3
   },
   "file_extension": ".py",
   "mimetype": "text/x-python",
   "name": "python",
   "nbconvert_exporter": "python",
   "pygments_lexer": "ipython3",
   "version": "3.11.9"
  }
 },
 "nbformat": 4,
 "nbformat_minor": 2
}
