{
 "cells": [
  {
   "cell_type": "code",
   "execution_count": null,
   "id": "b6a63868",
   "metadata": {},
   "outputs": [],
   "source": [
    "#  Bài 1.1 – Tìm prompt chứa từ khoá\n",
    "def find_prompt_with_keyword(prompts, keyword):\n",
    "    for i in range(len(prompts)):\n",
    "        words = prompts[i].split()\n",
    "        for word in words:\n",
    "            if word == keyword:\n",
    "                return i\n",
    "\n",
    "\n",
    "prompts = [\n",
    "    \" Generate a report for patient X.\",\n",
    "    \" Summarize the input text .\",\n",
    "    \" Suggest a diagnosis based on symptoms .\",\n",
    "    \" Translate this to French .\",\n",
    "]\n",
    "\n",
    "print(find_prompt_with_keyword(prompts, \"diagnosis\"))"
   ]
  },
  {
   "cell_type": "code",
   "execution_count": null,
   "id": "d156b9e4",
   "metadata": {},
   "outputs": [],
   "source": [
    "# Bài 1.2 – Tìm mẫu ảnh chưa có annotation\n",
    "def find_first_unlabeled(images):\n",
    "    index = 0\n",
    "    for image in images:\n",
    "        for value in image.values():\n",
    "            if value is None:\n",
    "                return index\n",
    "        index += 1\n",
    "\n",
    "\n",
    "images = [\n",
    "    {\"name\": \"img1 .png\", \"label\": \"benign\"},\n",
    "    {\"name\": \"img2 .png\", \"label\": None},\n",
    "    {\"name\": \"img3 .png\", \"label\": \"malignant\"},\n",
    "]\n",
    "\n",
    "print(find_first_unlabeled(images))"
   ]
  },
  {
   "cell_type": "code",
   "execution_count": null,
   "id": "4a99e365",
   "metadata": {},
   "outputs": [
    {
     "name": "stdout",
     "output_type": "stream",
     "text": [
      "['img2', 'img3', 'img1']\n"
     ]
    }
   ],
   "source": [
    "# Bài 2.1 – Sắp xếp ảnh theo độ mờ\n",
    "def sort_by_blurriness(images):\n",
    "    n = len(images)\n",
    "    for i in range(n):\n",
    "        for j in range(0, n - i - 1):\n",
    "            if images[j][\"blurriness\"] > images[j + 1][\"blurriness\"]:\n",
    "                images[j], images[j + 1] = images[j + 1], images[j]\n",
    "    return images\n",
    "\n",
    "\n",
    "image_data = [\n",
    "    {\"name\": \"img1\", \"blurriness\": 0.8},\n",
    "    {\"name\": \"img2\", \"blurriness\": 0.3},\n",
    "    {\"name\": \"img3\", \"blurriness\": 0.5},\n",
    "]\n",
    "sorted_imgs = sort_by_blurriness(image_data)\n",
    "print([img[\"name\"] for img in sorted_imgs])"
   ]
  },
  {
   "cell_type": "code",
   "execution_count": null,
   "id": "c389d7b7",
   "metadata": {},
   "outputs": [
    {
     "name": "stdout",
     "output_type": "stream",
     "text": [
      "after 0 0 [('ModelB', 0.93), ('ModelA', 0.89), ('ModelC', 0.91)]\n",
      "after 0 1 [('ModelB', 0.93), ('ModelC', 0.91), ('ModelA', 0.89)]\n",
      "after 1 0 [('ModelB', 0.93), ('ModelC', 0.91), ('ModelA', 0.89)]\n",
      "['ModelB', 'ModelC', 'ModelA']\n"
     ]
    }
   ],
   "source": [
    "# Bài 2.2 – Sắp xếp mô hình theo độ chính xác\n",
    "def sort_models_by_accuracy(models, accuracies):\n",
    "    n = len(models)\n",
    "    model_accuracy_pairs = list(zip(models, accuracies))\n",
    "    for i in range(n):\n",
    "        for j in range(0, n - i - 1):\n",
    "            if model_accuracy_pairs[j][1] < model_accuracy_pairs[j + 1][1]:\n",
    "                model_accuracy_pairs[j], model_accuracy_pairs[j + 1] = (\n",
    "                    model_accuracy_pairs[j + 1],\n",
    "                    model_accuracy_pairs[j],\n",
    "                )\n",
    "    sorted_models = [pair[0] for pair in model_accuracy_pairs]\n",
    "    return sorted_models\n",
    "\n",
    "\n",
    "models = [\"ModelA\", \"ModelB\", \"ModelC\"]\n",
    "accuracies = [0.89, 0.93, 0.91]\n",
    "print(sort_models_by_accuracy(models, accuracies))"
   ]
  },
  {
   "cell_type": "code",
   "execution_count": null,
   "id": "132f625d",
   "metadata": {},
   "outputs": [
    {
     "name": "stdout",
     "output_type": "stream",
     "text": [
      "4\n"
     ]
    }
   ],
   "source": [
    "# Bài 2.3 – Đếm số lần hoán đổi theo loss\n",
    "def bubble_sort_with_count(arr):\n",
    "    count = 0\n",
    "    n = len(arr)\n",
    "    for i in range(n):\n",
    "        for j in range(n - i - 1):\n",
    "            if arr[j] > arr[j + 1]:\n",
    "                arr[j], arr[j + 1] = arr[j + 1], arr[j]\n",
    "                count += 1\n",
    "    return count\n",
    "\n",
    "\n",
    "losses = [0.4, 0.3, 0.5, 0.2]\n",
    "print(bubble_sort_with_count(losses))"
   ]
  },
  {
   "cell_type": "code",
   "execution_count": 70,
   "id": "f1dc3f3c",
   "metadata": {},
   "outputs": [
    {
     "name": "stdout",
     "output_type": "stream",
     "text": [
      "5\n"
     ]
    }
   ],
   "source": [
    "# Bài 3.1 – Tìm xác suất bệnh >= ngưỡng\n",
    "def find_first_greater_or_equal(arr, x):\n",
    "    left, right = 0, len(arr) - 1\n",
    "    result = -1\n",
    "    while left <= right:\n",
    "        mid = (left + right) // 2\n",
    "        if arr[mid] == x:\n",
    "            result = mid\n",
    "            right = x - 1\n",
    "        elif arr[mid] < x:\n",
    "            left = mid + 1\n",
    "        else:\n",
    "            pass\n",
    "\n",
    "    return result\n",
    "\n",
    "\n",
    "probs = [0.12, 0.23, 0.35, 0.47, 0.59, 0.61, 0.74, 0.81]\n",
    "print(find_first_greater_or_equal(probs, 0.61))"
   ]
  },
  {
   "cell_type": "code",
   "execution_count": 68,
   "id": "da51686a",
   "metadata": {},
   "outputs": [
    {
     "name": "stdout",
     "output_type": "stream",
     "text": [
      "0.7\n"
     ]
    }
   ],
   "source": [
    "# Bài 3.2 – Tìm threshold có F1-score tốt nhất\n",
    "def binary_search_threshold(f1_scores, threshold):\n",
    "    left, right = 0, len(f1_scores) - 1\n",
    "    while left <= right:\n",
    "        mid = (left + right) // 2\n",
    "        if f1_scores[mid][0] == threshold:\n",
    "            return f1_scores[mid][1]\n",
    "        elif f1_scores[mid][0] < threshold:\n",
    "            left = mid + 1\n",
    "        else:\n",
    "            right =  mid - 1\n",
    "    return None\n",
    "\n",
    "\n",
    "f1_scores = [(0.1, 0.6), (0.2, 0.65), (0.3, 0.7), (0.4, 0.68)]\n",
    "print(binary_search_threshold(f1_scores, 0.3))"
   ]
  },
  {
   "cell_type": "code",
   "execution_count": 69,
   "id": "d3bc0066",
   "metadata": {},
   "outputs": [
    {
     "name": "stdout",
     "output_type": "stream",
     "text": [
      "True\n"
     ]
    }
   ],
   "source": [
    "# Bài 3.3 – Kiểm tra có ảnh tương đồng cao không\n",
    "def exists_similar_image(similarities, threshold):\n",
    "    left, right = 0, len(similarities) - 1\n",
    "    while left <= right:\n",
    "        mid = (left + right) // 2\n",
    "        if similarities[mid] == threshold:\n",
    "            return True\n",
    "        elif similarities[mid] < threshold:\n",
    "            left =  mid + 1\n",
    "        else:\n",
    "            right = mid - 1\n",
    "    return False\n",
    "\n",
    "\n",
    "sims = [0.95, 0.89, 0.85, 0.80, 0.75]  # descending order\n",
    "print(exists_similar_image(sims, 0.85))"
   ]
  },
  {
   "cell_type": "code",
   "execution_count": null,
   "id": "531568b4",
   "metadata": {},
   "outputs": [],
   "source": []
  }
 ],
 "metadata": {
  "kernelspec": {
   "display_name": ".venv",
   "language": "python",
   "name": "python3"
  },
  "language_info": {
   "codemirror_mode": {
    "name": "ipython",
    "version": 3
   },
   "file_extension": ".py",
   "mimetype": "text/x-python",
   "name": "python",
   "nbconvert_exporter": "python",
   "pygments_lexer": "ipython3",
   "version": "3.11.8"
  }
 },
 "nbformat": 4,
 "nbformat_minor": 5
}
