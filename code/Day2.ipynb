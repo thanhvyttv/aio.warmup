{
 "cells": [
  {
   "cell_type": "code",
   "execution_count": 9,
   "metadata": {},
   "outputs": [
    {
     "data": {
      "text/plain": [
       "2.716422326460353"
      ]
     },
     "execution_count": 9,
     "metadata": {},
     "output_type": "execute_result"
    }
   ],
   "source": [
    "def compute_interest(money, period):\n",
    "    result = money\n",
    "    for _ in range(period):\n",
    "        result *= (1 + 1/(period))\n",
    "    return result\n",
    "\n",
    "\n",
    "compute_interest(1, 730)"
   ]
  },
  {
   "cell_type": "code",
   "execution_count": 22,
   "metadata": {},
   "outputs": [
    {
     "data": {
      "text/plain": [
       "False"
      ]
     },
     "execution_count": 22,
     "metadata": {},
     "output_type": "execute_result"
    }
   ],
   "source": [
    "import math\n",
    "def is_prime_eratosthenes(n):\n",
    "    if n < 2:\n",
    "        return False\n",
    "    \n",
    "    prime = []\n",
    "    for _ in range(n + 1):\n",
    "        prime.append(True)\n",
    "    prime[0] = False\n",
    "    prime[1] = False\n",
    "    \n",
    "    for i in range(2, int(math.sqrt(n))):\n",
    "        if prime[i] == True:\n",
    "            for j in range(i**2, n + 1, i):\n",
    "                prime[j] = False\n",
    "    \n",
    "    return prime[n]\n",
    "\n",
    "is_prime_eratosthenes(10)"
   ]
  },
  {
   "cell_type": "code",
   "execution_count": null,
   "metadata": {},
   "outputs": [],
   "source": []
  }
 ],
 "metadata": {
  "kernelspec": {
   "display_name": "Python 3",
   "language": "python",
   "name": "python3"
  },
  "language_info": {
   "codemirror_mode": {
    "name": "ipython",
    "version": 3
   },
   "file_extension": ".py",
   "mimetype": "text/x-python",
   "name": "python",
   "nbconvert_exporter": "python",
   "pygments_lexer": "ipython3",
   "version": "3.11.9"
  }
 },
 "nbformat": 4,
 "nbformat_minor": 2
}
