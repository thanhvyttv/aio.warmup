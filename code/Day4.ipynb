{
 "cells": [
  {
   "cell_type": "code",
   "execution_count": 10,
   "metadata": {},
   "outputs": [
    {
     "data": {
      "text/plain": [
       "102"
      ]
     },
     "execution_count": 10,
     "metadata": {},
     "output_type": "execute_result"
    }
   ],
   "source": [
    "def find_divisible_number(a):\n",
    "    x = 101\n",
    "    if a == 0:\n",
    "        print(\"a must be larger than 0\")\n",
    "    else:\n",
    "        while x % a != 0:\n",
    "            x += 1\n",
    "        return x\n",
    "\n",
    "find_divisible_number(17)"
   ]
  },
  {
   "cell_type": "code",
   "execution_count": 11,
   "metadata": {},
   "outputs": [
    {
     "data": {
      "text/plain": [
       "102"
      ]
     },
     "execution_count": 11,
     "metadata": {},
     "output_type": "execute_result"
    }
   ],
   "source": [
    "def find_divisible_number(a):\n",
    "    x = 101\n",
    "    while True:\n",
    "        if x % a == 0:\n",
    "            break\n",
    "        x += 1\n",
    "    return x\n",
    "\n",
    "find_divisible_number(17)"
   ]
  }
 ],
 "metadata": {
  "kernelspec": {
   "display_name": "Python 3",
   "language": "python",
   "name": "python3"
  },
  "language_info": {
   "codemirror_mode": {
    "name": "ipython",
    "version": 3
   },
   "file_extension": ".py",
   "mimetype": "text/x-python",
   "name": "python",
   "nbconvert_exporter": "python",
   "pygments_lexer": "ipython3",
   "version": "3.11.9"
  }
 },
 "nbformat": 4,
 "nbformat_minor": 2
}
