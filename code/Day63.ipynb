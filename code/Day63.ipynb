{
 "cells": [
  {
   "cell_type": "code",
   "execution_count": null,
   "id": "5fad4e32",
   "metadata": {},
   "outputs": [
    {
     "name": "stdout",
     "output_type": "stream",
     "text": [
      "49\n"
     ]
    }
   ],
   "source": [
    "# Bài 1: Tạo một hàm lambda tính bình phương một số.\n",
    "bp = lambda x: x**2\n",
    "print(bp(7))"
   ]
  },
  {
   "cell_type": "code",
   "execution_count": null,
   "id": "b47e4451",
   "metadata": {},
   "outputs": [
    {
     "name": "stdout",
     "output_type": "stream",
     "text": [
      "True\n"
     ]
    }
   ],
   "source": [
    "# Bài 2: Tạo hàm lambda kiểm tra xem một số có lớn hơn 10 không.\n",
    "check_larger_than_10 = lambda x: x > 10\n",
    "print(check_larger_than_10(15))"
   ]
  },
  {
   "cell_type": "code",
   "execution_count": null,
   "id": "e46c8b20",
   "metadata": {},
   "outputs": [
    {
     "name": "stdout",
     "output_type": "stream",
     "text": [
      "[2, 6, 10, 14]\n"
     ]
    }
   ],
   "source": [
    "# Bài 3: Dùng map và lambda để nhân đôi từng phần tử trong list [1, 3, 5, 7].\n",
    "numbers = [1, 3, 5, 7]\n",
    "double = list(map(lambda x: x * 2, numbers))\n",
    "print(double)"
   ]
  },
  {
   "cell_type": "code",
   "execution_count": null,
   "id": "c72d064b",
   "metadata": {},
   "outputs": [
    {
     "name": "stdout",
     "output_type": "stream",
     "text": [
      "[2, 4, 6]\n"
     ]
    }
   ],
   "source": [
    "# Bài 4: Dùng filter và lambda để lọc các số chẵn từ list [1, 2, 3, 4, 5, 6].\n",
    "numbers = [1, 2, 3, 4, 5, 6]\n",
    "even_num = list(filter(lambda x: x % 2 == 0, numbers))\n",
    "print(even_num)"
   ]
  },
  {
   "cell_type": "code",
   "execution_count": null,
   "id": "ed92f940",
   "metadata": {},
   "outputs": [
    {
     "name": "stdout",
     "output_type": "stream",
     "text": [
      "[('John', 80), ('Dave', 90), ('Jane', 95)]\n"
     ]
    }
   ],
   "source": [
    "# Bài 5: Sắp xếp danh sách các tuple theo phần tử thứ hai dùng lambda.\n",
    "students = [(\"John\", 80), (\"Jane\", 95), (\"Dave\", 90)]\n",
    "students.sort(key=lambda students: students[1])\n",
    "print(students)"
   ]
  },
  {
   "cell_type": "code",
   "execution_count": null,
   "id": "1a729aa3",
   "metadata": {},
   "outputs": [
    {
     "name": "stdout",
     "output_type": "stream",
     "text": [
      "7\n"
     ]
    }
   ],
   "source": [
    "# Bài 6: Viết hàm calculator nhận vào một phép toán (’+’, ’-’, ’*’, ’/’) và trả về một hàm lambda thực hiện phép toán đó.\n",
    "def calculator(op):\n",
    "    if op == \"+\":\n",
    "        return lambda x, y: x + y\n",
    "    elif op == \"-\":\n",
    "        return lambda x, y: x - y\n",
    "    elif op == \"*\":\n",
    "        return lambda x, y: x * y\n",
    "    elif op == \"/\":\n",
    "        return lambda x, y: x / y\n",
    "    else:\n",
    "        print(\"wrong op\")\n",
    "\n",
    "\n",
    "add = calculator(\"+\")\n",
    "print(add(3, 4))"
   ]
  },
  {
   "cell_type": "code",
   "execution_count": null,
   "id": "fb0869ff",
   "metadata": {},
   "outputs": [],
   "source": []
  }
 ],
 "metadata": {
  "kernelspec": {
   "display_name": ".venv",
   "language": "python",
   "name": "python3"
  },
  "language_info": {
   "codemirror_mode": {
    "name": "ipython",
    "version": 3
   },
   "file_extension": ".py",
   "mimetype": "text/x-python",
   "name": "python",
   "nbconvert_exporter": "python",
   "pygments_lexer": "ipython3",
   "version": "3.11.8"
  }
 },
 "nbformat": 4,
 "nbformat_minor": 5
}
