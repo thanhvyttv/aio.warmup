{
 "cells": [
  {
   "cell_type": "code",
   "execution_count": 21,
   "id": "15bd530c",
   "metadata": {},
   "outputs": [
    {
     "data": {
      "text/plain": [
       "True"
      ]
     },
     "execution_count": 21,
     "metadata": {},
     "output_type": "execute_result"
    }
   ],
   "source": [
    "import numpy as np\n",
    "import matplotlib.pyplot as plt\n",
    "import cv2\n",
    "\n",
    "bg = cv2.imread(\"data/ComputerVidion/background.jpg\", 1)\n",
    "bg = cv2.resize(bg, (640, 480))\n",
    "bg = cv2.cvtColor(bg, cv2.COLOR_BGR2RGB)\n",
    "\n",
    "img = cv2.imread(\"data/ComputerVidion/StillImage.png\", 1)\n",
    "img = cv2.resize(img, (640, 480))\n",
    "img = cv2.cvtColor(img, cv2.COLOR_BGR2RGB)\n",
    "\n",
    "difference = cv2.absdiff(bg, img)\n",
    "\n",
    "_, difference_binary = cv2.threshold(difference, 20, 255, cv2.THRESH_BINARY)\n",
    "\n",
    "new_bg = cv2.imread(\"data/ComputerVidion/FakeBackground.png\")\n",
    "new_bg = cv2.resize(new_bg, (640, 480))\n",
    "new_bg = cv2.cvtColor(new_bg, cv2.COLOR_BGR2RGB)\n",
    "\n",
    "output = np.where(difference_binary == 0, new_bg, img)\n",
    "cv2.imwrite(\"data/ComputerVidion/output.png\", output)"
   ]
  },
  {
   "cell_type": "code",
   "execution_count": null,
   "id": "3b8d8537",
   "metadata": {},
   "outputs": [],
   "source": [
    "def computeDifference(bg_img, input_img):\n",
    "    # Tính giá trị khác biệt tuyệt đối giữa 2 bức ảnh\n",
    "    difference_three_channel = np.abs(bg_img - input_img)\n",
    "\n",
    "    # Chuyển sự khác biệt 3 kênh sang 1 kênh bằng cách tính giá trị trung bình\n",
    "    # Giúp giảm giá trị khác biệt xuống 1 giá trị cường độ đơn lẻ\n",
    "    difference_single_channel = np.sum(difference_three_channel, axis=2) / 3.0\n",
    "\n",
    "    # Chuyển đổi lại sang uint8 để phù hợp với xử lý ảnh\n",
    "    difference_single_channel = difference_single_channel.astype(\"uint8\")\n",
    "\n",
    "    return difference_single_channel\n",
    "\n",
    "\n",
    "def computeBinaryMask(difference_single_channel, threshold=15):\n",
    "    # Áp dụng ngưỡng để tạo mask nhị phân\n",
    "    difference_binary = np.where(difference_single_channel >= threshold, 255, 0)\n",
    "\n",
    "    # Ghép mask nhị phân thành 3 kênh để phù hợp với định dạng RGB\n",
    "    binary_mask = np.stack((difference_binary,) * 3, axis=-1)\n",
    "\n",
    "    return binary_mask\n",
    "\n",
    "def replaceBackground(bg_image1, bg_image2, ob_image):\n",
    "    # Tính toán sự khác biệt giữa hình ảnh đối tượng và hình nền thứ 1\n",
    "    difference_single_channel = computeDifference(bg_image1, ob_image)\n",
    "\n",
    "    # Tính mask nhị phân dựa trên sự khác biệt\n",
    "    binary_mask = computeBinaryMask(difference_single_channel)\n",
    "\n",
    "    # Thay thế vị trí ảnh nền\n",
    "    output = np.where(binary_mask == 255, ob_image, bg_image2)\n",
    "\n",
    "    return output"
   ]
  },
  {
   "cell_type": "code",
   "execution_count": 34,
   "id": "0750efcb",
   "metadata": {},
   "outputs": [
    {
     "name": "stdout",
     "output_type": "stream",
     "text": [
      "[[211 211 211 ... 211 211 211]\n",
      " [211 211 211 ... 211 211 211]\n",
      " [211 211 211 ... 211 211 211]\n",
      " ...\n",
      " [211 211 211 ... 211 211 211]\n",
      " [211 211 211 ... 211 211 211]\n",
      " [195 196 196 ... 194 194 195]]\n"
     ]
    }
   ],
   "source": [
    "bg_image1 = bg\n",
    "bg_image2 = new_bg\n",
    "ob_image = img\n",
    "\n",
    "difference = computeDifference(bg_image1, ob_image)\n",
    "print(difference)\n",
    "binary_mask = computeBinaryMask(difference)\n",
    "# plt.imshow(binary_mask)\n",
    "\n",
    "# output2 = replaceBackground(bg_image1, bg_image2, ob_image)\n",
    "# cv2.imwrite(\"data/ComputerVidion/output2.png\", output2)\n",
    "\n",
    "# plt.imshow(output2)"
   ]
  },
  {
   "cell_type": "code",
   "execution_count": null,
   "id": "add7cd22",
   "metadata": {},
   "outputs": [],
   "source": []
  }
 ],
 "metadata": {
  "kernelspec": {
   "display_name": ".venv",
   "language": "python",
   "name": "python3"
  },
  "language_info": {
   "codemirror_mode": {
    "name": "ipython",
    "version": 3
   },
   "file_extension": ".py",
   "mimetype": "text/x-python",
   "name": "python",
   "nbconvert_exporter": "python",
   "pygments_lexer": "ipython3",
   "version": "3.11.8"
  }
 },
 "nbformat": 4,
 "nbformat_minor": 5
}
