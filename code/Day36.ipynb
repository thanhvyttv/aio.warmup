{
 "cells": [
  {
   "cell_type": "code",
   "execution_count": 2,
   "metadata": {},
   "outputs": [
    {
     "name": "stdout",
     "output_type": "stream",
     "text": [
      "Connection successful!\n"
     ]
    }
   ],
   "source": [
    "import mysql.connector\n",
    "\n",
    "try:\n",
    "    db = mysql.connector.connect(\n",
    "        host=\"localhost\",\n",
    "        user=\"aio2025\",\n",
    "        password=\"aio2025\",\n",
    "        database=\"aio2025\"\n",
    "    )\n",
    "    print(\"Connection successful!\")\n",
    "\n",
    "except mysql.connector.Error as err:\n",
    "    print(f\"Error: {err}\")\n",
    "    exit()"
   ]
  },
  {
   "cell_type": "code",
   "execution_count": null,
   "metadata": {},
   "outputs": [],
   "source": [
    "cursor = db.cursor()\n",
    "\n",
    "# Create table products\n",
    "cursor.execute(\"\"\"\n",
    "CREATE TABLE aio2025.products(\n",
    "               product_id int auto_increment NOT NULL,\n",
    "               product_name varchar(100) NOT NULL,\n",
    "               category varchar(50),\n",
    "               price decimal(10,2),\n",
    "               stock_quantity int,\n",
    "               CONSTRAINT products_pk PRIMARY KEY (product_id)\n",
    "               );\n",
    "\"\"\")\n",
    "\n",
    "db.commit()"
   ]
  },
  {
   "cell_type": "code",
   "execution_count": null,
   "metadata": {},
   "outputs": [],
   "source": [
    "# Create table customers\n",
    "cursor.execute(\"\"\"\n",
    "CREATE TABLE aio2025.customers(\n",
    "               customer_id int auto_increment NOT NULL,\n",
    "               fullname varchar(100),\n",
    "               phone_number varchar(50),\n",
    "               email varchar(100),\n",
    "               CONSTRAINT customers_pk PRIMARY KEY (customer_id),\n",
    "               CONSTRAINT customers_unique UNIQUE KEY (phone_number, email)\n",
    "               );\n",
    "\"\"\")\n",
    "\n",
    "db.commit()"
   ]
  },
  {
   "cell_type": "code",
   "execution_count": null,
   "metadata": {},
   "outputs": [],
   "source": []
  }
 ],
 "metadata": {
  "kernelspec": {
   "display_name": ".venv",
   "language": "python",
   "name": "python3"
  },
  "language_info": {
   "codemirror_mode": {
    "name": "ipython",
    "version": 3
   },
   "file_extension": ".py",
   "mimetype": "text/x-python",
   "name": "python",
   "nbconvert_exporter": "python",
   "pygments_lexer": "ipython3",
   "version": "3.11.9"
  }
 },
 "nbformat": 4,
 "nbformat_minor": 2
}
