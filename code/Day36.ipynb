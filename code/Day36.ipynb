{
 "cells": [
  {
   "cell_type": "code",
   "execution_count": 2,
   "metadata": {},
   "outputs": [
    {
     "name": "stdout",
     "output_type": "stream",
     "text": [
      "Connection successful!\n"
     ]
    }
   ],
   "source": [
    "import mysql.connector\n",
    "\n",
    "try:\n",
    "    db = mysql.connector.connect(\n",
    "        host=\"localhost\",\n",
    "        user=\"aio2025\",\n",
    "        password=\"aio2025\",\n",
    "        database=\"aio2025\"\n",
    "    )\n",
    "    print(\"Connection successful!\")\n",
    "\n",
    "except mysql.connector.Error as err:\n",
    "    print(f\"Error: {err}\")\n",
    "    exit()"
   ]
  },
  {
   "cell_type": "code",
   "execution_count": 4,
   "metadata": {},
   "outputs": [],
   "source": [
    "cursor = db.cursor()"
   ]
  },
  {
   "cell_type": "code",
   "execution_count": null,
   "metadata": {},
   "outputs": [],
   "source": [
    "# Create table products\n",
    "cursor.execute(\"\"\"\n",
    "CREATE TABLE aio2025.products(\n",
    "               product_id int auto_increment NOT NULL,\n",
    "               product_name varchar(100) NOT NULL,\n",
    "               category varchar(50),\n",
    "               price decimal(10,2),\n",
    "               stock_quantity int,\n",
    "               CONSTRAINT products_pk PRIMARY KEY (product_id)\n",
    "               );\n",
    "\"\"\")\n",
    "\n",
    "db.commit()"
   ]
  },
  {
   "cell_type": "code",
   "execution_count": null,
   "metadata": {},
   "outputs": [],
   "source": [
    "# Create table customers\n",
    "cursor.execute(\"\"\"\n",
    "CREATE TABLE aio2025.customers(\n",
    "               customer_id int auto_increment NOT NULL,\n",
    "               fullname varchar(100),\n",
    "               phone_number varchar(15),\n",
    "               email varchar(100),\n",
    "               CONSTRAINT customers_pk PRIMARY KEY (customer_id),\n",
    "               CONSTRAINT customers_unique UNIQUE KEY (phone_number, email)\n",
    "               );\n",
    "\"\"\")\n",
    "\n",
    "db.commit()"
   ]
  },
  {
   "cell_type": "code",
   "execution_count": 6,
   "metadata": {},
   "outputs": [],
   "source": [
    "cursor.execute(\"\"\"\n",
    "CREATE TABLE aio2025.salespersons(\n",
    "               salesperson_id int auto_increment NOT NULL,\n",
    "               fullname varchar(100),\n",
    "               phone_number varchar(15),\n",
    "               CONSTRAINT salespersons_pk PRIMARY KEY(salesperson_id),\n",
    "               CONSTRAINT salsepersons_unique UNIQUE(phone_number)\n",
    "               );\n",
    "\"\"\")\n",
    "\n",
    "db.commit()"
   ]
  },
  {
   "cell_type": "code",
   "execution_count": 15,
   "metadata": {},
   "outputs": [],
   "source": [
    "cursor.execute(\"\"\"\n",
    "CREATE TABLE aio2025.orders(\n",
    "               order_id int auto_increment NOT NULL PRIMARY KEY,\n",
    "               customer_id int NOT NULL,\n",
    "               salesperson_id int NOT NULL,\n",
    "               order_date date,\n",
    "               total_amount decimal(10,2),\n",
    "               CONSTRAINT orders_fk_customers FOREIGN KEY (customer_id) REFERENCES customers(customer_id),\n",
    "               CONSTRAINT orders_fk_salespersons FOREIGN KEY (salesperson_id) REFERENCES salespersons(salesperson_id)\n",
    "               );\n",
    "\"\"\")\n",
    "\n",
    "db.commit()"
   ]
  },
  {
   "cell_type": "code",
   "execution_count": 16,
   "metadata": {},
   "outputs": [],
   "source": [
    "cursor.execute(\"\"\"\n",
    "CREATE TABLE aio2025.orderdetails(\n",
    "               order_detail_id int auto_increment NOT NULL PRIMARY KEY,\n",
    "               order_id int not null,\n",
    "               product_id int not null,\n",
    "               quantity int,\n",
    "               subtotal decimal(10,2),\n",
    "               CONSTRAINT orderdetails_fk_orders FOREIGN KEY (order_id) REFERENCES orders(order_id),\n",
    "               CONSTRAINT orderdetails_fk_products FOREIGN KEY (product_id) REFERENCES products(product_id)\n",
    "               );\n",
    "\"\"\")\n",
    "\n",
    "db.commit()"
   ]
  },
  {
   "cell_type": "code",
   "execution_count": 18,
   "metadata": {},
   "outputs": [],
   "source": [
    "cursor.execute(\"\"\"\n",
    "               INSERT INTO aio2025.products(product_id, product_name, category, price, stock_quantity)\n",
    "               VALUES\n",
    "               (1, 'Laptop Dell XPS', 'Laptop', 25000000, 10),\n",
    "               (2, 'iPhone 14', 'Điện thoại', 22000000, 15),\n",
    "               (3, 'Tai nghe Sony', 'Phụ kiện', 3000000, 20),\n",
    "               (4, 'Bàn phím Cơ', 'Phụ kiện', 1500000, 50),\n",
    "               (5, 'MacBook Air M2', 'Laptop', 28000000, 8);         \n",
    "               \"\"\")\n",
    "\n",
    "db.commit()"
   ]
  },
  {
   "cell_type": "code",
   "execution_count": 19,
   "metadata": {},
   "outputs": [],
   "source": [
    "cursor.execute(\"\"\"\n",
    "               INSERT INTO aio2025.customers(customer_id, fullname, phone_number, email)\n",
    "               VALUES\n",
    "               (1, 'Nguyễn Văn A', 987654321, 'a@example.com'),\n",
    "               (2, 'Trần Thị B', 976543210, 'b@example.com'),\n",
    "               (3, 'Lê Văn C', 965432109, 'c@example.com'),\n",
    "               (4, 'Phạm Thị D', 945678123, 'd@example.com'),\n",
    "               (5, 'Bùi Văn E', 936789123, 'e@example.com');\n",
    "               \"\"\")\n",
    "\n",
    "db.commit()"
   ]
  },
  {
   "cell_type": "code",
   "execution_count": 20,
   "metadata": {},
   "outputs": [],
   "source": [
    "cursor.execute(\"\"\"\n",
    "               INSERT INTO aio2025.salespersons(salesperson_id, fullname, phone_number)\n",
    "               VALUES\n",
    "               (1, 'Lê Hoàng Nam', 934567890),\n",
    "               (2, 'Trần Quốc Bảo', 945678123),\n",
    "               (3, 'Nguyễn Minh Hà', 956789123);\n",
    "               \"\"\")\n",
    "\n",
    "db.commit()"
   ]
  },
  {
   "cell_type": "code",
   "execution_count": 21,
   "metadata": {},
   "outputs": [],
   "source": [
    "cursor.execute(\"\"\"\n",
    "               INSERT INTO aio2025.orders(order_id, customer_id, salesperson_id, order_date, total_amount)\n",
    "               VALUES\n",
    "               (1, 1, 1, '2024-03-10', 25000000),\n",
    "               (2, 2, 2, '2024-03-11', 3000000),\n",
    "               (3, 3, 3, '2024-03-12', 22000000);\n",
    "               \"\"\")\n",
    "\n",
    "db.commit()"
   ]
  },
  {
   "cell_type": "code",
   "execution_count": 22,
   "metadata": {},
   "outputs": [],
   "source": [
    "cursor.execute(\"\"\"\n",
    "               INSERT INTO aio2025.orderdetails(order_detail_id, order_id, product_id, quantity, subtotal)\n",
    "               VALUES\n",
    "               (1, 1, 1, 1, 25000000),\n",
    "               (2, 2, 3, 1, 3000000),\n",
    "               (3, 3, 2, 1, 22000000);\n",
    "               \"\"\")\n",
    "\n",
    "db.commit()"
   ]
  },
  {
   "cell_type": "code",
   "execution_count": null,
   "metadata": {},
   "outputs": [],
   "source": [
    "sql = \"SELECT * FROM orders WHERE customer_id = 1\"\n"
   ]
  }
 ],
 "metadata": {
  "kernelspec": {
   "display_name": ".venv",
   "language": "python",
   "name": "python3"
  },
  "language_info": {
   "codemirror_mode": {
    "name": "ipython",
    "version": 3
   },
   "file_extension": ".py",
   "mimetype": "text/x-python",
   "name": "python",
   "nbconvert_exporter": "python",
   "pygments_lexer": "ipython3",
   "version": "3.11.9"
  }
 },
 "nbformat": 4,
 "nbformat_minor": 2
}
