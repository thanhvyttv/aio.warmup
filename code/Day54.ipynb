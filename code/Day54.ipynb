{
 "cells": [
  {
   "cell_type": "code",
   "execution_count": null,
   "id": "29c89bb1",
   "metadata": {},
   "outputs": [
    {
     "name": "stdout",
     "output_type": "stream",
     "text": [
      "E[X] =  2.0999999999999996\n"
     ]
    }
   ],
   "source": [
    "import numpy as np\n",
    "\n",
    "x = np.array([1, 2, 3])\n",
    "p = np.array([0.2, 0.5, 0.3])\n",
    "expectation = np.sum(x * p)\n",
    "print(\"E[X] = \", expectation)"
   ]
  },
  {
   "cell_type": "code",
   "execution_count": null,
   "id": "9bcbdc61",
   "metadata": {},
   "outputs": [
    {
     "name": "stdout",
     "output_type": "stream",
     "text": [
      "E[X]:  5.4\n"
     ]
    }
   ],
   "source": [
    "X = np.array([2, 4, 6, 8])\n",
    "p = np.array([0.1, 0.3, 0.4, 0.2])\n",
    "expectation = np.sum(X * p)\n",
    "print(\"E[X]: \", expectation)"
   ]
  },
  {
   "cell_type": "code",
   "execution_count": 3,
   "id": "fc4530fb",
   "metadata": {},
   "outputs": [
    {
     "name": "stdout",
     "output_type": "stream",
     "text": [
      "4.9924584111423504\n"
     ]
    }
   ],
   "source": [
    "data = np.random.normal(5, 2, 10000)\n",
    "expectation = np.mean(data)\n",
    "print(expectation)"
   ]
  },
  {
   "cell_type": "code",
   "execution_count": null,
   "id": "f746921f",
   "metadata": {},
   "outputs": [
    {
     "name": "stdout",
     "output_type": "stream",
     "text": [
      "Expected Binary Cross-Entropy Loss = 0.30809306971190853\n"
     ]
    }
   ],
   "source": [
    "y_pred = np.array([0.1, 0.4, 0.6, 0.9])\n",
    "y_true = np.array([0, 0, 1, 1])\n",
    "epsilon = 1e-15  # để tránh log(0)\n",
    "\n",
    "# Bất kỳ giá trị nào trong y_pred nhỏ hơn epsilon sẽ được thay thế bằng epsilon.\n",
    "# Bất kỳ giá trị nào trong y_pred lớn hơn 1 - epsilon sẽ được thay thế bằng 1 - epsilon.\n",
    "y_pred = np.clip(y_pred, epsilon, 1 - epsilon)\n",
    "\n",
    "loss = -np.mean(y_true * np.log(y_pred) + (1 - y_true) * np.log(1 - y_pred))\n",
    "print(\"Expected Binary Cross-Entropy Loss =\", loss)"
   ]
  },
  {
   "cell_type": "code",
   "execution_count": null,
   "id": "41b5c393",
   "metadata": {},
   "outputs": [
    {
     "name": "stdout",
     "output_type": "stream",
     "text": [
      "4.86\n"
     ]
    }
   ],
   "source": [
    "rewards = np.random.choice(\n",
    "    np.arange(0, 11),\n",
    "    size=100,\n",
    "    p=[0.05, 0.1, 0.1, 0.15, 0.1, 0.1, 0.1, 0.1, 0.05, 0.1, 0.05],\n",
    ")\n",
    "rewards_expectation = np.mean(rewards)\n",
    "print(rewards_expectation)"
   ]
  },
  {
   "cell_type": "code",
   "execution_count": null,
   "id": "9e1dafe8",
   "metadata": {},
   "outputs": [
    {
     "name": "stdout",
     "output_type": "stream",
     "text": [
      "[0 1]\n",
      "Model 1 Loss: 0.5249110622493389\n",
      "Model 2 Loss: 0.7135581778200728\n"
     ]
    }
   ],
   "source": [
    "model1 = np.array([[0.2, 0.5, 0.3], [0.1, 0.7, 0.2]])\n",
    "model2 = np.array([[0.3, 0.4, 0.3], [0.2, 0.6, 0.2]])\n",
    "\n",
    "labels = np.array([1, 1])\n",
    "\n",
    "epsilon = 1e-15\n",
    "\n",
    "model1_pred = np.clip(model1, epsilon, 1 - epsilon)\n",
    "model2_pred = np.clip(model2, epsilon, 1 - epsilon)\n",
    "prob1 = model1_pred[np.arange(len(labels)), labels] #fancy indexing\n",
    "prob2 = model2_pred[np.arange(len(labels)), labels] #fancy indexing\n",
    "loss1 = -np.mean(np.log(prob1))\n",
    "loss2 = -np.mean(np.log(prob2))\n",
    "\n",
    "print(f\"Model 1 Loss: {loss1}\")\n",
    "print(f\"Model 2 Loss: {loss2}\")"
   ]
  },
  {
   "cell_type": "code",
   "execution_count": null,
   "id": "df6046f4",
   "metadata": {},
   "outputs": [],
   "source": []
  }
 ],
 "metadata": {
  "kernelspec": {
   "display_name": ".venv",
   "language": "python",
   "name": "python3"
  },
  "language_info": {
   "codemirror_mode": {
    "name": "ipython",
    "version": 3
   },
   "file_extension": ".py",
   "mimetype": "text/x-python",
   "name": "python",
   "nbconvert_exporter": "python",
   "pygments_lexer": "ipython3",
   "version": "3.11.8"
  }
 },
 "nbformat": 4,
 "nbformat_minor": 5
}
