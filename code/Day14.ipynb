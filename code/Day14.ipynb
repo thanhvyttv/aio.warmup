{
 "cells": [
  {
   "cell_type": "code",
   "execution_count": null,
   "metadata": {},
   "outputs": [
    {
     "name": "stdout",
     "output_type": "stream",
     "text": [
      "{'học': 0.25, 'Tôi': 0.25, 'tuệ': 0.0, 'trí': 0.0, 'tạo': 0.0, 'siêu': 0.0, 'AGI': 0.0, 'nhân': 0.0, 'AI': 0.25, 'là': 0.0, 'thích': 0.25}\n",
      "{'học': 0.0, 'Tôi': 0.0, 'tuệ': 0.16666666666666666, 'trí': 0.16666666666666666, 'tạo': 0.16666666666666666, 'siêu': 0.0, 'AGI': 0.0, 'nhân': 0.16666666666666666, 'AI': 0.16666666666666666, 'là': 0.16666666666666666, 'thích': 0.0}\n",
      "{'học': 0.0, 'Tôi': 0.0, 'tuệ': 0.14285714285714285, 'trí': 0.14285714285714285, 'tạo': 0.14285714285714285, 'siêu': 0.14285714285714285, 'AGI': 0.14285714285714285, 'nhân': 0.14285714285714285, 'AI': 0.0, 'là': 0.14285714285714285, 'thích': 0.0}\n"
     ]
    }
   ],
   "source": [
    "import numpy as np\n",
    "import math\n",
    "\n",
    "documents = ['Tôi thích học AI', 'AI là trí tuệ nhân tạo', 'AGI là siêu trí tuệ nhân tạo']\n",
    "\n",
    "# Tạo list từ có trong document\n",
    "words = set()\n",
    "for doc in documents:\n",
    "    words.update(doc.split())\n",
    "words = list(words)\n",
    "\n",
    "# Đo lường tần suất xuất hiện của một từ trong tài liệu\n",
    "def compute_tf(doc):\n",
    "    tf = {}\n",
    "    doc_word = doc.split()\n",
    "    for word in words:\n",
    "        tf[word] = doc_word.count(word)/len(doc_word)\n",
    "    return tf\n",
    "\n",
    "for doc in documents:\n",
    "    print(compute_tf(doc))"
   ]
  },
  {
   "cell_type": "code",
   "execution_count": null,
   "metadata": {},
   "outputs": [],
   "source": [
    "# Đo lường mức độ phổ biến của một từ trong tập hợp các tài liệu\n",
    "def compute_idf(word):\n",
    "    doc_count = sum(1 for doc in documents if word in doc.split())\n",
    "    return math.log(len(documents)/(1 + doc_count))\n"
   ]
  },
  {
   "cell_type": "code",
   "execution_count": null,
   "metadata": {},
   "outputs": [
    {
     "name": "stdout",
     "output_type": "stream",
     "text": [
      "\n",
      "Danh sách tất cả các từ trong tập tài liệu:\n",
      "['học', 'Tôi', 'tuệ', 'trí', 'tạo', 'siêu', 'AGI', 'nhân', 'AI', 'là', 'thích']\n",
      "\n",
      "TF-IDF cho từng tài liệu:\n",
      "\n",
      "Tài liệu 1:\n",
      "học: 0.1014\n",
      "Tôi: 0.1014\n",
      "tuệ: 0.0000\n",
      "trí: 0.0000\n",
      "tạo: 0.0000\n",
      "siêu: 0.0000\n",
      "AGI: 0.0000\n",
      "nhân: 0.0000\n",
      "AI: 0.0000\n",
      "là: 0.0000\n",
      "thích: 0.1014\n",
      "\n",
      "Tài liệu 2:\n",
      "học: 0.0000\n",
      "Tôi: 0.0000\n",
      "tuệ: 0.0000\n",
      "trí: 0.0000\n",
      "tạo: 0.0000\n",
      "siêu: 0.0000\n",
      "AGI: 0.0000\n",
      "nhân: 0.0000\n",
      "AI: 0.0000\n",
      "là: 0.0000\n",
      "thích: 0.0000\n",
      "\n",
      "Tài liệu 3:\n",
      "học: 0.0000\n",
      "Tôi: 0.0000\n",
      "tuệ: 0.0000\n",
      "trí: 0.0000\n",
      "tạo: 0.0000\n",
      "siêu: 0.0579\n",
      "AGI: 0.0579\n",
      "nhân: 0.0000\n",
      "AI: 0.0000\n",
      "là: 0.0000\n",
      "thích: 0.0000\n"
     ]
    }
   ],
   "source": [
    "# tích của TF và IDF, giúp xác định tầm quan trọng của một từ trong một tài liệu cụ thể, \n",
    "# đồng thời giảm thiểu ảnh hưởng của các từ phổ biến nhưng ít mang ý nghĩa.\n",
    "\n",
    "tf_idf = []\n",
    "for doc in documents:\n",
    "    doc_tf = compute_tf(doc)\n",
    "    doc_tfidf = {}\n",
    "    for word in words:\n",
    "        doc_tfidf[word] = doc_tf[word] * compute_idf(word)\n",
    "    tf_idf.append(doc_tfidf)\n",
    "\n",
    "print(\"\\nDanh sách tất cả các từ trong tập tài liệu:\")\n",
    "print(words)\n",
    "\n",
    "print(\"\\nTF-IDF cho từng tài liệu:\")\n",
    "for i, doc_tfidf in enumerate(tf_idf):\n",
    "    print(f\"\\nTài liệu {i+1}:\")\n",
    "    for word, score in doc_tfidf.items():\n",
    "        print(f\"{word}: {score:.4f}\")"
   ]
  },
  {
   "cell_type": "code",
   "execution_count": null,
   "metadata": {},
   "outputs": [],
   "source": []
  }
 ],
 "metadata": {
  "kernelspec": {
   "display_name": "Python 3",
   "language": "python",
   "name": "python3"
  },
  "language_info": {
   "codemirror_mode": {
    "name": "ipython",
    "version": 3
   },
   "file_extension": ".py",
   "mimetype": "text/x-python",
   "name": "python",
   "nbconvert_exporter": "python",
   "pygments_lexer": "ipython3",
   "version": "3.11.8"
  }
 },
 "nbformat": 4,
 "nbformat_minor": 2
}
