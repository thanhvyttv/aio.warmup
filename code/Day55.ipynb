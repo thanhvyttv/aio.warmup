{
 "cells": [
  {
   "cell_type": "code",
   "execution_count": 1,
   "id": "0f242454",
   "metadata": {},
   "outputs": [
    {
     "name": "stdout",
     "output_type": "stream",
     "text": [
      "Population Variance: 2.0\n",
      "Sample Variance: 2.5\n"
     ]
    }
   ],
   "source": [
    "import numpy as np\n",
    "\n",
    "data = np.array([1, 2, 3, 4, 5])\n",
    "\n",
    "population_var = np.var(data) #khi không có tham số ddof (delta degrees of freedom) được chỉ định, np.var() sẽ tính toán phương sai theo công thức dành cho tổng thể\n",
    "sample_var = np.var(data, ddof=1) #Tham số ddof xác định số lượng bậc tự do được sử dụng trong phép tính. Khi ddof=1, np.var() sẽ tính toán phương sai mẫu (sample variance) của dữ liệu.\n",
    "\n",
    "print(\"Population Variance:\", population_var)\n",
    "print(\"Sample Variance:\", sample_var)"
   ]
  },
  {
   "cell_type": "code",
   "execution_count": 4,
   "id": "7910c8e9",
   "metadata": {},
   "outputs": [
    {
     "name": "stdout",
     "output_type": "stream",
     "text": [
      "Expectation E[X] = 3.2\n",
      "Variance Var(X) = 1.96\n"
     ]
    }
   ],
   "source": [
    "X = np.array([1, 3, 5])\n",
    "p = np.array([0.2, 0.5, 0.3])\n",
    "expectation = np.sum(X * p)\n",
    "\n",
    "# variance E[(X - E[X])^2]\n",
    "variance = np.sum((X - expectation) ** 2 * p)\n",
    "print(\"Expectation E[X] =\", expectation)\n",
    "print(\"Variance Var(X) =\", variance)"
   ]
  },
  {
   "cell_type": "code",
   "execution_count": 5,
   "id": "46c2a4da",
   "metadata": {},
   "outputs": [
    {
     "name": "stdout",
     "output_type": "stream",
     "text": [
      "Population Variance: 3.977265211271271\n",
      "Sample Variance: 3.981246457729\n"
     ]
    }
   ],
   "source": [
    "data = np.random.normal(loc=0, scale=2, size=1000)\n",
    "\n",
    "population_var = np.var(data)\n",
    "sample_var = np.var(data, ddof=1)\n",
    "print(\"Population Variance:\", population_var)\n",
    "print(\"Sample Variance:\", sample_var)\n"
   ]
  },
  {
   "cell_type": "code",
   "execution_count": 7,
   "id": "8cea8323",
   "metadata": {},
   "outputs": [
    {
     "name": "stdout",
     "output_type": "stream",
     "text": [
      "Variance of Model A: 0.006250000000000002\n",
      "Variance of Model B: 0.065\n",
      "Model A is more stable.\n"
     ]
    }
   ],
   "source": [
    "model_a_scores = np.array([0.8, 0.7, 0.9, 0.75, 0.85])\n",
    "model_b_scores = np.array([0.6, 0.4, 0.9, 0.3, 0.8])\n",
    "\n",
    "var_model_a = np.var(model_a_scores, ddof=1)\n",
    "var_model_b = np.var(model_b_scores, ddof=1)\n",
    "\n",
    "print(\"Variance of Model A:\", var_model_a)\n",
    "print(\"Variance of Model B:\", var_model_b)\n",
    "\n",
    "if var_model_a < var_model_b:\n",
    "    print(\"Model A is more stable.\")\n",
    "else:\n",
    "    print(\"Model B is more stable.\")"
   ]
  },
  {
   "cell_type": "code",
   "execution_count": 8,
   "id": "7a11202a",
   "metadata": {},
   "outputs": [
    {
     "name": "stdout",
     "output_type": "stream",
     "text": [
      "Pixel Mean Variance = 2.5\n"
     ]
    }
   ],
   "source": [
    "pixel_means = np.array([122, 120, 119, 123, 121])\n",
    "\n",
    "pixel_variance = np.var(pixel_means,ddof=1)\n",
    "print(\"Pixel Mean Variance =\", pixel_variance)"
   ]
  },
  {
   "cell_type": "code",
   "execution_count": 9,
   "id": "5f5148f7",
   "metadata": {},
   "outputs": [
    {
     "name": "stdout",
     "output_type": "stream",
     "text": [
      "Rewards Variance = 3.066666666666667\n"
     ]
    }
   ],
   "source": [
    "rewards = np.array([10, 9, 8, 10, 7, 6, 9, 10, 5, 8])\n",
    "\n",
    "rewards_variance = np.var(rewards, ddof=1)\n",
    "print(\"Rewards Variance =\", rewards_variance)\n"
   ]
  }
 ],
 "metadata": {
  "kernelspec": {
   "display_name": ".venv",
   "language": "python",
   "name": "python3"
  },
  "language_info": {
   "codemirror_mode": {
    "name": "ipython",
    "version": 3
   },
   "file_extension": ".py",
   "mimetype": "text/x-python",
   "name": "python",
   "nbconvert_exporter": "python",
   "pygments_lexer": "ipython3",
   "version": "3.11.8"
  }
 },
 "nbformat": 4,
 "nbformat_minor": 5
}
